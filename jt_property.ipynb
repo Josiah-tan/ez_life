{
  "nbformat": 4,
  "nbformat_minor": 0,
  "metadata": {
    "colab": {
      "name": "jt_property.ipynb",
      "provenance": [],
      "authorship_tag": "ABX9TyPqfbV5Cgs7rqCpxTlG9rrw",
      "include_colab_link": true
    },
    "kernelspec": {
      "name": "python3",
      "display_name": "Python 3"
    }
  },
  "cells": [
    {
      "cell_type": "markdown",
      "metadata": {
        "id": "view-in-github",
        "colab_type": "text"
      },
      "source": [
        "<a href=\"https://colab.research.google.com/github/Josiah-tan/py_misc/blob/main/jt_property.ipynb\" target=\"_parent\"><img src=\"https://colab.research.google.com/assets/colab-badge.svg\" alt=\"Open In Colab\"/></a>"
      ]
    },
    {
      "cell_type": "code",
      "metadata": {
        "id": "m5S7LvCDVHxe"
      },
      "source": [
        "class PropDemo:\n",
        "  def __init__(self):\n",
        "    self._prop1 = None\n",
        "    self._prop2 = None\n",
        "    self._prop3 = None\n",
        "  \n",
        "  @property\n",
        "  def prop1(self):\n",
        "    if self._prop1 is None:\n",
        "      self._prop1 = self.get_prop1()\n",
        "    return self._prop1\n",
        "\n",
        "  @property\n",
        "  def prop2(self):\n",
        "    if self._prop2 is None:\n",
        "      self._prop2 = self.get_prop2()\n",
        "    return self._prop2\n",
        "\n",
        "  @property\n",
        "  def prop3(self):\n",
        "    if self._prop3 is None:\n",
        "      self._prop3 = self.get_prop3()\n",
        "    return self._prop3\n",
        "  \n",
        "  def get_prop1(self):\n",
        "    return 1\n",
        "  def get_prop2(self):\n",
        "    return self.prop1 + 1\n",
        "  def get_prop3(self):\n",
        "    return self.prop2 + 1\n",
        "  \n"
      ],
      "execution_count": 1,
      "outputs": []
    },
    {
      "cell_type": "code",
      "metadata": {
        "colab": {
          "base_uri": "https://localhost:8080/"
        },
        "id": "yX9oKePRXcJ-",
        "outputId": "0346df99-10fd-4ceb-810f-00e5f8b0286d"
      },
      "source": [
        "prop_dem = PropDemo()\n",
        "print(prop_dem.prop3)"
      ],
      "execution_count": 2,
      "outputs": [
        {
          "output_type": "stream",
          "text": [
            "3\n"
          ],
          "name": "stdout"
        }
      ]
    },
    {
      "cell_type": "code",
      "metadata": {
        "id": "ndQ3-0qkYkyN"
      },
      "source": [
        "import functools\n",
        "class JTProperty:\n",
        "  def __init__(self):\n",
        "    pass\n",
        "  def __call__(self, _func):\n",
        "    self._prop = None\n",
        "    @property\n",
        "    @functools.wraps(_func)\n",
        "    def wrapper(obj):\n",
        "      if self._prop is None:\n",
        "        self._prop = _func(obj)\n",
        "      return self._prop\n",
        "    return wrapper"
      ],
      "execution_count": 3,
      "outputs": []
    },
    {
      "cell_type": "code",
      "metadata": {
        "id": "rpW6e30EXXfv"
      },
      "source": [
        "class PropDemo:\n",
        "  def __init__(self):\n",
        "    pass\n",
        "  \n",
        "  @JTProperty()\n",
        "  def prop1(self):\n",
        "    return 1\n",
        "\n",
        "  @JTProperty()\n",
        "  def prop2(self):\n",
        "    return self.prop1 + 1\n",
        "\n",
        "  @JTProperty()\n",
        "  def prop3(self):\n",
        "    return self.prop2 + 1\n",
        "  "
      ],
      "execution_count": 4,
      "outputs": []
    },
    {
      "cell_type": "code",
      "metadata": {
        "id": "IzcG0AH0hlVC",
        "colab": {
          "base_uri": "https://localhost:8080/"
        },
        "outputId": "fa1ed734-1b08-4279-cb84-4589a1f37f22"
      },
      "source": [
        "prop_dem = PropDemo()\n",
        "print(prop_dem.prop3)\n"
      ],
      "execution_count": 5,
      "outputs": [
        {
          "output_type": "stream",
          "text": [
            "3\n"
          ],
          "name": "stdout"
        }
      ]
    },
    {
      "cell_type": "code",
      "metadata": {
        "id": "xzvbcohJdtjo"
      },
      "source": [
        "class SetAndGet:\n",
        "  def __init__(self):\n",
        "    self._radius = None\n",
        "  def getRadius(self):\n",
        "    return 2\n",
        "  @property\n",
        "  def radius(self):\n",
        "    if self._radius is None:\n",
        "      setattr(self, 'radius', self.getRadius())\n",
        "      ##self.radius = self.getRadius()\n",
        "    return self._radius\n",
        "  @radius.setter\n",
        "  def radius(self, r):\n",
        "    if r <= 0:\n",
        "      raise ValueError(\"radius should be greater than 0\")\n",
        "    self._radius = r\n"
      ],
      "execution_count": 6,
      "outputs": []
    },
    {
      "cell_type": "code",
      "metadata": {
        "colab": {
          "base_uri": "https://localhost:8080/",
          "height": 363
        },
        "id": "zEKrjBv8rRg9",
        "outputId": "b7866fb4-119c-4adf-8a27-695f551b9fa4"
      },
      "source": [
        "setandget = SetAndGet()\n",
        "print(setandget.radius)\n",
        "setandget.radius = 5\n",
        "print(setandget.radius)\n",
        "setandget.radius = -5\n",
        "print(setandget.radius)"
      ],
      "execution_count": 7,
      "outputs": [
        {
          "output_type": "stream",
          "text": [
            "2\n",
            "5\n"
          ],
          "name": "stdout"
        },
        {
          "output_type": "error",
          "ename": "ValueError",
          "evalue": "ignored",
          "traceback": [
            "\u001b[0;31m---------------------------------------------------------------------------\u001b[0m",
            "\u001b[0;31mValueError\u001b[0m                                Traceback (most recent call last)",
            "\u001b[0;32m<ipython-input-7-13efa461d16a>\u001b[0m in \u001b[0;36m<module>\u001b[0;34m()\u001b[0m\n\u001b[1;32m      3\u001b[0m \u001b[0msetandget\u001b[0m\u001b[0;34m.\u001b[0m\u001b[0mradius\u001b[0m \u001b[0;34m=\u001b[0m \u001b[0;36m5\u001b[0m\u001b[0;34m\u001b[0m\u001b[0;34m\u001b[0m\u001b[0m\n\u001b[1;32m      4\u001b[0m \u001b[0mprint\u001b[0m\u001b[0;34m(\u001b[0m\u001b[0msetandget\u001b[0m\u001b[0;34m.\u001b[0m\u001b[0mradius\u001b[0m\u001b[0;34m)\u001b[0m\u001b[0;34m\u001b[0m\u001b[0;34m\u001b[0m\u001b[0m\n\u001b[0;32m----> 5\u001b[0;31m \u001b[0msetandget\u001b[0m\u001b[0;34m.\u001b[0m\u001b[0mradius\u001b[0m \u001b[0;34m=\u001b[0m \u001b[0;34m-\u001b[0m\u001b[0;36m5\u001b[0m\u001b[0;34m\u001b[0m\u001b[0;34m\u001b[0m\u001b[0m\n\u001b[0m\u001b[1;32m      6\u001b[0m \u001b[0mprint\u001b[0m\u001b[0;34m(\u001b[0m\u001b[0msetandget\u001b[0m\u001b[0;34m.\u001b[0m\u001b[0mradius\u001b[0m\u001b[0;34m)\u001b[0m\u001b[0;34m\u001b[0m\u001b[0;34m\u001b[0m\u001b[0m\n",
            "\u001b[0;32m<ipython-input-6-31aaf655a8bf>\u001b[0m in \u001b[0;36mradius\u001b[0;34m(self, r)\u001b[0m\n\u001b[1;32m     13\u001b[0m   \u001b[0;32mdef\u001b[0m \u001b[0mradius\u001b[0m\u001b[0;34m(\u001b[0m\u001b[0mself\u001b[0m\u001b[0;34m,\u001b[0m \u001b[0mr\u001b[0m\u001b[0;34m)\u001b[0m\u001b[0;34m:\u001b[0m\u001b[0;34m\u001b[0m\u001b[0;34m\u001b[0m\u001b[0m\n\u001b[1;32m     14\u001b[0m     \u001b[0;32mif\u001b[0m \u001b[0mr\u001b[0m \u001b[0;34m<=\u001b[0m \u001b[0;36m0\u001b[0m\u001b[0;34m:\u001b[0m\u001b[0;34m\u001b[0m\u001b[0;34m\u001b[0m\u001b[0m\n\u001b[0;32m---> 15\u001b[0;31m       \u001b[0;32mraise\u001b[0m \u001b[0mValueError\u001b[0m\u001b[0;34m(\u001b[0m\u001b[0;34m\"radius should be greater than 0\"\u001b[0m\u001b[0;34m)\u001b[0m\u001b[0;34m\u001b[0m\u001b[0;34m\u001b[0m\u001b[0m\n\u001b[0m\u001b[1;32m     16\u001b[0m     \u001b[0mself\u001b[0m\u001b[0;34m.\u001b[0m\u001b[0m_radius\u001b[0m \u001b[0;34m=\u001b[0m \u001b[0mr\u001b[0m\u001b[0;34m\u001b[0m\u001b[0;34m\u001b[0m\u001b[0m\n",
            "\u001b[0;31mValueError\u001b[0m: radius should be greater than 0"
          ]
        }
      ]
    },
    {
      "cell_type": "code",
      "metadata": {
        "colab": {
          "base_uri": "https://localhost:8080/",
          "height": 35
        },
        "id": "aqPB4tnWwJ7t",
        "outputId": "f09475e9-b0fe-409a-cbf3-9524bf06a733"
      },
      "source": [
        "class Foo:\n",
        "  def foo():\n",
        "    pass\n",
        "Foo().foo.__name__"
      ],
      "execution_count": 8,
      "outputs": [
        {
          "output_type": "execute_result",
          "data": {
            "application/vnd.google.colaboratory.intrinsic+json": {
              "type": "string"
            },
            "text/plain": [
              "'foo'"
            ]
          },
          "metadata": {
            "tags": []
          },
          "execution_count": 8
        }
      ]
    },
    {
      "cell_type": "markdown",
      "metadata": {
        "id": "ckleepEIrVa9"
      },
      "source": [
        "# Setters and Getters"
      ]
    },
    {
      "cell_type": "code",
      "metadata": {
        "id": "o2iaieI5twVD"
      },
      "source": [
        "import functools\n",
        "class JTProperty:\n",
        "  def __init__(self, setter = False):\n",
        "    self.setter = setter\n",
        "  def __call__(self, _func):\n",
        "    self._prop = None\n",
        "    @property\n",
        "    @functools.wraps(_func)\n",
        "    def wrapper(obj):\n",
        "      if not(self.setter):\n",
        "        if self._prop is None:\n",
        "          self._prop = _func(obj)\n",
        "        return self._prop\n",
        "      else:\n",
        "        if self._prop is None:\n",
        "          setattr(obj, _func.__name__, _func(obj))\n",
        "        self._prop = getattr(obj, f\"_{_func.__name__}\")\n",
        "        return self._prop\n",
        "    return wrapper"
      ],
      "execution_count": 9,
      "outputs": []
    },
    {
      "cell_type": "code",
      "metadata": {
        "id": "MHkIpw94sQ2_"
      },
      "source": [
        "class SetAndGet:\n",
        "  def __init__(self):\n",
        "    pass\n",
        "  @JTProperty(setter = True)\n",
        "  def radius(self):\n",
        "    return 2\n",
        "\n",
        "  @radius.setter\n",
        "  def radius(self, r):\n",
        "    #print(\"R\", r)\n",
        "    if r <= 0:\n",
        "      raise ValueError(\"radius should be greater than 0\")\n",
        "    self._radius = r\n"
      ],
      "execution_count": 10,
      "outputs": []
    },
    {
      "cell_type": "code",
      "metadata": {
        "colab": {
          "base_uri": "https://localhost:8080/",
          "height": 363
        },
        "id": "DcS0Gj-msQ2_",
        "outputId": "665abbde-9b2e-4019-96d9-6c84a2dae245"
      },
      "source": [
        "setandget = SetAndGet()\n",
        "print(setandget.radius)\n",
        "setandget.radius = 5\n",
        "print(setandget.radius)\n",
        "setandget.radius = -5\n",
        "print(setandget.radius)"
      ],
      "execution_count": 11,
      "outputs": [
        {
          "output_type": "stream",
          "text": [
            "2\n",
            "5\n"
          ],
          "name": "stdout"
        },
        {
          "output_type": "error",
          "ename": "ValueError",
          "evalue": "ignored",
          "traceback": [
            "\u001b[0;31m---------------------------------------------------------------------------\u001b[0m",
            "\u001b[0;31mValueError\u001b[0m                                Traceback (most recent call last)",
            "\u001b[0;32m<ipython-input-11-13efa461d16a>\u001b[0m in \u001b[0;36m<module>\u001b[0;34m()\u001b[0m\n\u001b[1;32m      3\u001b[0m \u001b[0msetandget\u001b[0m\u001b[0;34m.\u001b[0m\u001b[0mradius\u001b[0m \u001b[0;34m=\u001b[0m \u001b[0;36m5\u001b[0m\u001b[0;34m\u001b[0m\u001b[0;34m\u001b[0m\u001b[0m\n\u001b[1;32m      4\u001b[0m \u001b[0mprint\u001b[0m\u001b[0;34m(\u001b[0m\u001b[0msetandget\u001b[0m\u001b[0;34m.\u001b[0m\u001b[0mradius\u001b[0m\u001b[0;34m)\u001b[0m\u001b[0;34m\u001b[0m\u001b[0;34m\u001b[0m\u001b[0m\n\u001b[0;32m----> 5\u001b[0;31m \u001b[0msetandget\u001b[0m\u001b[0;34m.\u001b[0m\u001b[0mradius\u001b[0m \u001b[0;34m=\u001b[0m \u001b[0;34m-\u001b[0m\u001b[0;36m5\u001b[0m\u001b[0;34m\u001b[0m\u001b[0;34m\u001b[0m\u001b[0m\n\u001b[0m\u001b[1;32m      6\u001b[0m \u001b[0mprint\u001b[0m\u001b[0;34m(\u001b[0m\u001b[0msetandget\u001b[0m\u001b[0;34m.\u001b[0m\u001b[0mradius\u001b[0m\u001b[0;34m)\u001b[0m\u001b[0;34m\u001b[0m\u001b[0;34m\u001b[0m\u001b[0m\n",
            "\u001b[0;32m<ipython-input-10-24b366372935>\u001b[0m in \u001b[0;36mradius\u001b[0;34m(self, r)\u001b[0m\n\u001b[1;32m     10\u001b[0m     \u001b[0;31m#print(\"R\", r)\u001b[0m\u001b[0;34m\u001b[0m\u001b[0;34m\u001b[0m\u001b[0;34m\u001b[0m\u001b[0m\n\u001b[1;32m     11\u001b[0m     \u001b[0;32mif\u001b[0m \u001b[0mr\u001b[0m \u001b[0;34m<=\u001b[0m \u001b[0;36m0\u001b[0m\u001b[0;34m:\u001b[0m\u001b[0;34m\u001b[0m\u001b[0;34m\u001b[0m\u001b[0m\n\u001b[0;32m---> 12\u001b[0;31m       \u001b[0;32mraise\u001b[0m \u001b[0mValueError\u001b[0m\u001b[0;34m(\u001b[0m\u001b[0;34m\"radius should be greater than 0\"\u001b[0m\u001b[0;34m)\u001b[0m\u001b[0;34m\u001b[0m\u001b[0;34m\u001b[0m\u001b[0m\n\u001b[0m\u001b[1;32m     13\u001b[0m     \u001b[0mself\u001b[0m\u001b[0;34m.\u001b[0m\u001b[0m_radius\u001b[0m \u001b[0;34m=\u001b[0m \u001b[0mr\u001b[0m\u001b[0;34m\u001b[0m\u001b[0;34m\u001b[0m\u001b[0m\n",
            "\u001b[0;31mValueError\u001b[0m: radius should be greater than 0"
          ]
        }
      ]
    },
    {
      "cell_type": "code",
      "metadata": {
        "id": "VGlCQxySusyA"
      },
      "source": [
        "a = [3]\n",
        "b = a\n",
        "a.append(5)\n",
        "print(b)\n",
        "a = 2\n",
        "print(b)"
      ],
      "execution_count": null,
      "outputs": []
    },
    {
      "cell_type": "code",
      "metadata": {
        "id": "OLXD9Bc10V7L"
      },
      "source": [
        "class SetTest:\n",
        "  @property\n",
        "  def boom(self):\n",
        "    return 1\n",
        "    "
      ],
      "execution_count": 12,
      "outputs": []
    },
    {
      "cell_type": "code",
      "metadata": {
        "colab": {
          "base_uri": "https://localhost:8080/"
        },
        "id": "t-v7EGgFWp1Z",
        "outputId": "db1f000d-545a-4b63-f7bd-68b146788e10"
      },
      "source": [
        "set_test = SetTest()\n",
        "print(dir(SetTest.boom))"
      ],
      "execution_count": 13,
      "outputs": [
        {
          "output_type": "stream",
          "text": [
            "['__class__', '__delattr__', '__delete__', '__dir__', '__doc__', '__eq__', '__format__', '__ge__', '__get__', '__getattribute__', '__gt__', '__hash__', '__init__', '__init_subclass__', '__isabstractmethod__', '__le__', '__lt__', '__ne__', '__new__', '__reduce__', '__reduce_ex__', '__repr__', '__set__', '__setattr__', '__sizeof__', '__str__', '__subclasshook__', 'deleter', 'fdel', 'fget', 'fset', 'getter', 'setter']\n"
          ],
          "name": "stdout"
        }
      ]
    },
    {
      "cell_type": "markdown",
      "metadata": {
        "id": "yGv3pk4cZeYN"
      },
      "source": [
        "# Working with getter"
      ]
    },
    {
      "cell_type": "code",
      "metadata": {
        "colab": {
          "base_uri": "https://localhost:8080/"
        },
        "id": "CF2Q9kfGeA70",
        "outputId": "cbf9b09d-f10d-4850-c04f-2a0c4ad0a5cf"
      },
      "source": [
        "class Property(property):\n",
        "  def __init__(self, *args, **kwargs):\n",
        "    super().__init__(*args, **kwargs)\n",
        "  def setter(self, _func):\n",
        "    pass\n",
        "    #print(\"YOO\")\n",
        "    #def wrapper(obj, val):\n",
        "    #print(\"yahallooo\")\n",
        "    #print(val, obj)\n",
        "    #return super().setter(_func)\n",
        "    #return wrapper\n",
        "\n",
        "\n",
        "class SetAndGet:\n",
        "  def __init__(self):\n",
        "    self._radius = None\n",
        "  @Property\n",
        "  def radius(self):\n",
        "    return self._radius\n",
        "\n",
        "  @radius.setter\n",
        "  def radius(self, r):\n",
        "    #print(\"R\", r)\n",
        "    if r <= 0:\n",
        "      raise ValueError(\"radius should be greater than 0\")\n",
        "    #self._radius = r\n",
        "    return r\n",
        "set_and_get = SetAndGet()\n",
        "set_and_get.radius = 3\n",
        "print(set_and_get.radius)\n",
        "set_and_get.radius = 5\n",
        "print(set_and_get.radius)"
      ],
      "execution_count": 14,
      "outputs": [
        {
          "output_type": "stream",
          "text": [
            "3\n",
            "5\n"
          ],
          "name": "stdout"
        }
      ]
    },
    {
      "cell_type": "code",
      "metadata": {
        "id": "me0UKVDPWvhw"
      },
      "source": [
        "import functools\n",
        "\n",
        "class Property:\n",
        "  def __init__(self):\n",
        "    pass\n",
        "  def __call__(self, _func):\n",
        "    def wrapper(obj):\n",
        "      return _func(obj)\n",
        "    return property(wrapper)\n",
        "class Setter:\n",
        "  def __init__(self):\n",
        "    pass\n",
        "  def __call__(self,_func):\n",
        "    self.obj = None\n",
        "    def wrapper(obj, val):\n",
        "      self.obj = obj\n",
        "      return _func(obj, val)\n",
        "    \n",
        "    setter = getattr(self.obj, _func.__name__).setter\n",
        "    return setter(preprocess(wrapper))\n",
        "\n",
        "class JTProperty:\n",
        "  def __init__(self, use_setter = False):\n",
        "    self.use_setter = use_setter\n",
        "  def __call__(self, _func):\n",
        "    #return self\n",
        "    self._prop = None\n",
        "    @Property()\n",
        "    @functools.wraps(_func)\n",
        "    def wrapper(obj):\n",
        "      if not(self.use_setter):\n",
        "        if self._prop is None:\n",
        "          self._prop = _func(obj)\n",
        "        return self._prop\n",
        "      else:\n",
        "        if self._prop is None:\n",
        "          setattr(obj, _func.__name__, _func(obj))\n",
        "        self._prop = getattr(obj, f\"_{_func.__name__}\")\n",
        "        return self._prop\n",
        "    \n",
        "    \"\"\"\n",
        "    if self.use_setter:\n",
        "      #print(wrapper.set)\n",
        "      print(wrapper.__class__)\n",
        "      #setattr(wrapper, 'set', self.set(wrapper.setter))\n",
        "      self.setter(wrapper.setter)\n",
        "      #wrapper.setter = self.set(wrapper.setter)\n",
        "    \"\"\"\n",
        "    return wrapper\n",
        "  \n",
        "  def setter(self, _func):\n",
        "    print(dir(_func))\n",
        "    print((_func))\n",
        "    \"\"\"\n",
        "    @functools.wraps(_func)\n",
        "    def wrapper(self, *args, **kwargs):\n",
        "      return _func(self, *args, **kwargs)\n",
        "    return wrapper\n",
        "    \"\"\"\n",
        "def preprocess(_func):\n",
        "  def wrapper(obj, val):\n",
        "    setattr(obj, f\"_{_func.__name__}\", _func(obj, val))\n",
        "  return wrapper\n",
        "    "
      ],
      "execution_count": 15,
      "outputs": []
    },
    {
      "cell_type": "code",
      "metadata": {
        "colab": {
          "base_uri": "https://localhost:8080/",
          "height": 387
        },
        "id": "GzBniYq7Zb_N",
        "outputId": "87862dc2-31eb-4340-9a09-c8ec0a55212b"
      },
      "source": [
        "class SetAndGet:\n",
        "  def __init__(self):\n",
        "    pass\n",
        "  @JTProperty(use_setter = True)\n",
        "  def radius(self):\n",
        "    return 2\n",
        "\n",
        "  @Setter()\n",
        "  def radius(self, r):\n",
        "    #print(\"R\", r)\n",
        "    if r <= 0:\n",
        "      raise ValueError(\"radius should be greater than 0\")\n",
        "    return r"
      ],
      "execution_count": 16,
      "outputs": [
        {
          "output_type": "error",
          "ename": "AttributeError",
          "evalue": "ignored",
          "traceback": [
            "\u001b[0;31m---------------------------------------------------------------------------\u001b[0m",
            "\u001b[0;31mAttributeError\u001b[0m                            Traceback (most recent call last)",
            "\u001b[0;32m<ipython-input-16-6431e2447c0f>\u001b[0m in \u001b[0;36m<module>\u001b[0;34m()\u001b[0m\n\u001b[0;32m----> 1\u001b[0;31m \u001b[0;32mclass\u001b[0m \u001b[0mSetAndGet\u001b[0m\u001b[0;34m:\u001b[0m\u001b[0;34m\u001b[0m\u001b[0;34m\u001b[0m\u001b[0m\n\u001b[0m\u001b[1;32m      2\u001b[0m   \u001b[0;32mdef\u001b[0m \u001b[0m__init__\u001b[0m\u001b[0;34m(\u001b[0m\u001b[0mself\u001b[0m\u001b[0;34m)\u001b[0m\u001b[0;34m:\u001b[0m\u001b[0;34m\u001b[0m\u001b[0;34m\u001b[0m\u001b[0m\n\u001b[1;32m      3\u001b[0m     \u001b[0;32mpass\u001b[0m\u001b[0;34m\u001b[0m\u001b[0;34m\u001b[0m\u001b[0m\n\u001b[1;32m      4\u001b[0m   \u001b[0;34m@\u001b[0m\u001b[0mJTProperty\u001b[0m\u001b[0;34m(\u001b[0m\u001b[0muse_setter\u001b[0m \u001b[0;34m=\u001b[0m \u001b[0;32mTrue\u001b[0m\u001b[0;34m)\u001b[0m\u001b[0;34m\u001b[0m\u001b[0;34m\u001b[0m\u001b[0m\n\u001b[1;32m      5\u001b[0m   \u001b[0;32mdef\u001b[0m \u001b[0mradius\u001b[0m\u001b[0;34m(\u001b[0m\u001b[0mself\u001b[0m\u001b[0;34m)\u001b[0m\u001b[0;34m:\u001b[0m\u001b[0;34m\u001b[0m\u001b[0;34m\u001b[0m\u001b[0m\n",
            "\u001b[0;32m<ipython-input-16-6431e2447c0f>\u001b[0m in \u001b[0;36mSetAndGet\u001b[0;34m()\u001b[0m\n\u001b[1;32m      6\u001b[0m     \u001b[0;32mreturn\u001b[0m \u001b[0;36m2\u001b[0m\u001b[0;34m\u001b[0m\u001b[0;34m\u001b[0m\u001b[0m\n\u001b[1;32m      7\u001b[0m \u001b[0;34m\u001b[0m\u001b[0m\n\u001b[0;32m----> 8\u001b[0;31m   \u001b[0;34m@\u001b[0m\u001b[0mSetter\u001b[0m\u001b[0;34m(\u001b[0m\u001b[0;34m)\u001b[0m\u001b[0;34m\u001b[0m\u001b[0;34m\u001b[0m\u001b[0m\n\u001b[0m\u001b[1;32m      9\u001b[0m   \u001b[0;32mdef\u001b[0m \u001b[0mradius\u001b[0m\u001b[0;34m(\u001b[0m\u001b[0mself\u001b[0m\u001b[0;34m,\u001b[0m \u001b[0mr\u001b[0m\u001b[0;34m)\u001b[0m\u001b[0;34m:\u001b[0m\u001b[0;34m\u001b[0m\u001b[0;34m\u001b[0m\u001b[0m\n\u001b[1;32m     10\u001b[0m     \u001b[0;31m#print(\"R\", r)\u001b[0m\u001b[0;34m\u001b[0m\u001b[0;34m\u001b[0m\u001b[0;34m\u001b[0m\u001b[0m\n",
            "\u001b[0;32m<ipython-input-15-c70ac7458aa7>\u001b[0m in \u001b[0;36m__call__\u001b[0;34m(self, _func)\u001b[0m\n\u001b[1;32m     17\u001b[0m       \u001b[0;32mreturn\u001b[0m \u001b[0m_func\u001b[0m\u001b[0;34m(\u001b[0m\u001b[0mobj\u001b[0m\u001b[0;34m,\u001b[0m \u001b[0mval\u001b[0m\u001b[0;34m)\u001b[0m\u001b[0;34m\u001b[0m\u001b[0;34m\u001b[0m\u001b[0m\n\u001b[1;32m     18\u001b[0m \u001b[0;34m\u001b[0m\u001b[0m\n\u001b[0;32m---> 19\u001b[0;31m     \u001b[0msetter\u001b[0m \u001b[0;34m=\u001b[0m \u001b[0mgetattr\u001b[0m\u001b[0;34m(\u001b[0m\u001b[0mself\u001b[0m\u001b[0;34m.\u001b[0m\u001b[0mobj\u001b[0m\u001b[0;34m,\u001b[0m \u001b[0m_func\u001b[0m\u001b[0;34m.\u001b[0m\u001b[0m__name__\u001b[0m\u001b[0;34m)\u001b[0m\u001b[0;34m.\u001b[0m\u001b[0msetter\u001b[0m\u001b[0;34m\u001b[0m\u001b[0;34m\u001b[0m\u001b[0m\n\u001b[0m\u001b[1;32m     20\u001b[0m     \u001b[0;32mreturn\u001b[0m \u001b[0msetter\u001b[0m\u001b[0;34m(\u001b[0m\u001b[0mpreprocess\u001b[0m\u001b[0;34m(\u001b[0m\u001b[0mwrapper\u001b[0m\u001b[0;34m)\u001b[0m\u001b[0;34m)\u001b[0m\u001b[0;34m\u001b[0m\u001b[0;34m\u001b[0m\u001b[0m\n\u001b[1;32m     21\u001b[0m \u001b[0;34m\u001b[0m\u001b[0m\n",
            "\u001b[0;31mAttributeError\u001b[0m: 'NoneType' object has no attribute 'radius'"
          ]
        }
      ]
    },
    {
      "cell_type": "code",
      "metadata": {
        "id": "b0Hf_Mw3Z6Qs",
        "colab": {
          "base_uri": "https://localhost:8080/"
        },
        "outputId": "c526c6f4-6cc9-4f1a-ba64-bc19dec7c502"
      },
      "source": [
        "\n",
        "set_and_get = SetAndGet()\n",
        "#set_and_get.radius = 3\n",
        "print(dir(set_and_get))\n",
        "print('yo', set_and_get.radius)\n",
        "set_and_get.radius = 5\n",
        "print('yo', set_and_get.radius)"
      ],
      "execution_count": 17,
      "outputs": [
        {
          "output_type": "stream",
          "text": [
            "['__class__', '__delattr__', '__dict__', '__dir__', '__doc__', '__eq__', '__format__', '__ge__', '__getattribute__', '__gt__', '__hash__', '__init__', '__init_subclass__', '__le__', '__lt__', '__module__', '__ne__', '__new__', '__reduce__', '__reduce_ex__', '__repr__', '__setattr__', '__sizeof__', '__str__', '__subclasshook__', '__weakref__', '_radius', 'radius']\n",
            "yo None\n",
            "yo 5\n"
          ],
          "name": "stdout"
        }
      ]
    },
    {
      "cell_type": "code",
      "metadata": {
        "colab": {
          "base_uri": "https://localhost:8080/"
        },
        "id": "rjU3G0RmRQPn",
        "outputId": "171b9115-8b4a-4f49-bf3f-6b9f5bf63723"
      },
      "source": [
        "class PropExp:\n",
        "  def __init__(self):\n",
        "    pass\n",
        "  def __call__(self):\n",
        "    return 1\n",
        "\n",
        "prop_exp = PropExp()\n",
        "print(prop_exp())"
      ],
      "execution_count": 18,
      "outputs": [
        {
          "output_type": "stream",
          "text": [
            "1\n"
          ],
          "name": "stdout"
        }
      ]
    },
    {
      "cell_type": "markdown",
      "metadata": {
        "id": "INwzSaH4HfuS"
      },
      "source": [
        "# Subclass Property"
      ]
    },
    {
      "cell_type": "code",
      "metadata": {
        "colab": {
          "base_uri": "https://localhost:8080/"
        },
        "id": "dMWAu7SralxL",
        "outputId": "160da203-567c-4607-bf07-c1696c398096"
      },
      "source": [
        "class Baan:\n",
        "  pass\n",
        "def foo():\n",
        "  pass\n",
        "print(dir(Baan))\n",
        "print(dir(foo))\n",
        "print(dir(property))"
      ],
      "execution_count": 19,
      "outputs": [
        {
          "output_type": "stream",
          "text": [
            "['__class__', '__delattr__', '__dict__', '__dir__', '__doc__', '__eq__', '__format__', '__ge__', '__getattribute__', '__gt__', '__hash__', '__init__', '__init_subclass__', '__le__', '__lt__', '__module__', '__ne__', '__new__', '__reduce__', '__reduce_ex__', '__repr__', '__setattr__', '__sizeof__', '__str__', '__subclasshook__', '__weakref__']\n",
            "['__annotations__', '__call__', '__class__', '__closure__', '__code__', '__defaults__', '__delattr__', '__dict__', '__dir__', '__doc__', '__eq__', '__format__', '__ge__', '__get__', '__getattribute__', '__globals__', '__gt__', '__hash__', '__init__', '__init_subclass__', '__kwdefaults__', '__le__', '__lt__', '__module__', '__name__', '__ne__', '__new__', '__qualname__', '__reduce__', '__reduce_ex__', '__repr__', '__setattr__', '__sizeof__', '__str__', '__subclasshook__']\n",
            "['__class__', '__delattr__', '__delete__', '__dir__', '__doc__', '__eq__', '__format__', '__ge__', '__get__', '__getattribute__', '__gt__', '__hash__', '__init__', '__init_subclass__', '__isabstractmethod__', '__le__', '__lt__', '__ne__', '__new__', '__reduce__', '__reduce_ex__', '__repr__', '__set__', '__setattr__', '__sizeof__', '__str__', '__subclasshook__', 'deleter', 'fdel', 'fget', 'fset', 'getter', 'setter']\n"
          ],
          "name": "stdout"
        }
      ]
    },
    {
      "cell_type": "code",
      "metadata": {
        "id": "g6N9hwOSJCRF"
      },
      "source": [
        "class EzProperty(property):\n",
        "  def __init__(self, *args, **kwargs):\n",
        "    return super().__init__(*args, **kwargs)\n",
        "  \n",
        "  def setter_preprocess(self, _func):\n",
        "    \"\"\"\n",
        "    Sets return value of _func to self._func.__name__\n",
        "    \"\"\"\n",
        "    def wrapper(obj, val):\n",
        "      setattr(obj, f\"_{_func.__name__}\", _func(obj, val))\n",
        "    return wrapper\n",
        "\n",
        "  def setter(self, _func):\n",
        "    \"\"\"\n",
        "    calls setter_preprocess wrapper to alter behaviour of _func\n",
        "    \"\"\"\n",
        "    return super().setter(self.setter_preprocess(_func))"
      ],
      "execution_count": 20,
      "outputs": []
    },
    {
      "cell_type": "code",
      "metadata": {
        "colab": {
          "base_uri": "https://localhost:8080/"
        },
        "id": "6jMw09N4HnIO",
        "outputId": "292bd796-114a-4ec0-a472-09abf354a123"
      },
      "source": [
        "class Foo:\n",
        "  def __init__(self, i = 1):\n",
        "    self._var = i\n",
        "  @property\n",
        "  def var(self):\n",
        "    return self._var\n",
        "  \n",
        "  @var.setter\n",
        "  def var(self, i):\n",
        "    self._var = i\n",
        "\n",
        "foo = Foo()\n",
        "print(foo.var)\n",
        "foo.var = 2\n",
        "print(foo.var)\n",
        "foo.var = 5\n",
        "print(foo.var)\n"
      ],
      "execution_count": 21,
      "outputs": [
        {
          "output_type": "stream",
          "text": [
            "1\n",
            "2\n",
            "5\n"
          ],
          "name": "stdout"
        }
      ]
    },
    {
      "cell_type": "code",
      "metadata": {
        "colab": {
          "base_uri": "https://localhost:8080/"
        },
        "id": "UAd_0iVJJNB7",
        "outputId": "5da1dbf7-161a-4468-f8b3-50d6d42d8242"
      },
      "source": [
        "\n",
        "class Foo:\n",
        "  def __init__(self, i = 1):\n",
        "    self._var = i\n",
        "  @EzProperty\n",
        "  def var(self):\n",
        "    return self._var\n",
        "  \n",
        "  @var.setter\n",
        "  def var(self, i):\n",
        "    return i\n",
        " \n",
        "foo = Foo()\n",
        "print(foo.var)\n",
        "foo.var = 2\n",
        "print(foo.var)\n",
        "foo.var = 5\n",
        "print(foo.var) "
      ],
      "execution_count": 22,
      "outputs": [
        {
          "output_type": "stream",
          "text": [
            "1\n",
            "2\n",
            "5\n"
          ],
          "name": "stdout"
        }
      ]
    },
    {
      "cell_type": "code",
      "metadata": {
        "id": "yUaZV0l3N6X_"
      },
      "source": [
        "import functools\n",
        "class JTProperty:\n",
        "  def __init__(self, setter = False):\n",
        "    self.setter = setter\n",
        "  def __call__(self, _func):\n",
        "    self._prop = None\n",
        "    @EzProperty\n",
        "    @functools.wraps(_func)\n",
        "    def wrapper(obj):\n",
        "      # case where the .setter is not used\n",
        "      if not(self.setter):\n",
        "        if self._prop is None:\n",
        "          self._prop = _func(obj)\n",
        "        return self._prop\n",
        "      # case where .setter is used\n",
        "      else:\n",
        "        # if self._name is not available atm\n",
        "        if f\"_{_func.__name__}\" not in dir(obj):\n",
        "          # call setter method with the return value of the property function this effectively sets obj._name\n",
        "          setattr(obj, _func.__name__, _func(obj)) \n",
        "        # get the obj._name variable\n",
        "        self._prop = getattr(obj, f\"_{_func.__name__}\")\n",
        "        return self._prop\n",
        "    return wrapper"
      ],
      "execution_count": 23,
      "outputs": []
    },
    {
      "cell_type": "code",
      "metadata": {
        "id": "yh2VTbQsN6X_"
      },
      "source": [
        "class SetAndGet:\n",
        "  def __init__(self):\n",
        "    self.radius = 3\n",
        "  @JTProperty(setter = True)\n",
        "  def radius(self):\n",
        "    return 2\n",
        "\n",
        "  @radius.setter\n",
        "  def radius(self, r):\n",
        "    if r <= 0:\n",
        "      raise ValueError(\"radius should be greater than 0\")\n",
        "    return r\n"
      ],
      "execution_count": 24,
      "outputs": []
    },
    {
      "cell_type": "code",
      "metadata": {
        "colab": {
          "base_uri": "https://localhost:8080/",
          "height": 404
        },
        "id": "5ULZHnGxN6X_",
        "outputId": "33ac5c9f-336e-4570-fcd6-d75609381891"
      },
      "source": [
        "setandget = SetAndGet()\n",
        "print(setandget.radius)\n",
        "setandget.radius = 5\n",
        "print(setandget.radius)\n",
        "setandget.radius = 3\n",
        "print(setandget.radius)\n",
        "setandget.radius = -5\n",
        "print(setandget.radius)"
      ],
      "execution_count": 25,
      "outputs": [
        {
          "output_type": "stream",
          "text": [
            "3\n",
            "5\n",
            "3\n"
          ],
          "name": "stdout"
        },
        {
          "output_type": "error",
          "ename": "ValueError",
          "evalue": "ignored",
          "traceback": [
            "\u001b[0;31m---------------------------------------------------------------------------\u001b[0m",
            "\u001b[0;31mValueError\u001b[0m                                Traceback (most recent call last)",
            "\u001b[0;32m<ipython-input-25-4e67e1767b69>\u001b[0m in \u001b[0;36m<module>\u001b[0;34m()\u001b[0m\n\u001b[1;32m      5\u001b[0m \u001b[0msetandget\u001b[0m\u001b[0;34m.\u001b[0m\u001b[0mradius\u001b[0m \u001b[0;34m=\u001b[0m \u001b[0;36m3\u001b[0m\u001b[0;34m\u001b[0m\u001b[0;34m\u001b[0m\u001b[0m\n\u001b[1;32m      6\u001b[0m \u001b[0mprint\u001b[0m\u001b[0;34m(\u001b[0m\u001b[0msetandget\u001b[0m\u001b[0;34m.\u001b[0m\u001b[0mradius\u001b[0m\u001b[0;34m)\u001b[0m\u001b[0;34m\u001b[0m\u001b[0;34m\u001b[0m\u001b[0m\n\u001b[0;32m----> 7\u001b[0;31m \u001b[0msetandget\u001b[0m\u001b[0;34m.\u001b[0m\u001b[0mradius\u001b[0m \u001b[0;34m=\u001b[0m \u001b[0;34m-\u001b[0m\u001b[0;36m5\u001b[0m\u001b[0;34m\u001b[0m\u001b[0;34m\u001b[0m\u001b[0m\n\u001b[0m\u001b[1;32m      8\u001b[0m \u001b[0mprint\u001b[0m\u001b[0;34m(\u001b[0m\u001b[0msetandget\u001b[0m\u001b[0;34m.\u001b[0m\u001b[0mradius\u001b[0m\u001b[0;34m)\u001b[0m\u001b[0;34m\u001b[0m\u001b[0;34m\u001b[0m\u001b[0m\n",
            "\u001b[0;32m<ipython-input-20-90308de67a83>\u001b[0m in \u001b[0;36mwrapper\u001b[0;34m(obj, val)\u001b[0m\n\u001b[1;32m      8\u001b[0m     \"\"\"\n\u001b[1;32m      9\u001b[0m     \u001b[0;32mdef\u001b[0m \u001b[0mwrapper\u001b[0m\u001b[0;34m(\u001b[0m\u001b[0mobj\u001b[0m\u001b[0;34m,\u001b[0m \u001b[0mval\u001b[0m\u001b[0;34m)\u001b[0m\u001b[0;34m:\u001b[0m\u001b[0;34m\u001b[0m\u001b[0;34m\u001b[0m\u001b[0m\n\u001b[0;32m---> 10\u001b[0;31m       \u001b[0msetattr\u001b[0m\u001b[0;34m(\u001b[0m\u001b[0mobj\u001b[0m\u001b[0;34m,\u001b[0m \u001b[0;34mf\"_{_func.__name__}\"\u001b[0m\u001b[0;34m,\u001b[0m \u001b[0m_func\u001b[0m\u001b[0;34m(\u001b[0m\u001b[0mobj\u001b[0m\u001b[0;34m,\u001b[0m \u001b[0mval\u001b[0m\u001b[0;34m)\u001b[0m\u001b[0;34m)\u001b[0m\u001b[0;34m\u001b[0m\u001b[0;34m\u001b[0m\u001b[0m\n\u001b[0m\u001b[1;32m     11\u001b[0m     \u001b[0;32mreturn\u001b[0m \u001b[0mwrapper\u001b[0m\u001b[0;34m\u001b[0m\u001b[0;34m\u001b[0m\u001b[0m\n\u001b[1;32m     12\u001b[0m \u001b[0;34m\u001b[0m\u001b[0m\n",
            "\u001b[0;32m<ipython-input-24-952121b217e9>\u001b[0m in \u001b[0;36mradius\u001b[0;34m(self, r)\u001b[0m\n\u001b[1;32m      9\u001b[0m   \u001b[0;32mdef\u001b[0m \u001b[0mradius\u001b[0m\u001b[0;34m(\u001b[0m\u001b[0mself\u001b[0m\u001b[0;34m,\u001b[0m \u001b[0mr\u001b[0m\u001b[0;34m)\u001b[0m\u001b[0;34m:\u001b[0m\u001b[0;34m\u001b[0m\u001b[0;34m\u001b[0m\u001b[0m\n\u001b[1;32m     10\u001b[0m     \u001b[0;32mif\u001b[0m \u001b[0mr\u001b[0m \u001b[0;34m<=\u001b[0m \u001b[0;36m0\u001b[0m\u001b[0;34m:\u001b[0m\u001b[0;34m\u001b[0m\u001b[0;34m\u001b[0m\u001b[0m\n\u001b[0;32m---> 11\u001b[0;31m       \u001b[0;32mraise\u001b[0m \u001b[0mValueError\u001b[0m\u001b[0;34m(\u001b[0m\u001b[0;34m\"radius should be greater than 0\"\u001b[0m\u001b[0;34m)\u001b[0m\u001b[0;34m\u001b[0m\u001b[0;34m\u001b[0m\u001b[0m\n\u001b[0m\u001b[1;32m     12\u001b[0m     \u001b[0;32mreturn\u001b[0m \u001b[0mr\u001b[0m\u001b[0;34m\u001b[0m\u001b[0;34m\u001b[0m\u001b[0m\n",
            "\u001b[0;31mValueError\u001b[0m: radius should be greater than 0"
          ]
        }
      ]
    },
    {
      "cell_type": "code",
      "metadata": {
        "id": "fZljrQP4OIdk"
      },
      "source": [
        "property.__get__(\"djd\")"
      ],
      "execution_count": null,
      "outputs": []
    },
    {
      "cell_type": "code",
      "metadata": {
        "id": "tBrf3sMWQvba"
      },
      "source": [
        ""
      ],
      "execution_count": 25,
      "outputs": []
    }
  ]
}