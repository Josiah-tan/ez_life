{
  "nbformat": 4,
  "nbformat_minor": 0,
  "metadata": {
    "colab": {
      "name": "jt_property.ipynb",
      "provenance": [],
      "authorship_tag": "ABX9TyO4Vc1Q0QNRL3QAviVAOpm7",
      "include_colab_link": true
    },
    "kernelspec": {
      "name": "python3",
      "display_name": "Python 3"
    }
  },
  "cells": [
    {
      "cell_type": "markdown",
      "metadata": {
        "id": "view-in-github",
        "colab_type": "text"
      },
      "source": [
        "<a href=\"https://colab.research.google.com/github/Josiah-tan/py_misc/blob/main/jt_property.ipynb\" target=\"_parent\"><img src=\"https://colab.research.google.com/assets/colab-badge.svg\" alt=\"Open In Colab\"/></a>"
      ]
    },
    {
      "cell_type": "markdown",
      "metadata": {
        "id": "ArVB_L5-Ylkf"
      },
      "source": [
        "# Implementation JTProperty\n",
        "  - Uses EzProperty class which inherits from property\n",
        "    - Currently EzProperty changes the setter function such that the return value is the value set by the setter"
      ]
    },
    {
      "cell_type": "code",
      "metadata": {
        "id": "g6N9hwOSJCRF"
      },
      "source": [
        "class EzProperty(property):\n",
        "  def __init__(self, *args, **kwargs):\n",
        "    return super().__init__(*args, **kwargs)\n",
        "  \n",
        "  def setter_preprocess(self, _func):\n",
        "    \"\"\"\n",
        "    Sets return value of _func to self._func.__name__\n",
        "    \"\"\"\n",
        "    def wrapper(obj, val):\n",
        "      setattr(obj, f\"_{_func.__name__}\", _func(obj, val))\n",
        "    return wrapper\n",
        "\n",
        "  def setter(self, _func):\n",
        "    \"\"\"\n",
        "    calls setter_preprocess wrapper to alter behaviour of _func\n",
        "    \"\"\"\n",
        "    return super().setter(self.setter_preprocess(_func))"
      ],
      "execution_count": 29,
      "outputs": []
    },
    {
      "cell_type": "code",
      "metadata": {
        "id": "yUaZV0l3N6X_"
      },
      "source": [
        "import functools\n",
        "class JTProperty:\n",
        "  def __init__(self, setter = False):\n",
        "    self.setter = setter\n",
        "  def __call__(self, _func):\n",
        "    self._prop = None\n",
        "    @EzProperty\n",
        "    @functools.wraps(_func)\n",
        "    def wrapper(obj):\n",
        "      # case where the .setter is not used\n",
        "      if not(self.setter):\n",
        "        if self._prop is None:\n",
        "          self._prop = _func(obj)\n",
        "        return self._prop\n",
        "      # case where .setter is used\n",
        "      else:\n",
        "        # if self._name is not available atm\n",
        "        if f\"_{_func.__name__}\" not in dir(obj):\n",
        "          # call setter method with the return value of the property function this effectively sets obj._name\n",
        "          setattr(obj, _func.__name__, _func(obj)) \n",
        "        # get the obj._name variable\n",
        "        self._prop = getattr(obj, f\"_{_func.__name__}\")\n",
        "        return self._prop\n",
        "    return wrapper"
      ],
      "execution_count": 30,
      "outputs": []
    },
    {
      "cell_type": "markdown",
      "metadata": {
        "id": "W0vTZoBlZNiy"
      },
      "source": [
        "# Basic Property Demo\n",
        "- prop3 is dependent upon the values of prop2 and prop 1 as shown below"
      ]
    },
    {
      "cell_type": "code",
      "metadata": {
        "id": "m5S7LvCDVHxe"
      },
      "source": [
        "class PropDemo:\n",
        "  def __init__(self):\n",
        "    self._prop1 = None\n",
        "    self._prop2 = None\n",
        "    self._prop3 = None\n",
        "  \n",
        "  @property\n",
        "  def prop1(self):\n",
        "    if self._prop1 is None:\n",
        "      self._prop1 = self.get_prop1()\n",
        "    return self._prop1\n",
        "\n",
        "  @property\n",
        "  def prop2(self):\n",
        "    if self._prop2 is None:\n",
        "      self._prop2 = self.get_prop2()\n",
        "    return self._prop2\n",
        "\n",
        "  @property\n",
        "  def prop3(self):\n",
        "    if self._prop3 is None:\n",
        "      self._prop3 = self.get_prop3()\n",
        "    return self._prop3\n",
        "  \n",
        "  def get_prop1(self):\n",
        "    return 1\n",
        "  def get_prop2(self):\n",
        "    return self.prop1 + 1\n",
        "  def get_prop3(self):\n",
        "    return self.prop2 + 1\n",
        "  \n"
      ],
      "execution_count": 31,
      "outputs": []
    },
    {
      "cell_type": "code",
      "metadata": {
        "colab": {
          "base_uri": "https://localhost:8080/"
        },
        "id": "yX9oKePRXcJ-",
        "outputId": "eb3010f2-60f3-4084-efd2-830b990c4800"
      },
      "source": [
        "prop_dem = PropDemo()\n",
        "print(prop_dem.prop3)"
      ],
      "execution_count": 32,
      "outputs": [
        {
          "output_type": "stream",
          "text": [
            "3\n"
          ],
          "name": "stdout"
        }
      ]
    },
    {
      "cell_type": "markdown",
      "metadata": {
        "id": "d4qR1MYmZtmF"
      },
      "source": [
        "- The @JTProperty decorator uses less lines of code then the @property decorator, but achieves the same result"
      ]
    },
    {
      "cell_type": "code",
      "metadata": {
        "id": "rpW6e30EXXfv"
      },
      "source": [
        "class JTPropDemo:\n",
        "  def __init__(self):\n",
        "    pass\n",
        "  \n",
        "  @JTProperty()\n",
        "  def prop1(self):\n",
        "    return 1\n",
        "\n",
        "  @JTProperty()\n",
        "  def prop2(self):\n",
        "    return self.prop1 + 1\n",
        "\n",
        "  @JTProperty()\n",
        "  def prop3(self):\n",
        "    return self.prop2 + 1\n",
        "  "
      ],
      "execution_count": 33,
      "outputs": []
    },
    {
      "cell_type": "code",
      "metadata": {
        "id": "IzcG0AH0hlVC",
        "colab": {
          "base_uri": "https://localhost:8080/"
        },
        "outputId": "caf389a6-91be-481f-ea55-85b81f54b133"
      },
      "source": [
        "prop_dem = JTPropDemo()\n",
        "print(prop_dem.prop3)\n"
      ],
      "execution_count": 34,
      "outputs": [
        {
          "output_type": "stream",
          "text": [
            "3\n"
          ],
          "name": "stdout"
        }
      ]
    },
    {
      "cell_type": "markdown",
      "metadata": {
        "id": "yGv3pk4cZeYN"
      },
      "source": [
        "# Setter methods\n",
        "- Consider a class that uses getter and setter methods as shown below:"
      ]
    },
    {
      "cell_type": "code",
      "metadata": {
        "id": "jbqjkEopaeKU"
      },
      "source": [
        "class SetAndGet:\n",
        "  def __init__(self, r = 1):\n",
        "    # initialise the protected variable\n",
        "    self._radius = None\n",
        "\n",
        "    # calls the @radius.setter method\n",
        "    self.radius = r\n",
        "  @property\n",
        "  def radius(self):\n",
        "    if self._radius is None:\n",
        "      self.radius = 2\n",
        "    return self._radius\n",
        "  @radius.setter\n",
        "  def radius(self, r):\n",
        "    if r <= 0:\n",
        "      raise ValueError(\"radius should be greater than 0\")\n",
        "    self._radius = r"
      ],
      "execution_count": 51,
      "outputs": []
    },
    {
      "cell_type": "markdown",
      "metadata": {
        "id": "GEuBsRFYdqoS"
      },
      "source": [
        "- In the test below, contextlib silences the ValueError that occurs with setting the radius to -5"
      ]
    },
    {
      "cell_type": "code",
      "metadata": {
        "colab": {
          "base_uri": "https://localhost:8080/"
        },
        "id": "pWqFLWMbbq5O",
        "outputId": "0189ee3a-bca5-4d89-a217-8673c9530012"
      },
      "source": [
        "import contextlib\n",
        "setandget = SetAndGet()\n",
        "print(setandget.radius)\n",
        "setandget.radius = 5\n",
        "print(setandget.radius)\n",
        "setandget.radius = 3\n",
        "print(setandget.radius)\n",
        "with contextlib.suppress(ValueError):\n",
        "  setandget.radius = -5\n",
        "print(setandget.radius)"
      ],
      "execution_count": 49,
      "outputs": [
        {
          "output_type": "stream",
          "text": [
            "1\n",
            "5\n",
            "3\n",
            "3\n"
          ],
          "name": "stdout"
        }
      ]
    },
    {
      "cell_type": "markdown",
      "metadata": {
        "id": "95UDzFNYd8lS"
      },
      "source": [
        "- JTProperty() and .setter reduce abstraction involving usage of hidden \"protected variables\"\n",
        "  - setter = True should be set when @radius.setter is used"
      ]
    },
    {
      "cell_type": "code",
      "metadata": {
        "id": "yh2VTbQsN6X_"
      },
      "source": [
        "class JTSetAndGet:\n",
        "  def __init__(self, r = 1):\n",
        "    self.radius = r\n",
        "  @JTProperty(setter = True)\n",
        "  def radius(self):\n",
        "    return 2\n",
        "\n",
        "  @radius.setter\n",
        "  def radius(self, r):\n",
        "    if r <= 0:\n",
        "      raise ValueError(\"radius should be greater than 0\")\n",
        "    return r\n"
      ],
      "execution_count": 42,
      "outputs": []
    },
    {
      "cell_type": "code",
      "metadata": {
        "colab": {
          "base_uri": "https://localhost:8080/"
        },
        "id": "5ULZHnGxN6X_",
        "outputId": "3a09e145-53bf-4255-c9fd-aabf7b3bcad3"
      },
      "source": [
        "import contextlib\n",
        "\n",
        "setandget = JTSetAndGet()\n",
        "print(setandget.radius)\n",
        "setandget.radius = 5\n",
        "print(setandget.radius)\n",
        "setandget.radius = 3\n",
        "print(setandget.radius)\n",
        "with contextlib.suppress(ValueError):\n",
        "  setandget.radius = -5\n",
        "print(setandget.radius)"
      ],
      "execution_count": 50,
      "outputs": [
        {
          "output_type": "stream",
          "text": [
            "1\n",
            "5\n",
            "3\n",
            "3\n"
          ],
          "name": "stdout"
        }
      ]
    },
    {
      "cell_type": "markdown",
      "metadata": {
        "id": "tBrf3sMWQvba"
      },
      "source": [
        "# Areas Of Improvement\n",
        "  - Introduce setter detection to reduce uneccessary setter = True kwargs"
      ]
    },
    {
      "cell_type": "code",
      "metadata": {
        "id": "NOrY_8jfabuA"
      },
      "source": [
        ""
      ],
      "execution_count": null,
      "outputs": []
    },
    {
      "cell_type": "code",
      "metadata": {
        "id": "2obcsQyzez5p"
      },
      "source": [
        ""
      ],
      "execution_count": null,
      "outputs": []
    }
  ]
}