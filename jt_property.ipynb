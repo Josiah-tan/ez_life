{
  "nbformat": 4,
  "nbformat_minor": 0,
  "metadata": {
    "colab": {
      "name": "jt_property.ipynb",
      "provenance": [],
      "authorship_tag": "ABX9TyMZYnNE/zzvxYxF1o18iBOQ",
      "include_colab_link": true
    },
    "kernelspec": {
      "name": "python3",
      "display_name": "Python 3"
    }
  },
  "cells": [
    {
      "cell_type": "markdown",
      "metadata": {
        "id": "view-in-github",
        "colab_type": "text"
      },
      "source": [
        "<a href=\"https://colab.research.google.com/github/Josiah-tan/ez_life/blob/main/jt_property.ipynb\" target=\"_parent\"><img src=\"https://colab.research.google.com/assets/colab-badge.svg\" alt=\"Open In Colab\"/></a>"
      ]
    },
    {
      "cell_type": "markdown",
      "metadata": {
        "id": "ArVB_L5-Ylkf"
      },
      "source": [
        "# Implementation JTProperty\n",
        "  - Uses EzProperty class which inherits from property\n",
        "    - Currently EzProperty changes the setter function such that the return value is the value set by the setter"
      ]
    },
    {
      "cell_type": "code",
      "metadata": {
        "id": "g6N9hwOSJCRF"
      },
      "source": [
        "class EzProperty(property):\n",
        "  def __init__(self, *args, **kwargs):\n",
        "    return super().__init__(*args, **kwargs)\n",
        "  \n",
        "  def setter_preprocess(self, _func):\n",
        "    \"\"\"\n",
        "    Sets return value of _func to self._func.__name__\n",
        "    \"\"\"\n",
        "    def wrapper(obj, val):\n",
        "      setattr(obj, f\"_{_func.__name__}\", _func(obj, val))\n",
        "    return wrapper\n",
        "\n",
        "  def setter(self, _func):\n",
        "    \"\"\"\n",
        "    calls setter_preprocess wrapper to alter behaviour of _func\n",
        "    \"\"\"\n",
        "    return super().setter(self.setter_preprocess(_func))"
      ],
      "execution_count": 21,
      "outputs": []
    },
    {
      "cell_type": "code",
      "metadata": {
        "id": "yUaZV0l3N6X_"
      },
      "source": [
        "import functools\n",
        "class JTProperty:\n",
        "  def __init__(self, setter = False):\n",
        "    self.setter = setter\n",
        "  def __call__(self, _func):\n",
        "    public_name = _func.__name__\n",
        "    protected_name = f\"_{public_name}\"\n",
        "    \n",
        "    @EzProperty\n",
        "    @functools.wraps(_func)\n",
        "    def wrapper(obj):\n",
        "      if protected_name not in dir(obj):\n",
        "        # if self._name is not available atm\n",
        "        if (not(self.setter)):\n",
        "          setattr(obj, protected_name, _func(obj)) \n",
        "        else:\n",
        "          # call setter method with the return value of the property function this effectively sets obj._name\n",
        "          setattr(obj, public_name, _func(obj)) \n",
        "      return getattr(obj, protected_name)\n",
        "    return wrapper"
      ],
      "execution_count": 31,
      "outputs": []
    },
    {
      "cell_type": "markdown",
      "metadata": {
        "id": "W0vTZoBlZNiy"
      },
      "source": [
        "# Basic Property Demo\n",
        "- prop3 is dependent upon the values of prop2 and prop 1 as shown below"
      ]
    },
    {
      "cell_type": "code",
      "metadata": {
        "id": "m5S7LvCDVHxe"
      },
      "source": [
        "class PropDemo:\n",
        "  def __init__(self):\n",
        "    self._prop1 = None\n",
        "    self._prop2 = None\n",
        "    self._prop3 = None\n",
        "  \n",
        "  @property\n",
        "  def prop1(self):\n",
        "    if self._prop1 is None:\n",
        "      self._prop1 = self.get_prop1()\n",
        "    return self._prop1\n",
        "\n",
        "  @property\n",
        "  def prop2(self):\n",
        "    if self._prop2 is None:\n",
        "      self._prop2 = self.get_prop2()\n",
        "    return self._prop2\n",
        "\n",
        "  @property\n",
        "  def prop3(self):\n",
        "    if self._prop3 is None:\n",
        "      self._prop3 = self.get_prop3()\n",
        "    return self._prop3\n",
        "  \n",
        "  def get_prop1(self):\n",
        "    return 1\n",
        "  def get_prop2(self):\n",
        "    return self.prop1 + 1\n",
        "  def get_prop3(self):\n",
        "    return self.prop2 + 1\n",
        "  \n"
      ],
      "execution_count": 32,
      "outputs": []
    },
    {
      "cell_type": "code",
      "metadata": {
        "colab": {
          "base_uri": "https://localhost:8080/"
        },
        "id": "yX9oKePRXcJ-",
        "outputId": "814a63cb-a8b8-477b-b569-e5f643bec531"
      },
      "source": [
        "prop_dem = PropDemo()\n",
        "print(prop_dem.prop3)"
      ],
      "execution_count": 33,
      "outputs": [
        {
          "output_type": "stream",
          "text": [
            "3\n"
          ],
          "name": "stdout"
        }
      ]
    },
    {
      "cell_type": "markdown",
      "metadata": {
        "id": "d4qR1MYmZtmF"
      },
      "source": [
        "- The @JTProperty decorator uses less lines of code then the @property decorator, but achieves the same result"
      ]
    },
    {
      "cell_type": "code",
      "metadata": {
        "id": "rpW6e30EXXfv"
      },
      "source": [
        "class JTPropDemo:\n",
        "  def __init__(self):\n",
        "    pass\n",
        "  \n",
        "  @JTProperty()\n",
        "  def prop1(self):\n",
        "    return 1\n",
        "\n",
        "  @JTProperty()\n",
        "  def prop2(self):\n",
        "    return self.prop1 + 1\n",
        "\n",
        "  @JTProperty()\n",
        "  def prop3(self):\n",
        "    return self.prop2 + 1\n",
        "  "
      ],
      "execution_count": 34,
      "outputs": []
    },
    {
      "cell_type": "code",
      "metadata": {
        "id": "IzcG0AH0hlVC",
        "colab": {
          "base_uri": "https://localhost:8080/"
        },
        "outputId": "a296e03d-6ed4-43ff-b00f-8bbed08bd27d"
      },
      "source": [
        "prop_dem = JTPropDemo()\n",
        "print(prop_dem.prop3)\n"
      ],
      "execution_count": 35,
      "outputs": [
        {
          "output_type": "stream",
          "text": [
            "3\n"
          ],
          "name": "stdout"
        }
      ]
    },
    {
      "cell_type": "markdown",
      "metadata": {
        "id": "yGv3pk4cZeYN"
      },
      "source": [
        "# Setter methods\n",
        "- Consider a class that uses getter and setter methods as shown below:"
      ]
    },
    {
      "cell_type": "code",
      "metadata": {
        "id": "jbqjkEopaeKU"
      },
      "source": [
        "class SetAndGet:\n",
        "  def __init__(self, r = 1):\n",
        "    # initialise the protected variable\n",
        "    self._radius = None\n",
        "\n",
        "    # calls the @radius.setter method\n",
        "    self.radius = r\n",
        "  @property\n",
        "  def radius(self):\n",
        "    if self._radius is None:\n",
        "      self.radius = 2\n",
        "    return self._radius\n",
        "  @radius.setter\n",
        "  def radius(self, r):\n",
        "    if r <= 0:\n",
        "      raise ValueError(\"radius should be greater than 0\")\n",
        "    self._radius = r"
      ],
      "execution_count": 36,
      "outputs": []
    },
    {
      "cell_type": "markdown",
      "metadata": {
        "id": "GEuBsRFYdqoS"
      },
      "source": [
        "- In the test below, contextlib silences the ValueError that occurs with setting the radius to -5"
      ]
    },
    {
      "cell_type": "code",
      "metadata": {
        "colab": {
          "base_uri": "https://localhost:8080/"
        },
        "id": "pWqFLWMbbq5O",
        "outputId": "1a7fa288-3a8b-48cd-c281-e9f699d130da"
      },
      "source": [
        "import contextlib\n",
        "setandget = SetAndGet()\n",
        "print(setandget.radius)\n",
        "setandget.radius = 5\n",
        "print(setandget.radius)\n",
        "setandget.radius = 3\n",
        "print(setandget.radius)\n",
        "with contextlib.suppress(ValueError):\n",
        "  setandget.radius = -5\n",
        "print(setandget.radius)\n",
        "# 1 5 3 3"
      ],
      "execution_count": 37,
      "outputs": [
        {
          "output_type": "stream",
          "text": [
            "1\n",
            "5\n",
            "3\n",
            "3\n"
          ],
          "name": "stdout"
        }
      ]
    },
    {
      "cell_type": "markdown",
      "metadata": {
        "id": "95UDzFNYd8lS"
      },
      "source": [
        "- JTProperty() and .setter reduce abstraction involving usage of hidden \"protected variables\"\n",
        "  - setter = True should be set when @radius.setter is used"
      ]
    },
    {
      "cell_type": "code",
      "metadata": {
        "id": "yh2VTbQsN6X_"
      },
      "source": [
        "class JTSetAndGet:\n",
        "  def __init__(self, r = 1):\n",
        "    self.radius = r\n",
        "  @JTProperty(setter = True)\n",
        "  def radius(self):\n",
        "    return 2\n",
        "\n",
        "  @radius.setter\n",
        "  def radius(self, r):\n",
        "    if r <= 0:\n",
        "      raise ValueError(\"radius should be greater than 0\")\n",
        "    return r\n"
      ],
      "execution_count": 38,
      "outputs": []
    },
    {
      "cell_type": "code",
      "metadata": {
        "colab": {
          "base_uri": "https://localhost:8080/"
        },
        "id": "5ULZHnGxN6X_",
        "outputId": "1e97f13b-b0af-4fda-8966-70d6cff2f3ee"
      },
      "source": [
        "import contextlib\n",
        "\n",
        "setandget = JTSetAndGet()\n",
        "print(setandget.radius)\n",
        "setandget.radius = 5\n",
        "print(setandget.radius)\n",
        "setandget.radius = 3\n",
        "print(setandget.radius)\n",
        "with contextlib.suppress(ValueError):\n",
        "  setandget.radius = -5\n",
        "print(setandget.radius)"
      ],
      "execution_count": 39,
      "outputs": [
        {
          "output_type": "stream",
          "text": [
            "1\n",
            "5\n",
            "3\n",
            "3\n"
          ],
          "name": "stdout"
        }
      ]
    },
    {
      "cell_type": "markdown",
      "metadata": {
        "id": "tBrf3sMWQvba"
      },
      "source": [
        "# Areas Of Improvement\n",
        "  - Introduce setter detection to reduce uneccessary setter = True kwargs"
      ]
    },
    {
      "cell_type": "code",
      "metadata": {
        "id": "NOrY_8jfabuA"
      },
      "source": [
        ""
      ],
      "execution_count": 30,
      "outputs": []
    },
    {
      "cell_type": "code",
      "metadata": {
        "id": "2obcsQyzez5p"
      },
      "source": [
        ""
      ],
      "execution_count": 30,
      "outputs": []
    }
  ]
}