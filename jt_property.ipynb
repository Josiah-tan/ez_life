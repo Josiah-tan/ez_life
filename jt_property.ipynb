{
  "nbformat": 4,
  "nbformat_minor": 0,
  "metadata": {
    "colab": {
      "name": "jt_property.ipynb",
      "provenance": [],
      "authorship_tag": "ABX9TyOuaR7kWPhk/hS1L9nlFNGe",
      "include_colab_link": true
    },
    "kernelspec": {
      "name": "python3",
      "display_name": "Python 3"
    }
  },
  "cells": [
    {
      "cell_type": "markdown",
      "metadata": {
        "id": "view-in-github",
        "colab_type": "text"
      },
      "source": [
        "<a href=\"https://colab.research.google.com/github/Josiah-tan/py_misc/blob/main/jt_property.ipynb\" target=\"_parent\"><img src=\"https://colab.research.google.com/assets/colab-badge.svg\" alt=\"Open In Colab\"/></a>"
      ]
    },
    {
      "cell_type": "code",
      "metadata": {
        "id": "m5S7LvCDVHxe"
      },
      "source": [
        "class PropDemo:\n",
        "  def __init__(self):\n",
        "    self._prop1 = None\n",
        "    self._prop2 = None\n",
        "    self._prop3 = None\n",
        "  \n",
        "  @property\n",
        "  def prop1(self):\n",
        "    if self._prop1 is None:\n",
        "      self._prop1 = self.get_prop1()\n",
        "    return self._prop1\n",
        "\n",
        "  @property\n",
        "  def prop2(self):\n",
        "    if self._prop2 is None:\n",
        "      self._prop2 = self.get_prop2()\n",
        "    return self._prop2\n",
        "\n",
        "  @property\n",
        "  def prop3(self):\n",
        "    if self._prop3 is None:\n",
        "      self._prop3 = self.get_prop3()\n",
        "    return self._prop3\n",
        "  \n",
        "  def get_prop1(self):\n",
        "    return 1\n",
        "  def get_prop2(self):\n",
        "    return self.prop1 + 1\n",
        "  def get_prop3(self):\n",
        "    return self.prop2 + 1\n",
        "  \n"
      ],
      "execution_count": 6,
      "outputs": []
    },
    {
      "cell_type": "code",
      "metadata": {
        "colab": {
          "base_uri": "https://localhost:8080/"
        },
        "id": "yX9oKePRXcJ-",
        "outputId": "257cb621-324f-47b3-fcd7-88ce30c20491"
      },
      "source": [
        "prop_dem = PropDemo()\n",
        "print(prop_dem.prop3)"
      ],
      "execution_count": 28,
      "outputs": [
        {
          "output_type": "stream",
          "text": [
            "3\n"
          ],
          "name": "stdout"
        }
      ]
    },
    {
      "cell_type": "code",
      "metadata": {
        "id": "ndQ3-0qkYkyN"
      },
      "source": [
        "import functools\n",
        "class JTProperty:\n",
        "  def __init__(self):\n",
        "    pass\n",
        "  def __call__(self, _func):\n",
        "    self._prop = None\n",
        "    @property\n",
        "    @functools.wraps(_func)\n",
        "    def wrapper(obj):\n",
        "      if self._prop is None:\n",
        "        self._prop = _func(obj)\n",
        "      return self._prop\n",
        "    return wrapper"
      ],
      "execution_count": 25,
      "outputs": []
    },
    {
      "cell_type": "code",
      "metadata": {
        "id": "rpW6e30EXXfv"
      },
      "source": [
        "class PropDemo:\n",
        "  def __init__(self):\n",
        "    pass\n",
        "  \n",
        "  @JTProperty()\n",
        "  def prop1(self):\n",
        "    return 1\n",
        "\n",
        "  @JTProperty()\n",
        "  def prop2(self):\n",
        "    return self.prop1 + 1\n",
        "\n",
        "  @JTProperty()\n",
        "  def prop3(self):\n",
        "    return self.prop2 + 1\n",
        "  "
      ],
      "execution_count": 27,
      "outputs": []
    },
    {
      "cell_type": "code",
      "metadata": {
        "id": "IzcG0AH0hlVC"
      },
      "source": [
        "prop_dem = PropDemo()\n",
        "print(prop_dem.prop3)\n"
      ],
      "execution_count": null,
      "outputs": []
    },
    {
      "cell_type": "code",
      "metadata": {
        "id": "xzvbcohJdtjo"
      },
      "source": [
        "class SetAndGet:\n",
        "  def __init__(self):\n",
        "    self._radius = None\n",
        "  def getRadius(self):\n",
        "    return 2\n",
        "  @property\n",
        "  def radius(self):\n",
        "    if self._radius is None:\n",
        "      setattr(self, 'radius', self.getRadius())\n",
        "      ##self.radius = self.getRadius()\n",
        "    return self._radius\n",
        "  @radius.setter\n",
        "  def radius(self, r):\n",
        "    if r <= 0:\n",
        "      raise ValueError(\"radius should be greater than 0\")\n",
        "    self._radius = r\n"
      ],
      "execution_count": 49,
      "outputs": []
    },
    {
      "cell_type": "code",
      "metadata": {
        "colab": {
          "base_uri": "https://localhost:8080/",
          "height": 363
        },
        "id": "zEKrjBv8rRg9",
        "outputId": "74af3c69-8475-4ba2-c316-9403c63bd1bc"
      },
      "source": [
        "setandget = SetAndGet()\n",
        "print(setandget.radius)\n",
        "setandget.radius = 5\n",
        "print(setandget.radius)\n",
        "setandget.radius = -5\n",
        "print(setandget.radius)"
      ],
      "execution_count": 50,
      "outputs": [
        {
          "output_type": "stream",
          "text": [
            "2\n",
            "5\n"
          ],
          "name": "stdout"
        },
        {
          "output_type": "error",
          "ename": "ValueError",
          "evalue": "ignored",
          "traceback": [
            "\u001b[0;31m---------------------------------------------------------------------------\u001b[0m",
            "\u001b[0;31mValueError\u001b[0m                                Traceback (most recent call last)",
            "\u001b[0;32m<ipython-input-50-13efa461d16a>\u001b[0m in \u001b[0;36m<module>\u001b[0;34m()\u001b[0m\n\u001b[1;32m      3\u001b[0m \u001b[0msetandget\u001b[0m\u001b[0;34m.\u001b[0m\u001b[0mradius\u001b[0m \u001b[0;34m=\u001b[0m \u001b[0;36m5\u001b[0m\u001b[0;34m\u001b[0m\u001b[0;34m\u001b[0m\u001b[0m\n\u001b[1;32m      4\u001b[0m \u001b[0mprint\u001b[0m\u001b[0;34m(\u001b[0m\u001b[0msetandget\u001b[0m\u001b[0;34m.\u001b[0m\u001b[0mradius\u001b[0m\u001b[0;34m)\u001b[0m\u001b[0;34m\u001b[0m\u001b[0;34m\u001b[0m\u001b[0m\n\u001b[0;32m----> 5\u001b[0;31m \u001b[0msetandget\u001b[0m\u001b[0;34m.\u001b[0m\u001b[0mradius\u001b[0m \u001b[0;34m=\u001b[0m \u001b[0;34m-\u001b[0m\u001b[0;36m5\u001b[0m\u001b[0;34m\u001b[0m\u001b[0;34m\u001b[0m\u001b[0m\n\u001b[0m\u001b[1;32m      6\u001b[0m \u001b[0mprint\u001b[0m\u001b[0;34m(\u001b[0m\u001b[0msetandget\u001b[0m\u001b[0;34m.\u001b[0m\u001b[0mradius\u001b[0m\u001b[0;34m)\u001b[0m\u001b[0;34m\u001b[0m\u001b[0;34m\u001b[0m\u001b[0m\n",
            "\u001b[0;32m<ipython-input-49-31aaf655a8bf>\u001b[0m in \u001b[0;36mradius\u001b[0;34m(self, r)\u001b[0m\n\u001b[1;32m     13\u001b[0m   \u001b[0;32mdef\u001b[0m \u001b[0mradius\u001b[0m\u001b[0;34m(\u001b[0m\u001b[0mself\u001b[0m\u001b[0;34m,\u001b[0m \u001b[0mr\u001b[0m\u001b[0;34m)\u001b[0m\u001b[0;34m:\u001b[0m\u001b[0;34m\u001b[0m\u001b[0;34m\u001b[0m\u001b[0m\n\u001b[1;32m     14\u001b[0m     \u001b[0;32mif\u001b[0m \u001b[0mr\u001b[0m \u001b[0;34m<=\u001b[0m \u001b[0;36m0\u001b[0m\u001b[0;34m:\u001b[0m\u001b[0;34m\u001b[0m\u001b[0;34m\u001b[0m\u001b[0m\n\u001b[0;32m---> 15\u001b[0;31m       \u001b[0;32mraise\u001b[0m \u001b[0mValueError\u001b[0m\u001b[0;34m(\u001b[0m\u001b[0;34m\"radius should be greater than 0\"\u001b[0m\u001b[0;34m)\u001b[0m\u001b[0;34m\u001b[0m\u001b[0;34m\u001b[0m\u001b[0m\n\u001b[0m\u001b[1;32m     16\u001b[0m     \u001b[0mself\u001b[0m\u001b[0;34m.\u001b[0m\u001b[0m_radius\u001b[0m \u001b[0;34m=\u001b[0m \u001b[0mr\u001b[0m\u001b[0;34m\u001b[0m\u001b[0;34m\u001b[0m\u001b[0m\n",
            "\u001b[0;31mValueError\u001b[0m: radius should be greater than 0"
          ]
        }
      ]
    },
    {
      "cell_type": "code",
      "metadata": {
        "colab": {
          "base_uri": "https://localhost:8080/",
          "height": 35
        },
        "id": "aqPB4tnWwJ7t",
        "outputId": "e9368e63-16ad-485f-b6ec-479de3244f67"
      },
      "source": [
        "class Foo:\n",
        "  def foo():\n",
        "    pass\n",
        "Foo().foo.__name__"
      ],
      "execution_count": 55,
      "outputs": [
        {
          "output_type": "execute_result",
          "data": {
            "application/vnd.google.colaboratory.intrinsic+json": {
              "type": "string"
            },
            "text/plain": [
              "'foo'"
            ]
          },
          "metadata": {
            "tags": []
          },
          "execution_count": 55
        }
      ]
    },
    {
      "cell_type": "markdown",
      "metadata": {
        "id": "ckleepEIrVa9"
      },
      "source": [
        "# Setters and Getters"
      ]
    },
    {
      "cell_type": "code",
      "metadata": {
        "id": "o2iaieI5twVD"
      },
      "source": [
        "import functools\n",
        "class JTProperty:\n",
        "  def __init__(self, setter = False):\n",
        "    self.setter = setter\n",
        "  def __call__(self, _func):\n",
        "    self._prop = None\n",
        "    @property\n",
        "    @functools.wraps(_func)\n",
        "    def wrapper(obj):\n",
        "      if not(self.setter):\n",
        "        if self._prop is None:\n",
        "          self._prop = _func(obj)\n",
        "        return self._prop\n",
        "      else:\n",
        "        if self._prop is None:\n",
        "          #print(obj, _func.__name__, _func(obj))\n",
        "          setattr(obj, _func.__name__, _func(obj))\n",
        "          #print(getattr(obj, f\"_{_func.__name__}\"))\n",
        "        self._prop = getattr(obj, f\"_{_func.__name__}\")\n",
        "        #return getattr(obj, f\"_{_func.__name__}\")\n",
        "        return self._prop\n",
        "    return wrapper"
      ],
      "execution_count": 112,
      "outputs": []
    },
    {
      "cell_type": "code",
      "metadata": {
        "id": "MHkIpw94sQ2_"
      },
      "source": [
        "class SetAndGet:\n",
        "  def __init__(self):\n",
        "    pass\n",
        "  @JTProperty(setter = True)\n",
        "  def radius(self):\n",
        "    return 2\n",
        "\n",
        "  @radius.setter\n",
        "  def radius(self, r):\n",
        "    #print(\"R\", r)\n",
        "    if r <= 0:\n",
        "      raise ValueError(\"radius should be greater than 0\")\n",
        "    self._radius = r\n"
      ],
      "execution_count": 113,
      "outputs": []
    },
    {
      "cell_type": "code",
      "metadata": {
        "colab": {
          "base_uri": "https://localhost:8080/",
          "height": 363
        },
        "id": "DcS0Gj-msQ2_",
        "outputId": "e1d02754-1530-40ee-d406-07ef58fe7451"
      },
      "source": [
        "setandget = SetAndGet()\n",
        "print(setandget.radius)\n",
        "setandget.radius = 5\n",
        "print(setandget.radius)\n",
        "setandget.radius = -5\n",
        "print(setandget.radius)"
      ],
      "execution_count": 114,
      "outputs": [
        {
          "output_type": "stream",
          "text": [
            "2\n",
            "5\n"
          ],
          "name": "stdout"
        },
        {
          "output_type": "error",
          "ename": "ValueError",
          "evalue": "ignored",
          "traceback": [
            "\u001b[0;31m---------------------------------------------------------------------------\u001b[0m",
            "\u001b[0;31mValueError\u001b[0m                                Traceback (most recent call last)",
            "\u001b[0;32m<ipython-input-114-13efa461d16a>\u001b[0m in \u001b[0;36m<module>\u001b[0;34m()\u001b[0m\n\u001b[1;32m      3\u001b[0m \u001b[0msetandget\u001b[0m\u001b[0;34m.\u001b[0m\u001b[0mradius\u001b[0m \u001b[0;34m=\u001b[0m \u001b[0;36m5\u001b[0m\u001b[0;34m\u001b[0m\u001b[0;34m\u001b[0m\u001b[0m\n\u001b[1;32m      4\u001b[0m \u001b[0mprint\u001b[0m\u001b[0;34m(\u001b[0m\u001b[0msetandget\u001b[0m\u001b[0;34m.\u001b[0m\u001b[0mradius\u001b[0m\u001b[0;34m)\u001b[0m\u001b[0;34m\u001b[0m\u001b[0;34m\u001b[0m\u001b[0m\n\u001b[0;32m----> 5\u001b[0;31m \u001b[0msetandget\u001b[0m\u001b[0;34m.\u001b[0m\u001b[0mradius\u001b[0m \u001b[0;34m=\u001b[0m \u001b[0;34m-\u001b[0m\u001b[0;36m5\u001b[0m\u001b[0;34m\u001b[0m\u001b[0;34m\u001b[0m\u001b[0m\n\u001b[0m\u001b[1;32m      6\u001b[0m \u001b[0mprint\u001b[0m\u001b[0;34m(\u001b[0m\u001b[0msetandget\u001b[0m\u001b[0;34m.\u001b[0m\u001b[0mradius\u001b[0m\u001b[0;34m)\u001b[0m\u001b[0;34m\u001b[0m\u001b[0;34m\u001b[0m\u001b[0m\n",
            "\u001b[0;32m<ipython-input-113-24b366372935>\u001b[0m in \u001b[0;36mradius\u001b[0;34m(self, r)\u001b[0m\n\u001b[1;32m     10\u001b[0m     \u001b[0;31m#print(\"R\", r)\u001b[0m\u001b[0;34m\u001b[0m\u001b[0;34m\u001b[0m\u001b[0;34m\u001b[0m\u001b[0m\n\u001b[1;32m     11\u001b[0m     \u001b[0;32mif\u001b[0m \u001b[0mr\u001b[0m \u001b[0;34m<=\u001b[0m \u001b[0;36m0\u001b[0m\u001b[0;34m:\u001b[0m\u001b[0;34m\u001b[0m\u001b[0;34m\u001b[0m\u001b[0m\n\u001b[0;32m---> 12\u001b[0;31m       \u001b[0;32mraise\u001b[0m \u001b[0mValueError\u001b[0m\u001b[0;34m(\u001b[0m\u001b[0;34m\"radius should be greater than 0\"\u001b[0m\u001b[0;34m)\u001b[0m\u001b[0;34m\u001b[0m\u001b[0;34m\u001b[0m\u001b[0m\n\u001b[0m\u001b[1;32m     13\u001b[0m     \u001b[0mself\u001b[0m\u001b[0;34m.\u001b[0m\u001b[0m_radius\u001b[0m \u001b[0;34m=\u001b[0m \u001b[0mr\u001b[0m\u001b[0;34m\u001b[0m\u001b[0;34m\u001b[0m\u001b[0m\n",
            "\u001b[0;31mValueError\u001b[0m: radius should be greater than 0"
          ]
        }
      ]
    },
    {
      "cell_type": "code",
      "metadata": {
        "colab": {
          "base_uri": "https://localhost:8080/"
        },
        "id": "VGlCQxySusyA",
        "outputId": "0c5f5ec6-8d03-4dbc-8a88-c7bd9932134c"
      },
      "source": [
        "a = [3]\n",
        "b = a\n",
        "a.append(5)\n",
        "print(b)\n",
        "a = 2\n",
        "print(b)"
      ],
      "execution_count": 102,
      "outputs": [
        {
          "output_type": "stream",
          "text": [
            "[3, 5]\n",
            "[3, 5]\n"
          ],
          "name": "stdout"
        }
      ]
    },
    {
      "cell_type": "code",
      "metadata": {
        "id": "OLXD9Bc10V7L"
      },
      "source": [
        ""
      ],
      "execution_count": null,
      "outputs": []
    }
  ]
}