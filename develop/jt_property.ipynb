{
  "nbformat": 4,
  "nbformat_minor": 0,
  "metadata": {
    "colab": {
      "name": "jt_property.ipynb",
      "provenance": [],
      "collapsed_sections": [],
      "toc_visible": true,
      "authorship_tag": "ABX9TyMCV9Fbo7RjF8qVetxr6/57",
      "include_colab_link": true
    },
    "kernelspec": {
      "name": "python3",
      "display_name": "Python 3"
    }
  },
  "cells": [
    {
      "cell_type": "markdown",
      "metadata": {
        "id": "view-in-github",
        "colab_type": "text"
      },
      "source": [
        "<a href=\"https://colab.research.google.com/github/Josiah-tan/ez_life/blob/main/develop/jt_property.ipynb\" target=\"_parent\"><img src=\"https://colab.research.google.com/assets/colab-badge.svg\" alt=\"Open In Colab\"/></a>"
      ]
    },
    {
      "cell_type": "markdown",
      "metadata": {
        "id": "ArVB_L5-Ylkf"
      },
      "source": [
        "# JTProperty Full Implementation \n",
        "- Code below shows full implementation of the JTproperty class\n",
        "  - Skip this section to skip the implementation\n",
        "    - To do this, Open table of contents, and go to [Basic Property Demo](#startDoc) to start\n",
        "- The objective of JTProperty is to make dependency code easier to write"
      ]
    },
    {
      "cell_type": "markdown",
      "metadata": {
        "id": "5zt_KufWOrTf"
      },
      "source": [
        "## Importing Dependencies"
      ]
    },
    {
      "cell_type": "code",
      "metadata": {
        "id": "H88G-lH3tKab"
      },
      "source": [
        "import copy\r\n",
        "import functools\r\n",
        "import sys\r\n",
        "import threading\r\n",
        "from queue import Queue"
      ],
      "execution_count": 1,
      "outputs": []
    },
    {
      "cell_type": "markdown",
      "metadata": {
        "id": "UhUhn3naOvfy"
      },
      "source": [
        "## Graph Datastructure\r\n",
        "- Implementation of a skeleton graph dependencies model for a single class\r\n",
        "  - This graph is the intermediate stage to building the final dependencies system"
      ]
    },
    {
      "cell_type": "code",
      "metadata": {
        "id": "5sIPlqtznqtW"
      },
      "source": [
        "class Node:\r\n",
        "  def __init__(self, data):\r\n",
        "    self.data = data\r\n",
        "    self.was_visited = False\r\n",
        "    self._edges = set()\r\n",
        "\r\n",
        "  def addEdge(self, edges):\r\n",
        "    \"\"\" add edges pointing out of self\"\"\"\r\n",
        "    assert isinstance(edges, set)\r\n",
        "    self._edges.update(edges) \r\n",
        "\r\n",
        "\r\n",
        "class Graph:\r\n",
        "  def __init__(self, cls_name):\r\n",
        "    self.cls_name = cls_name\r\n",
        "    self.data2node = {}\r\n",
        "\r\n",
        "  def data2Node(self, data):\r\n",
        "    \"\"\" Gets a node if it exists, else makes a node and finally returns this node\"\"\"\r\n",
        "    node = self.data2node.get(data, None)\r\n",
        "    if node is None:\r\n",
        "      node = Node(data)\r\n",
        "      self.data2node[data] = node\r\n",
        "    return node\r\n",
        "\r\n",
        "  def add(self, out, into):\r\n",
        "    \"\"\" Add edges between nodes\"\"\"\r\n",
        "    out = out if isinstance(out, (list, set)) else {out}\r\n",
        "    into = into if isinstance(into, (list, set)) else {into}\r\n",
        "\r\n",
        "    outNodes = {self.data2Node(o) for o in out}\r\n",
        "    intoNodes = {self.data2Node(i) for i in into}\r\n",
        "\r\n",
        "    for outNode in outNodes:\r\n",
        "      outNode.addEdge(intoNodes)\r\n",
        "  \r\n",
        "  def disp(self):\r\n",
        "    \"\"\" display the graph \"\"\"\r\n",
        "    for data, node in self.data2node.items():\r\n",
        "      print(f\"{data} points to {set(n.data for n in node._edges)}\")\r\n"
      ],
      "execution_count": 2,
      "outputs": []
    },
    {
      "cell_type": "markdown",
      "metadata": {
        "id": "GLw8V7m7G48L"
      },
      "source": [
        "## ClsGraphSys\r\n",
        "<img src=\"https://drive.google.com/uc?export=view&id=1fJywWJIvb6k78X_u1JNh28NzQl5xaMgl\" width=\"600\" align = \"right\"> \r\n",
        "- This 'graph' datastructure inherits from dict and it is the final datastructure used for traversal\r\n",
        "- The diagram to the right shows a single mapping from cls to a \"graph system\" (ClsGraphSys)\r\n",
        "  - Within the graph system, there is another dictionary containing all of the heirarchal base classes of cls and cls itself, and each of them maps to a graph datastructure\r\n",
        "    - These base class graphs are deep copies of their originals to ensure that node connections between all the graphs within the graph system work independently to their originals\r\n",
        "- Note: cls and basex are qualnames\r\n"
      ]
    },
    {
      "cell_type": "code",
      "metadata": {
        "id": "6uc1F_w-wi8A"
      },
      "source": [
        "class ClsGraphSys(dict):\r\n",
        "  def resetDep(self, cls, obj, protected_name):\r\n",
        "    \"\"\"\r\n",
        "    Runs a BFS alrgorithm on the graph datastructure to reset all downstream dependencies to None\r\n",
        "    parameters\r\n",
        "      -- cls = type(obj)\r\n",
        "      -- obj: the class object that we are dealing with\r\n",
        "      -- protected_name: the name of func prefixed with an underscore\r\n",
        "    \"\"\"\r\n",
        "\r\n",
        "    \"\"\" find node of protected_name by traversing through the MRO class heirarchy\"\"\"\r\n",
        "    node = None\r\n",
        "    for parent in cls.__mro__[:-1]: # exclude object class\r\n",
        "      parent_graph = self.get(parent.__qualname__, None) # get the parent graph (if None to continue iterating)\r\n",
        "      if parent_graph is not None: \r\n",
        "        node = parent_graph.data2node.get(protected_name, None) # get the node within the parent graph\r\n",
        "        if node is not None:\r\n",
        "            break\r\n",
        "\r\n",
        "    if node is None: #this here executes if protected_name is part of the class but is not a node\r\n",
        "      return\r\n",
        "\r\n",
        "    \"\"\" perform a recursive reset (deprecated) \"\"\"\r\n",
        "    # problem with this is that stack increases\r\n",
        "    def recursiveReset(node):\r\n",
        "      if node.was_visited or not isinstance(node, Node):\r\n",
        "        return\r\n",
        "      node.was_visited = True\r\n",
        "      if (node.data in dir(obj)) and getattr(obj, node.data) is not None: # added this here so that recursion stops when the attribute is already None such that downstream dependencies are not reset since they are assumed to be also None, or preset to some value \r\n",
        "        setattr(obj, node.data, None)\r\n",
        "        [recursiveReset(n) for n in node._edges]\r\n",
        "  \r\n",
        "\r\n",
        "      \"\"\" reseting all nodes visited to False for next iteration (deprecated) \"\"\"\r\n",
        "      # problem with this is that it goes through every single node in all parent classes\r\n",
        "      for parent in cls.__mro__[:-1]:\r\n",
        "        parent_graph = self.get(parent.__qualname__, None)\r\n",
        "        if parent_graph is not None:\r\n",
        "          for n in parent_graph.data2node.values():\r\n",
        "            n.was_visited = False\r\n",
        "\r\n",
        "    #recursiveReset(node)\r\n",
        "    \r\n",
        "    def BFSReset(node):\r\n",
        "      \"\"\" perform a breadth first reset\"\"\"\r\n",
        "      q = Queue()\r\n",
        "      visited = set()\r\n",
        "      q.put(node)\r\n",
        "      while (not(q.empty())):\r\n",
        "        node = q.get()\r\n",
        "        if (node not in visited and isinstance(node, Node)):\r\n",
        "          visited.add(node)\r\n",
        "          if (node.data in dir(obj)) and getattr(obj, node.data) is not None: # make sure that node.data is defined and is not None\r\n",
        "            setattr(obj, node.data, None)\r\n",
        "            for n in node._edges:\r\n",
        "              q.put(n)\r\n",
        "\r\n",
        "    BFSReset(node)\r\n",
        "  \r\n",
        "  def disp(self):\r\n",
        "    \"\"\" display the full graph system\"\"\"\r\n",
        "    for cls, graph in self.items():\r\n",
        "      print(f\"for cls: {cls}\")\r\n",
        "      graph.disp()"
      ],
      "execution_count": 3,
      "outputs": []
    },
    {
      "cell_type": "code",
      "metadata": {
        "colab": {
          "base_uri": "https://localhost:8080/"
        },
        "id": "YoB8c5d-xeSF",
        "outputId": "1e2153c7-d2c4-4596-a810-f17762db7ae4"
      },
      "source": [
        "if __name__ == \"__main__\":\r\n",
        "  cls_dict = ClsGraphSys()\r\n",
        "  cls_dict['1'] = 4\r\n",
        "  print(type(cls_dict))\r\n"
      ],
      "execution_count": 4,
      "outputs": [
        {
          "output_type": "stream",
          "text": [
            "<class '__main__.ClsGraphSys'>\n"
          ],
          "name": "stdout"
        }
      ]
    },
    {
      "cell_type": "code",
      "metadata": {
        "colab": {
          "base_uri": "https://localhost:8080/"
        },
        "id": "UK3zzlOJBj7E",
        "outputId": "77a4ff1d-d8bb-4258-ee4d-a948e0beb894"
      },
      "source": [
        "if __name__ == \"__main__\":\r\n",
        "  q = Queue()\r\n",
        "  print(q.empty())\r\n",
        "  q.put(1)\r\n",
        "  print(q.empty())\r\n",
        "  a = set()\r\n",
        "  print(dir(a))\r\n",
        "  a.add(1)\r\n",
        "  print(a)"
      ],
      "execution_count": 5,
      "outputs": [
        {
          "output_type": "stream",
          "text": [
            "True\n",
            "False\n",
            "['__and__', '__class__', '__contains__', '__delattr__', '__dir__', '__doc__', '__eq__', '__format__', '__ge__', '__getattribute__', '__gt__', '__hash__', '__iand__', '__init__', '__init_subclass__', '__ior__', '__isub__', '__iter__', '__ixor__', '__le__', '__len__', '__lt__', '__ne__', '__new__', '__or__', '__rand__', '__reduce__', '__reduce_ex__', '__repr__', '__ror__', '__rsub__', '__rxor__', '__setattr__', '__sizeof__', '__str__', '__sub__', '__subclasshook__', '__xor__', 'add', 'clear', 'copy', 'difference', 'difference_update', 'discard', 'intersection', 'intersection_update', 'isdisjoint', 'issubset', 'issuperset', 'pop', 'remove', 'symmetric_difference', 'symmetric_difference_update', 'union', 'update']\n",
            "{1}\n"
          ],
          "name": "stdout"
        }
      ]
    },
    {
      "cell_type": "markdown",
      "metadata": {
        "id": "mrnDDEsDAD8D"
      },
      "source": [
        "## DefaultSetter\r\n",
        "- DefaultSetter is a class that sets a default identity setter when setter = \"default\" is called via the JTProperty class"
      ]
    },
    {
      "cell_type": "code",
      "metadata": {
        "id": "bQ_NhGPKAVgS"
      },
      "source": [
        "class DefaultSetter:\r\n",
        "    def __init__(self, setter):\r\n",
        "      self.setter = self.preprocessSetter(setter)\r\n",
        "    \r\n",
        "    def preprocessSetter(self, setter):\r\n",
        "      \"\"\"preprocesses setter arguments\"\"\"\r\n",
        "      if type(setter) is str:\r\n",
        "        setter = {setter.lower()}\r\n",
        "      elif hasattr(setter, '__iter__'):\r\n",
        "        [self.preprocessSetter(s) for s in setter]  # call the function recursively on each element of the setter\r\n",
        "        setter = set(setter) # make sure that the iterable is a set to ensure that checking occurs in O(1) time\r\n",
        "      else:\r\n",
        "        self.errorCheckSetter(setter)\r\n",
        "        setter = {setter}\r\n",
        "\r\n",
        "\r\n",
        "      return setter\r\n",
        "\r\n",
        "    def errorCheckSetter(self, setter):\r\n",
        "      \"\"\" performs error checking on a non iterable \"\"\"\r\n",
        "      if (type(setter) is bool): # in older versions <= 1.0.2 True and False were used for setter detection\r\n",
        "        raise Exception(f\"use of type bool is deprecated, don't use setter={str(setter)}\")\r\n",
        "      elif setter is None or type(setter) is type or type(setter) is str: # don't do anything here if valid\r\n",
        "        pass\r\n",
        "      else:\r\n",
        "        raise Exception(f\"Illegal input for setter={setter}\")\r\n",
        "\r\n",
        "    def __call__(self, _func):\r\n",
        "      if \"default\" in self.setter:\r\n",
        "        _func = _func.setter(self.defaultSetter)\r\n",
        "      \r\n",
        "      elif None in self.setter:\r\n",
        "        pass\r\n",
        "\r\n",
        "      else:\r\n",
        "        _func = _func.setter(self.defaultTypeSetter)\r\n",
        "\r\n",
        "      return _func\r\n",
        "    \r\n",
        "    @staticmethod\r\n",
        "    def defaultSetter(obj, var):\r\n",
        "      return var\r\n",
        "    \r\n",
        "    def defaultTypeSetter(self, obj, var):\r\n",
        "      # Note that we need self here because of self.setter\r\n",
        "      if (type(var) in self.setter): # O(1) lookup since self.setter is a set\r\n",
        "        return var\r\n",
        "      else:\r\n",
        "        raise TypeError(f\"expected {self.setter}, got {type(var)}\")\r\n"
      ],
      "execution_count": 6,
      "outputs": []
    },
    {
      "cell_type": "markdown",
      "metadata": {
        "id": "hEOQydp5OwnV"
      },
      "source": [
        "## EzProperty\r\n",
        "  - EzProperty function returns an object that inherits from the property class\r\n",
        "    - Currently EzProperty changes the setter function such that the return value is the value set by the setter"
      ]
    },
    {
      "cell_type": "code",
      "metadata": {
        "id": "g6N9hwOSJCRF"
      },
      "source": [
        "def EzProperty(JTProperty_obj):\n",
        "  class ClsWrapper(property):\n",
        "    def __init__(self, *args, **kwargs):\n",
        "      return super().__init__(*args, **kwargs)\n",
        "    \n",
        "    def initClsGraphSys(self, cls, cls_name):\n",
        "      if JTProperty.cls_name2graph_sys.get(cls_name) is None: # quickly creating a graph for an object with child class having no JTProperties :<\n",
        "        JTProperty.cls_name2graph_sys[cls_name] = ClsGraphSys()\n",
        "        cls_graph_sys = JTProperty.cls_name2graph_sys[cls_name]\n",
        "        JTProperty_obj.cpParentGraphs(cls, cls_graph_sys)\n",
        "\n",
        "    def setter_preprocess(self, _func):\n",
        "      \"\"\"\n",
        "      Performs preprocessing on the self._func decorated by @func.setter\n",
        "        - resets all downstream graph dependencies\n",
        "        - sets return value of _func to protected name of _func\n",
        "      \"\"\"\n",
        "      JTProperty_obj.setter_unavailable = False # tells the getVar method to use the public setter rather than the protected one\n",
        "\n",
        "      def wrapper(obj, val):\n",
        "        JTProperty_obj.joinClsThreads() # ensures that all class variables become available \n",
        "\n",
        "        cls = type(obj)\n",
        "        cls_name = cls.__qualname__\n",
        "        self.initClsGraphSys(cls, cls_name) # makes sure that a graphsys is available for type(self) before resetting dependencies\n",
        "\n",
        "        JTProperty.cls_name2graph_sys[cls_name].resetDep(cls, obj, JTProperty_obj.protected_name)\n",
        "\n",
        "        setattr(obj, JTProperty_obj.protected_name, _func(obj, val))\n",
        "      return wrapper\n",
        "  \n",
        "    def setter(self, _func):\n",
        "      \"\"\"\n",
        "      calls setter_preprocess wrapper to alter behaviour of _func\n",
        "      \"\"\"\n",
        "      return super().setter(self.setter_preprocess(_func))\n",
        "  return ClsWrapper"
      ],
      "execution_count": 7,
      "outputs": []
    },
    {
      "cell_type": "markdown",
      "metadata": {
        "id": "DnufyeP_PMu8"
      },
      "source": [
        "## JTProperty\r\n",
        "- The Main class decorator"
      ]
    },
    {
      "cell_type": "code",
      "metadata": {
        "id": "yUaZV0l3N6X_"
      },
      "source": [
        "\n",
        "class JTProperty:\n",
        "\n",
        "  # dicts for clsWasDeclared multithreading\n",
        "  cls_name2cls = {}\n",
        "  cls_name2thread = {}\n",
        "  cls_name2active_t = {} # stores currently active threads\n",
        "\n",
        "  # contains scaffolds of cls graphs\n",
        "  cls_name2graph = {}\n",
        "  # contains actual cls graph systems\n",
        "  cls_name2graph_sys = {}\n",
        "\n",
        "  # maps the name of the classes to a list of protected variables which were defined in a class\n",
        "  cls_name2protected_names = {}\n",
        "\n",
        "  def __init__(self, setter = None, deps = None):\n",
        "    \"\"\"\n",
        "    parameters:\n",
        "      -- setter: None (default) <- means no setter\n",
        "                 type (int, str, float etc...) <- uses defaultTypeSetter\n",
        "                 \"default\" <- uses defaultSetter\n",
        "                 bool <- deprecated\n",
        "      -- deps: a list/ set of strings or space seperated string \"dependencies\"\n",
        "               these dependencies are other JTProperty decorated methods,\n",
        "               graphically, this is a list of nodes that point to the current decorated node\n",
        "    \"\"\"\n",
        "    self.setter = setter\n",
        "    self.deps = self.preprocessDeps(deps)\n",
        "\n",
        "    self.setter_unavailable = True # we first assume that the setter method is unavailable, this can be changed by the _func.setter(func) call later\n",
        "\n",
        "  def preprocessDeps(self, deps):\n",
        "    \"\"\"\n",
        "    converts all deps to protected string variables\n",
        "    \"\"\"\n",
        "    if deps is None:\n",
        "      return None\n",
        "    \n",
        "    if isinstance(deps, str):\n",
        "      deps = set(deps.split(' '))\n",
        "\n",
        "    \"\"\"\n",
        "    if not isinstance(deps, (list, set)):\n",
        "      deps = set(deps)\n",
        "    \"\"\"\n",
        "\n",
        "    #check if all dependencies are a string (or a EzProperty instance <- not implemented)\n",
        "    assert all(isinstance(dep, (str)) for dep in deps)\n",
        "    return {f\"_{dep}\" for dep in deps}\n",
        "\n",
        "  def getVar(self, obj):\n",
        "    # if self._name is not available atm or it is set to None\n",
        "    if (self.protected_name not in dir(obj)) or (getattr(obj, self.protected_name) is None):\n",
        "      if self.setter_unavailable:\n",
        "        setattr(obj, self.protected_name, self._func(obj)) \n",
        "      else:\n",
        "        # call setter method with the return value of the property function, this effectively sets obj._name\n",
        "        setattr(obj, self.public_name, self._func(obj)) \n",
        "    return getattr(obj, self.protected_name)\n",
        "\n",
        "  def addProtectedNames2ClsName(self):\n",
        "    \"\"\" adding a property to a dict containing the name of class in which it belongs too\"\"\"\n",
        "    if self.cls_name2protected_names.get(self.cls_name, None) is None:\n",
        "      self.cls_name2protected_names[self.cls_name] = [self.protected_name]\n",
        "    else:\n",
        "      self.cls_name2protected_names[self.cls_name].append(self.protected_name) \n",
        "    \n",
        "  def initDepGraph(self):\n",
        "    \"\"\" Initialises a dep graph for the class of the decorated function and/or builds edges and nodes\"\"\"\n",
        "    # Create a graph if not available\n",
        "    cls_graph = self.cls_name2graph.get(self.cls_name, None)\n",
        "    if cls_graph is None:\n",
        "      self.cls_name2graph[self.cls_name] = Graph(self.cls_name)\n",
        "\n",
        "    # add edges for dependencies\n",
        "    if self.deps is not None:\n",
        "      self.cls_name2graph[self.cls_name].add(out = self.deps, into = self.protected_name)\n",
        "    else: # important for inheritence\n",
        "      self.cls_name2graph[self.cls_name].add(out = [], into = self.protected_name)\n",
        "\n",
        "  def __call__(self, _func):\n",
        "    self._func = _func\n",
        "    self.public_name = _func.__name__\n",
        "    self.protected_name = f\"_{self.public_name}\"\n",
        "\n",
        "    self.cls_name = _func.__qualname__.rsplit('.', 1)[0]\n",
        "    #cls = inspect._findclass(_func) <- big annoying problem: can't get cls from _func within this __call__ method, cls is not a global variable yet <- this is also why multithreading was used\n",
        "\n",
        "    self.addProtectedNames2ClsName()\n",
        "    self.initDepGraph() # create a node for the decorated function and its edges \n",
        "\n",
        "    # the getter method here\n",
        "    @DefaultSetter(self.setter)\n",
        "    @EzProperty(self)\n",
        "    @functools.wraps(_func)\n",
        "    def wrapper(obj):\n",
        "      self.joinClsThreads() # ensures inherited classes' nodes have been fully connected\n",
        "      return self.getVar(obj)\n",
        "\n",
        "    # perform tasks after cls is declared (run this last to reduce busy waiting load)\n",
        "    self.clsWasDeclared()\n",
        "    return wrapper\n",
        "\n",
        "  def clsWasDeclared(self):\n",
        "    def cls_name2Cls():\n",
        "      # is a listener like this efficient? Can someone let me know please, my concern is that this listener would be considered \"busy\"\n",
        "\n",
        "      # Code below was inspired by inspect.py -> _findclass() \n",
        "      cls_not_found = True\n",
        "      while cls_not_found:\n",
        "        cls_not_found = False\n",
        "        cls = sys.modules.get(self._func.__module__)\n",
        "        for name in self.cls_name.split('.'):\n",
        "          if name in dir(cls):\n",
        "            cls = getattr(cls, name)\n",
        "          else:\n",
        "            cls_not_found = True\n",
        "            break\n",
        "\n",
        "      self.cls_name2cls[self.cls_name] = cls \n",
        "\n",
        "      # do tasks here after cls is declared\n",
        "      self.createDepGraph(cls)\n",
        "    \n",
        "    # we only run this block once (for the first decorated method in the class)\n",
        "    if self.cls_name2thread.get(self.cls_name, None) is None:\n",
        "      self.cls_name2thread[self.cls_name] = threading.Thread(target = cls_name2Cls)\n",
        "      self.cls_name2thread[self.cls_name].start()\n",
        "\n",
        "      self.cls_name2active_t[self.cls_name] = self.cls_name2thread[self.cls_name] # to denote that its running\n",
        "\n",
        "\n",
        "  def createDepGraph(self, cls):\n",
        "    \"\"\" ensuring that all parent threads are complete\"\"\"\n",
        "    for parent in cls.__mro__[-2:0:-1]: # exclude beginning and end, and reverse the list\n",
        "      parent_name = parent.__qualname__\n",
        "      parent_t = self.cls_name2active_t.pop(parent_name, None)\n",
        "      if parent_t is not None:\n",
        "        parent_t.join()\n",
        "    \n",
        "    \"\"\"cls_name2graph_sys initialisation and copying class parent graphs\"\"\"\n",
        "    self.cls_name2graph_sys[self.cls_name] = ClsGraphSys({self.cls_name : self.cls_name2graph[self.cls_name]}) #ClsGraph inherits from dict, has method resetDepGraph\n",
        "    cls_graph_sys = self.cls_name2graph_sys[self.cls_name]\n",
        "    self.cpParentGraphs(cls, cls_graph_sys)\n",
        "\n",
        "    \"\"\"connecting nodes from parent classes\"\"\"\n",
        "    prot_names2del = []\n",
        "    for data, node in cls_graph_sys[self.cls_name].data2node.items(): # data is the protected decorated _func name\n",
        "      for parent in cls.__mro__[:-1]: # we want to go in order of how Python searches through the inherited classes excluding final object class\n",
        "        parent_name = parent.__qualname__\n",
        "\n",
        "        parent_prot_name = self.cls_name2protected_names.get(parent_name)\n",
        "        if parent_prot_name is not None: # edge test case: parent may not have JTProperty Decorator inside\n",
        "          if data in parent_prot_name: # check if the protected variable was defined in this parent class\n",
        "            if parent is not cls: # don't need to reconnect nodes when the protected variable is inside cls\n",
        "              # adding node connections\n",
        "              parent_node = cls_graph_sys[parent_name].data2node[data]\n",
        "              parent_node.addEdge(node._edges)\n",
        "              prot_names2del.append(data)\n",
        "            break # make sure to get out of the MRO loop as soon as u find the variable (cause that's just how MRO works)\n",
        "\n",
        "    \"\"\" deleting uneccessary nodes \"\"\"\n",
        "    for protected_name in prot_names2del:\n",
        "        del cls_graph_sys[self.cls_name].data2node[protected_name]\n",
        "    \n",
        "  def cpParentGraphs(self, cls, cls_graph_sys):\n",
        "    for parent in cls.__bases__: # only use parents that are directly inherited\n",
        "      if parent is not object: # case for no inheritence\n",
        "        parent_graph = self.cls_name2graph_sys.get(parent.__qualname__) # cases where classes may not have JTProperty decorators\n",
        "        if parent_graph is not None:\n",
        "          cls_graph_sys.update(copy.deepcopy(parent_graph)) # make deep copies of the parent graphs to prevent effecting the parent graph\n",
        "        else:\n",
        "          self.cpParentGraphs(parent, cls_graph_sys) # if a class does not have JTProperty decorators, get parent classes of this parent\n",
        "\n",
        "          \n",
        "  def joinClsThreads(self):\n",
        "    \"\"\" in any arbitrary order join all cls threads \"\"\"\n",
        "    while len(self.cls_name2active_t) != 0:\n",
        "      cls_name, active_t = self.cls_name2active_t.popitem()\n",
        "      active_t.join()"
      ],
      "execution_count": 8,
      "outputs": []
    },
    {
      "cell_type": "markdown",
      "metadata": {
        "id": "QnD6WlqN3dc5"
      },
      "source": [
        "# Installation and Importing\r\n",
        "- The code below is for installing and importing the ez_life package"
      ]
    },
    {
      "cell_type": "code",
      "metadata": {
        "id": "ogTwQHWZziD9"
      },
      "source": [
        "#!pip install -U ez-life"
      ],
      "execution_count": 9,
      "outputs": []
    },
    {
      "cell_type": "code",
      "metadata": {
        "id": "lWchj26jzpHi"
      },
      "source": [
        "#from ez_life import JTProperty"
      ],
      "execution_count": 10,
      "outputs": []
    },
    {
      "cell_type": "markdown",
      "metadata": {
        "id": "UiYLfa03J9i7"
      },
      "source": [
        "## A Small Helper Function\r\n",
        "- Helps with debug testing"
      ]
    },
    {
      "cell_type": "code",
      "metadata": {
        "id": "aTnfParTJ9Fd"
      },
      "source": [
        "if __name__ == '__main__':\r\n",
        "  def print_assert(p, a = None):\r\n",
        "    print(p)\r\n",
        "    if a is not None:\r\n",
        "      assert p.__str__() == a.__str__()"
      ],
      "execution_count": 11,
      "outputs": []
    },
    {
      "cell_type": "markdown",
      "metadata": {
        "id": "NUm8FroHu9aP"
      },
      "source": [
        "<a id='startDoc'></a>"
      ]
    },
    {
      "cell_type": "markdown",
      "metadata": {
        "id": "2qLwulmr9FMM"
      },
      "source": [
        "# Class Instance Atributes\r\n",
        "  - There are cases where dependencies can be linked to JTProperty methods within class instance attributes\r\n",
        "  \r\n"
      ]
    },
    {
      "cell_type": "code",
      "metadata": {
        "id": "h6pUsgcbDNEZ",
        "colab": {
          "base_uri": "https://localhost:8080/",
          "height": 107
        },
        "outputId": "328868b3-640a-4e1a-f380-83ab02ae606f"
      },
      "source": [
        "\"\"\"\r\n",
        "if __name__ == '__main__':\r\n",
        "  class ClassAttrDemo:\r\n",
        "    @JTProperty(setter=\"default\")\r\n",
        "    def a(self):\r\n",
        "      return 'a'\r\n",
        "\r\n",
        "    @JTProperty(setter=\"default\", deps=\"a\")\r\n",
        "    def b(self):\r\n",
        "      return self.a + '->b'\r\n",
        "\r\n",
        "  class ClassAttrContainerDemo:\r\n",
        "    def __init__(self):\r\n",
        "      self.class_attr_demo = ClassAttrDemo()\r\n",
        "      \r\n",
        "    @JTProperty(setter = \"Default\")\r\n",
        "    def c(self):\r\n",
        "      return 'c'\r\n",
        "  \r\n",
        "    @JTProperty(setter = \"Default\", deps = ['c', 'class_attr_demo.b'])\r\n",
        "    def d(self):\r\n",
        "      return self.class_attr_demo.b + '->d' + ' and ' + self.c + '->d'\r\n",
        "\"\"\""
      ],
      "execution_count": 12,
      "outputs": [
        {
          "output_type": "execute_result",
          "data": {
            "application/vnd.google.colaboratory.intrinsic+json": {
              "type": "string"
            },
            "text/plain": [
              "'\\nif __name__ == \\'__main__\\':\\n  class ClassAttrDemo:\\n    @JTProperty(setter=\"default\")\\n    def a(self):\\n      return \\'a\\'\\n\\n    @JTProperty(setter=\"default\", deps=\"a\")\\n    def b(self):\\n      return self.a + \\'->b\\'\\n\\n  class ClassAttrContainerDemo:\\n    def __init__(self):\\n      self.class_attr_demo = ClassAttrDemo()\\n      \\n    @JTProperty(setter = \"Default\")\\n    def c(self):\\n      return \\'c\\'\\n  \\n    @JTProperty(setter = \"Default\", deps = [\\'c\\', \\'class_attr_demo.b\\'])\\n    def d(self):\\n      return self.class_attr_demo.b + \\'->d\\' + \\' and \\' + self.c + \\'->d\\'\\n'"
            ]
          },
          "metadata": {
            "tags": []
          },
          "execution_count": 12
        }
      ]
    },
    {
      "cell_type": "code",
      "metadata": {
        "id": "Z3phWdKAE5lz",
        "colab": {
          "base_uri": "https://localhost:8080/",
          "height": 71
        },
        "outputId": "ea3bffcd-7b2a-4252-e185-7495f2e39834"
      },
      "source": [
        "\"\"\"\r\n",
        "if __name__ == '__main__':\r\n",
        "  class_attr_container_demo = ClassAttrContainerDemo()\r\n",
        "  print_assert(class_attr_container_demo.d, \"a->b->d and c->d\")\r\n",
        "  class_attr_container_demo.class_attr_demo.a = 'A'\r\n",
        "  print_assert(class_attr_container_demo.d, \"A->b->d and c->d\")\r\n",
        "\"\"\""
      ],
      "execution_count": 13,
      "outputs": [
        {
          "output_type": "execute_result",
          "data": {
            "application/vnd.google.colaboratory.intrinsic+json": {
              "type": "string"
            },
            "text/plain": [
              "'\\nif __name__ == \\'__main__\\':\\n  class_attr_container_demo = ClassAttrContainerDemo()\\n  print_assert(class_attr_container_demo.d, \"a->b->d and c->d\")\\n  class_attr_container_demo.class_attr_demo.a = \\'A\\'\\n  print_assert(class_attr_container_demo.d, \"A->b->d and c->d\")\\n'"
            ]
          },
          "metadata": {
            "tags": []
          },
          "execution_count": 13
        }
      ]
    },
    {
      "cell_type": "markdown",
      "metadata": {
        "id": "fRIQO_4a6l3u"
      },
      "source": [
        "# Documentation Overview\r\n",
        "- If this is your first time here, it might be more intuitive for you to skip this section and start at Basic Property Demo \r\n",
        "\r\n",
        "- JTProperty(setter = None, deps = None)\r\n",
        "  - setter: denotes 3 modes of operation\r\n",
        "    1. setter = None (default behaviour)\r\n",
        "      - Means that the property can not be set externally, i.e it can only be read (or \"gotten\")\r\n",
        "    1. setter = \"default\"\r\n",
        "      - Uses the defaultSetter method (see Automatic Setter section for a demo) to allow the property to be set to some value\r\n",
        "    1. setter = type (int, str, float, etc ...)\r\n",
        "      - Uses the defaultTypeSetter method (see Default type Setter section for a demo) to allow the property to be set to some value provided that this value is a specific type\r\n",
        "  - deps: a list/ set of strings or space seperated string \"dependencies\" \r\n",
        "    - These dependencies must be the string representation of other JTProperty decorated methods\r\n",
        "    - Graphically, the dependencies are a list of nodes that point to the current decorated node\r\n",
        "    - (See Graph Dependencies for a demo)"
      ]
    },
    {
      "cell_type": "markdown",
      "metadata": {
        "id": "W0vTZoBlZNiy"
      },
      "source": [
        "# Basic Property Demo \n",
        "- prop3 is dependent upon the values of prop2 and prop 1 as shown below\n"
      ]
    },
    {
      "cell_type": "code",
      "metadata": {
        "id": "m5S7LvCDVHxe"
      },
      "source": [
        "if __name__ == \"__main__\":\n",
        "  class PropDemo:\n",
        "    def __init__(self):\n",
        "      self._prop1 = None\n",
        "      self._prop2 = None\n",
        "      self._prop3 = None\n",
        "    \n",
        "    @property\n",
        "    def prop1(self):\n",
        "      if self._prop1 is None:\n",
        "        self._prop1 = self.get_prop1()\n",
        "      return self._prop1\n",
        "  \n",
        "    @property\n",
        "    def prop2(self):\n",
        "      if self._prop2 is None:\n",
        "        self._prop2 = self.get_prop2()\n",
        "      return self._prop2\n",
        "  \n",
        "    @property\n",
        "    def prop3(self):\n",
        "      if self._prop3 is None:\n",
        "        self._prop3 = self.get_prop3()\n",
        "      return self._prop3\n",
        "  \n",
        "    def get_prop1(self):\n",
        "      return 1\n",
        "    def get_prop2(self):\n",
        "      return self.prop1 + 1\n",
        "    def get_prop3(self):\n",
        "      return self.prop2 + 1\n",
        "    \n",
        "  "
      ],
      "execution_count": 14,
      "outputs": []
    },
    {
      "cell_type": "code",
      "metadata": {
        "id": "yX9oKePRXcJ-",
        "colab": {
          "base_uri": "https://localhost:8080/"
        },
        "outputId": "db6a0f19-e50f-4477-b4b7-eaa2c9107920"
      },
      "source": [
        "if __name__ == '__main__':\n",
        "  prop_dem = PropDemo()\n",
        "  print_assert(prop_dem.prop3, '3')"
      ],
      "execution_count": 15,
      "outputs": [
        {
          "output_type": "stream",
          "text": [
            "3\n"
          ],
          "name": "stdout"
        }
      ]
    },
    {
      "cell_type": "markdown",
      "metadata": {
        "id": "d4qR1MYmZtmF"
      },
      "source": [
        "- The @JTProperty decorator uses less lines of code then the @property decorator, but achieves the same result"
      ]
    },
    {
      "cell_type": "code",
      "metadata": {
        "id": "rpW6e30EXXfv"
      },
      "source": [
        "if __name__ == \"__main__\":\n",
        "  class JTPropDemo:\n",
        "    def __init__(self):\n",
        "      pass\n",
        "    \n",
        "    @JTProperty()\n",
        "    def prop1(self):\n",
        "      return 1\n",
        "  \n",
        "    @JTProperty()\n",
        "    def prop2(self):\n",
        "      return self.prop1 + 1\n",
        "  \n",
        "    @JTProperty()\n",
        "    def prop3(self):\n",
        "      return self.prop2 + 1\n",
        "    "
      ],
      "execution_count": 16,
      "outputs": []
    },
    {
      "cell_type": "code",
      "metadata": {
        "id": "IzcG0AH0hlVC",
        "colab": {
          "base_uri": "https://localhost:8080/"
        },
        "outputId": "b7533d97-8745-499c-f11c-57db0a0e7780"
      },
      "source": [
        "if __name__ == '__main__':\n",
        "  prop_dem = JTPropDemo()\n",
        "  print_assert(prop_dem.prop3, '3')\n"
      ],
      "execution_count": 17,
      "outputs": [
        {
          "output_type": "stream",
          "text": [
            "3\n"
          ],
          "name": "stdout"
        }
      ]
    },
    {
      "cell_type": "markdown",
      "metadata": {
        "id": "yGv3pk4cZeYN"
      },
      "source": [
        "# Setter methods\n",
        "- Consider a class that uses getter and setter methods as shown below:"
      ]
    },
    {
      "cell_type": "code",
      "metadata": {
        "id": "jbqjkEopaeKU"
      },
      "source": [
        "if __name__ == '__main__':\n",
        "  class SetAndGet:\n",
        "    def __init__(self, r = 1):\n",
        "      # initialise the protected variable\n",
        "      self._radius = None\n",
        "  \n",
        "      # calls the @radius.setter method\n",
        "      self.radius = r\n",
        "    @property\n",
        "    def radius(self):\n",
        "      if self._radius is None:\n",
        "        self.radius = 2\n",
        "      return self._radius\n",
        "    @radius.setter\n",
        "    def radius(self, r):\n",
        "      if r <= 0:\n",
        "        raise ValueError(\"radius should be greater than 0\")\n",
        "      self._radius = r"
      ],
      "execution_count": 18,
      "outputs": []
    },
    {
      "cell_type": "markdown",
      "metadata": {
        "id": "GEuBsRFYdqoS"
      },
      "source": [
        "- In the test below, contextlib silences the ValueError that occurs with setting the radius to -5"
      ]
    },
    {
      "cell_type": "code",
      "metadata": {
        "id": "pWqFLWMbbq5O",
        "colab": {
          "base_uri": "https://localhost:8080/"
        },
        "outputId": "71d8b244-65de-4900-dc74-bc995e500029"
      },
      "source": [
        "if __name__ == '__main__':\n",
        "  import contextlib\n",
        "  setandget = SetAndGet()\n",
        "  print_assert(setandget.radius, '1')\n",
        "\n",
        "  setandget.radius = 5\n",
        "  print_assert(setandget.radius, '5')\n",
        "\n",
        "  setandget.radius = 3\n",
        "  print_assert(setandget.radius, '3')\n",
        "\n",
        "  with contextlib.suppress(ValueError):\n",
        "    setandget.radius = -5\n",
        "  print_assert(setandget.radius, '3')"
      ],
      "execution_count": 19,
      "outputs": [
        {
          "output_type": "stream",
          "text": [
            "1\n",
            "5\n",
            "3\n",
            "3\n"
          ],
          "name": "stdout"
        }
      ]
    },
    {
      "cell_type": "markdown",
      "metadata": {
        "id": "95UDzFNYd8lS"
      },
      "source": [
        "- The JTProperty() and .setter decorators introduce abstraction with the automated use of hidden \"protected variables\"\n",
        "  - In this case, the protected variable is self._radius"
      ]
    },
    {
      "cell_type": "code",
      "metadata": {
        "id": "yh2VTbQsN6X_"
      },
      "source": [
        "if __name__ == '__main__':\n",
        "  class JTSetAndGet:\n",
        "    def __init__(self, r = 1):\n",
        "      self.radius = r\n",
        "    @JTProperty()\n",
        "    def radius(self):\n",
        "      return 2\n",
        "  \n",
        "    @radius.setter\n",
        "    def radius(self, r):\n",
        "      if r <= 0:\n",
        "        raise ValueError(\"radius should be greater than 0\")\n",
        "      return r\n",
        "  "
      ],
      "execution_count": 20,
      "outputs": []
    },
    {
      "cell_type": "code",
      "metadata": {
        "id": "5ULZHnGxN6X_",
        "colab": {
          "base_uri": "https://localhost:8080/"
        },
        "outputId": "31d4c0fb-4af1-425e-92ab-b603d901624a"
      },
      "source": [
        "if __name__ == '__main__':\n",
        "  import contextlib\n",
        "  setandget = SetAndGet()\n",
        "  print_assert(setandget.radius, '1')\n",
        "\n",
        "  setandget.radius = 5\n",
        "  print_assert(setandget.radius, '5')\n",
        "\n",
        "  setandget.radius = 3\n",
        "  print_assert(setandget.radius, '3')\n",
        "\n",
        "  with contextlib.suppress(ValueError):\n",
        "    setandget.radius = -5\n",
        "  print_assert(setandget.radius, '3')"
      ],
      "execution_count": 21,
      "outputs": [
        {
          "output_type": "stream",
          "text": [
            "1\n",
            "5\n",
            "3\n",
            "3\n"
          ],
          "name": "stdout"
        }
      ]
    },
    {
      "cell_type": "markdown",
      "metadata": {
        "id": "c2z24t4sb-hT"
      },
      "source": [
        "## Automatic Setter \r\n",
        "- The JTProperty decorator allows for automatically generated setters\r\n",
        "- The code below demonstrates the explicit version, followed by the implicit version\r\n",
        "  - The explicit version gives the same functionality as the implicit version"
      ]
    },
    {
      "cell_type": "code",
      "metadata": {
        "id": "rdrrZjLLcW35"
      },
      "source": [
        "if __name__ == '__main__':\r\n",
        "  # writing the setter explicitly\r\n",
        "  class SetterDemo:\r\n",
        "    @JTProperty()\r\n",
        "    def prop(self):\r\n",
        "      return 1\r\n",
        "    \r\n",
        "    @prop.setter\r\n",
        "    def prop(self, val):\r\n",
        "      return val"
      ],
      "execution_count": 22,
      "outputs": []
    },
    {
      "cell_type": "code",
      "metadata": {
        "id": "6Znaz9ihxyiI",
        "colab": {
          "base_uri": "https://localhost:8080/"
        },
        "outputId": "88c30830-1d0e-4f5a-bf4d-dd065c789f55"
      },
      "source": [
        "if __name__ == \"__main__\":\r\n",
        "  # test setter before getter\r\n",
        "  setter_demo = SetterDemo()\r\n",
        "  setter_demo.prop = 2\r\n",
        "  print_assert(setter_demo.prop, '2')"
      ],
      "execution_count": 23,
      "outputs": [
        {
          "output_type": "stream",
          "text": [
            "2\n"
          ],
          "name": "stdout"
        }
      ]
    },
    {
      "cell_type": "code",
      "metadata": {
        "id": "x7R5jBy8xyip",
        "colab": {
          "base_uri": "https://localhost:8080/"
        },
        "outputId": "75d750e2-8485-4b87-aeb8-df135b95950f"
      },
      "source": [
        "if __name__ == \"__main__\":\r\n",
        "  # test getter before setter\r\n",
        "  setter_demo = SetterDemo()\r\n",
        "  print_assert(setter_demo.prop, '1')"
      ],
      "execution_count": 24,
      "outputs": [
        {
          "output_type": "stream",
          "text": [
            "1\n"
          ],
          "name": "stdout"
        }
      ]
    },
    {
      "cell_type": "markdown",
      "metadata": {
        "id": "soggcKha5Wog"
      },
      "source": [
        "- The implict version is shown below: setter=\"Default\""
      ]
    },
    {
      "cell_type": "code",
      "metadata": {
        "id": "-iNAb6VhdCjv"
      },
      "source": [
        "if __name__ == '__main__':\r\n",
        "  # writing the setter implicitly\r\n",
        "  class AutoSetterDemo:\r\n",
        "    @JTProperty(setter=\"Default\")\r\n",
        "    def prop(self):\r\n",
        "      return 1\r\n",
        "  "
      ],
      "execution_count": 25,
      "outputs": []
    },
    {
      "cell_type": "code",
      "metadata": {
        "id": "QHDNEj8AuBbd",
        "colab": {
          "base_uri": "https://localhost:8080/"
        },
        "outputId": "1b2bf467-eab5-4709-c1a6-43d641e4088f"
      },
      "source": [
        "if __name__ == \"__main__\":\r\n",
        "  # test setter before getter\r\n",
        "  auto_setter_demo = AutoSetterDemo()\r\n",
        "  auto_setter_demo.prop = 2\r\n",
        "  print_assert(auto_setter_demo.prop, '2')"
      ],
      "execution_count": 26,
      "outputs": [
        {
          "output_type": "stream",
          "text": [
            "2\n"
          ],
          "name": "stdout"
        }
      ]
    },
    {
      "cell_type": "code",
      "metadata": {
        "id": "FjiGvzVYguea",
        "colab": {
          "base_uri": "https://localhost:8080/"
        },
        "outputId": "fd40e26f-41e7-4d4b-b1ef-0b5bd9ed89f4"
      },
      "source": [
        "if __name__ == \"__main__\":\r\n",
        "  # test getter before setter\r\n",
        "  auto_setter_demo = AutoSetterDemo()\r\n",
        "  print_assert(auto_setter_demo.prop, '1')"
      ],
      "execution_count": 27,
      "outputs": [
        {
          "output_type": "stream",
          "text": [
            "1\n"
          ],
          "name": "stdout"
        }
      ]
    },
    {
      "cell_type": "markdown",
      "metadata": {
        "id": "jOv_OmKhwFji"
      },
      "source": [
        "## Default Type Setters\r\n",
        "- As of 1.0.3, type setters can be used to ensure that only specific type of value is used to set the value of a property \r\n",
        "- Below, we will demonstrate the explicit version of this functionality and follow this with the implicit version"
      ]
    },
    {
      "cell_type": "code",
      "metadata": {
        "id": "6f9zjvDmxHj5"
      },
      "source": [
        "if __name__ == '__main__':\r\n",
        "  #writing the setter explicitly\r\n",
        "  class TypeSetterDemo:\r\n",
        "    @JTProperty()\r\n",
        "    def intProperty(self):\r\n",
        "      return 1\r\n",
        "    \r\n",
        "    @intProperty.setter\r\n",
        "    def intProperty(self, var):\r\n",
        "      if (type(var) is int):\r\n",
        "        return var\r\n",
        "      else:\r\n",
        "        raise TypeError(f\"expected {int}, got {type(var)}\")"
      ],
      "execution_count": 28,
      "outputs": []
    },
    {
      "cell_type": "code",
      "metadata": {
        "id": "f10hO8D8zos7",
        "colab": {
          "base_uri": "https://localhost:8080/"
        },
        "outputId": "436fc82c-dcf4-4e9d-af13-44bc797b7566"
      },
      "source": [
        "if __name__ == '__main__':\r\n",
        "  # test setter before getter\r\n",
        "  typeSetterDemo = TypeSetterDemo()\r\n",
        "  with contextlib.suppress(TypeError):\r\n",
        "    typeSetterDemo.intProperty = 1.2\r\n",
        "  print(typeSetterDemo.intProperty)"
      ],
      "execution_count": 29,
      "outputs": [
        {
          "output_type": "stream",
          "text": [
            "1\n"
          ],
          "name": "stdout"
        }
      ]
    },
    {
      "cell_type": "code",
      "metadata": {
        "id": "38r8sNmgzTgd",
        "colab": {
          "base_uri": "https://localhost:8080/"
        },
        "outputId": "9dbe0a81-792e-49aa-e14c-4be8079a3609"
      },
      "source": [
        "if __name__ == '__main__':\r\n",
        "  # test getter before setter\r\n",
        "  typeSetterDemo = TypeSetterDemo()\r\n",
        "  print(typeSetterDemo.intProperty)\r\n",
        "  with contextlib.suppress(TypeError):\r\n",
        "    typeSetterDemo.intProperty = 1.2"
      ],
      "execution_count": 30,
      "outputs": [
        {
          "output_type": "stream",
          "text": [
            "1\n"
          ],
          "name": "stdout"
        }
      ]
    },
    {
      "cell_type": "markdown",
      "metadata": {
        "id": "wEktj3yr1SF0"
      },
      "source": [
        "- The code below contains the implicit version of the code above which is achieved simply by setting setter = int\r\n",
        "  - setter can be set to any type"
      ]
    },
    {
      "cell_type": "code",
      "metadata": {
        "id": "G3qBLt860lbI"
      },
      "source": [
        "if __name__ == '__main__':\r\n",
        "  #writing the setter implicitly\r\n",
        "  class AutoTypeSetterDemo:\r\n",
        "    @JTProperty(setter = int)\r\n",
        "    def intProperty(self):\r\n",
        "      return 1"
      ],
      "execution_count": 31,
      "outputs": []
    },
    {
      "cell_type": "code",
      "metadata": {
        "id": "XfstFl8I0xFZ",
        "colab": {
          "base_uri": "https://localhost:8080/"
        },
        "outputId": "1104d729-bcb8-4c7e-a856-7bea6b4b6d52"
      },
      "source": [
        "if __name__ == '__main__':\r\n",
        "  # test setter before getter\r\n",
        "  typeSetterDemo = AutoTypeSetterDemo()\r\n",
        "  with contextlib.suppress(TypeError):\r\n",
        "    typeSetterDemo.intProperty = 1.2\r\n",
        "  print(typeSetterDemo.intProperty)"
      ],
      "execution_count": 32,
      "outputs": [
        {
          "output_type": "stream",
          "text": [
            "1\n"
          ],
          "name": "stdout"
        }
      ]
    },
    {
      "cell_type": "code",
      "metadata": {
        "id": "bHbZjvuF0xF7",
        "colab": {
          "base_uri": "https://localhost:8080/"
        },
        "outputId": "9f07e8f5-fae3-408e-8e4a-f6952c612a8a"
      },
      "source": [
        "if __name__ == '__main__':\r\n",
        "  # test getter before setter\r\n",
        "  typeSetterDemo = AutoTypeSetterDemo()\r\n",
        "  print(typeSetterDemo.intProperty)\r\n",
        "  with contextlib.suppress(TypeError):\r\n",
        "    typeSetterDemo.intProperty = 1.2"
      ],
      "execution_count": 33,
      "outputs": [
        {
          "output_type": "stream",
          "text": [
            "1\n"
          ],
          "name": "stdout"
        }
      ]
    },
    {
      "cell_type": "markdown",
      "metadata": {
        "id": "UuV-zbQqYfQu"
      },
      "source": [
        "## Default Type Setters (Part 2)\r\n",
        "- In the above code, assigning 1.2 to the intProperty cases a typeError\r\n",
        "  - What if you want to accept both integers and floats?\r\n",
        "- Now, As of 1.1.0, multiple setter types can be used as follows:"
      ]
    },
    {
      "cell_type": "code",
      "metadata": {
        "id": "AXR2nwlMZAsO"
      },
      "source": [
        "if __name__ == '__main__':\r\n",
        "  #writing the setter implicitly\r\n",
        "  class AutoTypesSetterDemo:\r\n",
        "    @JTProperty(setter = [int, float])\r\n",
        "    def intProperty(self):\r\n",
        "      return 1"
      ],
      "execution_count": 34,
      "outputs": []
    },
    {
      "cell_type": "code",
      "metadata": {
        "colab": {
          "base_uri": "https://localhost:8080/"
        },
        "id": "9HuJWEirZAsf",
        "outputId": "f0e44110-b130-470b-f8ff-87f8878c1a90"
      },
      "source": [
        "if __name__ == '__main__':\r\n",
        "  # test setter before getter\r\n",
        "  typesSetterDemo = AutoTypesSetterDemo()\r\n",
        "  typesSetterDemo.intProperty = 1.2\r\n",
        "  print(typesSetterDemo.intProperty)"
      ],
      "execution_count": 35,
      "outputs": [
        {
          "output_type": "stream",
          "text": [
            "1.2\n"
          ],
          "name": "stdout"
        }
      ]
    },
    {
      "cell_type": "code",
      "metadata": {
        "colab": {
          "base_uri": "https://localhost:8080/"
        },
        "id": "6S6HzEfbZAsh",
        "outputId": "49815bf7-14ef-44dd-87aa-a9ecdd1aeb96"
      },
      "source": [
        "if __name__ == '__main__':\r\n",
        "  # test getter before setter\r\n",
        "  typesSetterDemo = AutoTypesSetterDemo()\r\n",
        "  print(typesSetterDemo.intProperty)\r\n",
        "  typesSetterDemo.intProperty = 1.2"
      ],
      "execution_count": 36,
      "outputs": [
        {
          "output_type": "stream",
          "text": [
            "1\n"
          ],
          "name": "stdout"
        }
      ]
    },
    {
      "cell_type": "markdown",
      "metadata": {
        "id": "rhQOQ2whNm5C"
      },
      "source": [
        "# Graph Dependencies \r\n"
      ]
    },
    {
      "cell_type": "markdown",
      "metadata": {
        "id": "BnKu1o5uU8GV"
      },
      "source": [
        "\r\n",
        "<img src=\"https://drive.google.com/uc?export=view&id=149jAbjHU9BWt_W5pRYqn0bQbLFVz-w8y\" width=\"300\" align=\"right\"> \r\n",
        "\r\n",
        "- Consider a graph as shown to the right:\r\n",
        "    1. if a updates, then b updates, then d updates\r\n",
        "    1. if b updates, then d updates\r\n",
        "    1. if c updates, then d updates \r\n",
        "    1. if d updates, nothin happens \r\n",
        "\r\n",
        "## More Implementational Details\r\n",
        "\r\n",
        "- Note a few important features in regards to the implementation:\r\n",
        "  - If a node variable is None, graph traversal stemming from that node is stopped\r\n",
        "    - Consider case 1 as an example:\r\n",
        "      - If b is None and a is updated, then d does not get updated because b stops the traversal\r\n",
        "      - Also note that when a variable is set to some initial value, there is no dependency graph traversal stemming from that node\r\n",
        "  - Whenever upstream variables \"update\" they are actually set to None\r\n",
        "    - This reduces memory load and uneccessary computation when not needed\r\n",
        "    - These variables are computated only when called\r\n",
        "  - dependencies can be listed in the form of space seperated strings, a set/list of strings\r\n"
      ]
    },
    {
      "cell_type": "markdown",
      "metadata": {
        "id": "XgzAEUrJN_zs"
      },
      "source": [
        "## Examples \r\n",
        "\r\n",
        "- An example use case is shown below: \r\n"
      ]
    },
    {
      "cell_type": "code",
      "metadata": {
        "id": "ldQ3GRKSjp30"
      },
      "source": [
        "if __name__ == '__main__':\r\n",
        "  class GraphDemo:\r\n",
        "    @JTProperty(setter = \"Default\")\r\n",
        "    def a(self):\r\n",
        "      return 'a'\r\n",
        "  \r\n",
        "    @JTProperty(setter = \"Default\", deps = 'a')\r\n",
        "    def b(self):\r\n",
        "      return self.a + '->b'\r\n",
        "    \r\n",
        "    @JTProperty(setter = \"Default\")\r\n",
        "    def c(self):\r\n",
        "      return 'c'\r\n",
        "  \r\n",
        "    @JTProperty(setter = \"Default\", deps = 'c b') # space seperated names are accepted as of 1.0.3\r\n",
        "    def d(self):\r\n",
        "      return self.b + '->d' + ' and ' + self.c + '->d'"
      ],
      "execution_count": 37,
      "outputs": []
    },
    {
      "cell_type": "code",
      "metadata": {
        "id": "UUxMr0kElobH",
        "colab": {
          "base_uri": "https://localhost:8080/"
        },
        "outputId": "6ecf19a1-0f6b-4ae9-a57d-8b159796ab54"
      },
      "source": [
        "if __name__ == '__main__':\r\n",
        "  graph_demo = GraphDemo()\r\n",
        "  print_assert(graph_demo.d, 'a->b->d and c->d')\r\n",
        "  graph_demo.a = 'A'\r\n",
        "  print_assert(graph_demo.d, 'A->b->d and c->d')\r\n",
        "  JTProperty.cls_name2graph[type(graph_demo).__name__].disp()\r\n",
        "  #_a points to {'_b'}\r\n",
        "  #_b points to {'_d'}\r\n",
        "  #_c points to {'_d'}\r\n",
        "  #_d points to set()"
      ],
      "execution_count": 38,
      "outputs": [
        {
          "output_type": "stream",
          "text": [
            "a->b->d and c->d\n",
            "A->b->d and c->d\n",
            "_a points to {'_b'}\n",
            "_b points to {'_d'}\n",
            "_c points to {'_d'}\n",
            "_d points to set()\n"
          ],
          "name": "stdout"
        }
      ]
    },
    {
      "cell_type": "code",
      "metadata": {
        "id": "w6D-ULY1-y4b",
        "colab": {
          "base_uri": "https://localhost:8080/"
        },
        "outputId": "352ee646-013a-46a7-b82f-dde08253e630"
      },
      "source": [
        "if __name__ == '__main__':\r\n",
        "  graph_demo = GraphDemo()\r\n",
        "  graph_demo.d = 'a->b->d and c->d'\r\n",
        "  graph_demo.a = 'A'\r\n",
        "  print_assert(graph_demo._d, 'a->b->d and c->d')\r\n",
        "  print_assert(graph_demo.d, 'a->b->d and c->d')\r\n",
        "  JTProperty.cls_name2graph[type(graph_demo).__name__].disp()\r\n",
        "  #displaying graph\r\n",
        "  #_a points to {'_b'}\r\n",
        "  #_b points to {'_d'}\r\n",
        "  #_c points to {'_d'}\r\n",
        "  #_d points to set()"
      ],
      "execution_count": 39,
      "outputs": [
        {
          "output_type": "stream",
          "text": [
            "a->b->d and c->d\n",
            "a->b->d and c->d\n",
            "_a points to {'_b'}\n",
            "_b points to {'_d'}\n",
            "_c points to {'_d'}\n",
            "_d points to set()\n"
          ],
          "name": "stdout"
        }
      ]
    },
    {
      "cell_type": "markdown",
      "metadata": {
        "id": "NOrY_8jfabuA"
      },
      "source": [
        "## Circular Graph Dependencies\r\n",
        "<img src=\"https://drive.google.com/uc?export=view&id=1U1QLwQMqZxv77M0GU1UAMNt4kYO4JNqO\" width=\"300\" align = \"right\"> \r\n",
        "- Consider the graph to the right:\r\n",
        "  1. If A updates, B updates, then C and D\r\n",
        "  1. If B updates, A updates, then C and D\r\n",
        "  1. If C updates, D updates, then A and B\r\n",
        "  1. If D updates, A updates, then B and C\r\n",
        "- Circular Graph Dependencies are like normal dependencies, however there can be specific problems when using them such as in situations involving infinite recursive calls, for example:\r\n",
        "  - Say that self.c is set to some value ___c___\r\n",
        "  - When self.b is called, it calls:\r\n",
        "    - self.a, which calls\r\n",
        "      - self.b and self.d\r\n",
        "        - self.d calls self.c which returns ___c___\r\n",
        "        - self.b calls self.a\r\n",
        "  - We can see there is a recursive problem here as self.a calls self.b and vice versa since these values have not been preset to some initial value, however there is no problem with self.d because it depends only on self.c which is set to ___c___\r\n",
        "  - Now, consider self.a set to some value ___a___\r\n",
        "    - When self.d is called, it calls\r\n",
        "      - self.c which calls\r\n",
        "        - self.b which calls\r\n",
        "          - self.a which returns ___a___\r\n",
        "    - Here, the value of self.d evaluates to some value, hence there are no problems\r\n",
        "\r\n",
        "\r\n",
        "\r\n",
        "\r\n"
      ]
    },
    {
      "cell_type": "code",
      "metadata": {
        "id": "HprnYhX-AFWY"
      },
      "source": [
        "if __name__ == '__main__':\r\n",
        "  class GraphDemo2:\r\n",
        "    @JTProperty(setter = \"Default\", deps = {'b', 'd'}) # sets are accepted as of 1.0.3\r\n",
        "    def a(self):\r\n",
        "      return self.b + '->a and ' + self.d + '->a'\r\n",
        "  \r\n",
        "    @JTProperty(setter = \"Default\", deps = 'a')\r\n",
        "    def b(self):\r\n",
        "      return self.a + '->b'\r\n",
        "    \r\n",
        "    @JTProperty(setter = \"Default\", deps = 'b')\r\n",
        "    def c(self):\r\n",
        "      return self.b + '->c'\r\n",
        "  \r\n",
        "    @JTProperty(setter = \"Default\", deps = ['c'])\r\n",
        "    def d(self):\r\n",
        "      return self.c + '->d'"
      ],
      "execution_count": 40,
      "outputs": []
    },
    {
      "cell_type": "code",
      "metadata": {
        "id": "AM0x_IxaBX_K",
        "colab": {
          "base_uri": "https://localhost:8080/"
        },
        "outputId": "1b706fe6-91b6-44f6-f9d6-0aafa5ac1551"
      },
      "source": [
        "if __name__ == '__main__':\r\n",
        "  graph_demo = GraphDemo2()\r\n",
        "  JTProperty.cls_name2graph[type(graph_demo).__name__].disp()\r\n",
        "  #displaying graph\r\n",
        "  #_b points to {'_c', '_a'}\r\n",
        "  #_a points to {'_b'}\r\n",
        "  #_c points to {'_d'}\r\n",
        "  #_d points to {'_a'}\r\n",
        "\r\n",
        "  # tests if setter for .b resets ._a accidentally\r\n",
        "  graph_demo = GraphDemo2()\r\n",
        "  graph_demo.a = 'a'\r\n",
        "  print_assert(graph_demo.a, 'a')\r\n",
        "  print_assert(graph_demo.b, 'a->b')\r\n",
        "  print_assert(graph_demo._a, 'a')\r\n",
        "  \r\n",
        "  graph_demo = GraphDemo2()\r\n",
        "  print(\"graph_demo.a = 'a':\")\r\n",
        "  graph_demo.a = 'a'\r\n",
        "  print_assert(graph_demo.b, 'a->b')\r\n",
        "  print_assert(graph_demo.c, 'a->b->c')\r\n",
        "  print_assert(graph_demo.d, 'a->b->c->d')\r\n",
        "  \r\n",
        "  graph_demo = GraphDemo2()\r\n",
        "  print(\"graph_demo.b = 'b':\")\r\n",
        "  graph_demo.b = 'b'\r\n",
        "  print_assert(graph_demo.d, 'b->c->d')\r\n",
        "  print_assert(graph_demo._b, 'b')\r\n",
        "  print_assert(graph_demo.a, 'b->a and b->c->d->a')\r\n",
        "  print_assert(graph_demo.c, 'b->c')\r\n",
        "  \r\n",
        "  # Causes Recursion problems (intentional) <- a and b must be preset since they are dependent on each other\r\n",
        "  #graph_demo = GraphDemo2()\r\n",
        "  #print(\"graph_demo.c = 'c':\")\r\n",
        "  #graph_demo.c = 'c'\r\n",
        "  #print(graph_demo.a)\r\n",
        "  #print(graph_demo.b)\r\n",
        "  #print(graph_demo.d)\r\n",
        "  \r\n",
        "  # Causes Recursion problems (intentional) <- a and b must be preset since they are dependent on each other\r\n",
        "  #graph_demo = GraphDemo2()\r\n",
        "  #graph_demo.d = 'd'\r\n",
        "  #print(graph_demo.a)\r\n",
        "  #print(graph_demo.b)\r\n",
        "  #print(graph_demo.c)"
      ],
      "execution_count": 41,
      "outputs": [
        {
          "output_type": "stream",
          "text": [
            "_d points to {'_a'}\n",
            "_b points to {'_c', '_a'}\n",
            "_a points to {'_b'}\n",
            "_c points to {'_d'}\n",
            "a\n",
            "a->b\n",
            "a\n",
            "graph_demo.a = 'a':\n",
            "a->b\n",
            "a->b->c\n",
            "a->b->c->d\n",
            "graph_demo.b = 'b':\n",
            "b->c->d\n",
            "b\n",
            "b->a and b->c->d->a\n",
            "b->c\n"
          ],
          "name": "stdout"
        }
      ]
    },
    {
      "cell_type": "markdown",
      "metadata": {
        "id": "gC2e5aPB9ddF"
      },
      "source": [
        "## Hierarchical Graph Dependencies\r\n",
        "- There is also support for graphs that use inherited methods that are decorated with JTProperty\r\n",
        "  - (Note that the child class must have at least one JTProperty for this to work)\r\n",
        "- The search for dependencies follow Python's 'mro' (method resolution order)"
      ]
    },
    {
      "cell_type": "code",
      "metadata": {
        "id": "52i0NNKk-AAn"
      },
      "source": [
        "if __name__ == '__main__':\r\n",
        "  class ParentGraphDemo:\r\n",
        "    @JTProperty(setter = \"Default\")\r\n",
        "    def a(self):\r\n",
        "      return 'a'\r\n",
        "  \r\n",
        "  class ChildGraphDemo(ParentGraphDemo):\r\n",
        "    @JTProperty(setter = \"Default\", deps = 'a')\r\n",
        "    def b(self):\r\n",
        "      return self.a + '->b'\r\n",
        "    \r\n",
        "    @JTProperty(setter = \"Default\")\r\n",
        "    def c(self):\r\n",
        "      return 'c'\r\n",
        "  \r\n",
        "    @JTProperty(setter = \"Default\", deps = ['c', 'b'])\r\n",
        "    def d(self):\r\n",
        "      return self.b + '->d' + ' and ' + self.c + '->d'"
      ],
      "execution_count": 42,
      "outputs": []
    },
    {
      "cell_type": "code",
      "metadata": {
        "id": "0-mfEAOO-EUY",
        "colab": {
          "base_uri": "https://localhost:8080/"
        },
        "outputId": "0b29952b-e6d0-4457-a509-ab28df3a8558"
      },
      "source": [
        "if __name__ == '__main__':\r\n",
        "  graph_demo = ChildGraphDemo()\r\n",
        "  print_assert(graph_demo.d, 'a->b->d and c->d')\r\n",
        "  graph_demo.a = 'A'\r\n",
        "  print_assert(graph_demo.d, 'A->b->d and c->d')\r\n",
        "  JTProperty.cls_name2graph_sys[type(graph_demo).__qualname__].disp()\r\n",
        "  #for cls: ChildGraphDemo\r\n",
        "  #_b points to {'_d'}\r\n",
        "  #_c points to {'_d'}\r\n",
        "  #_d points to set()\r\n",
        "  #for cls: ParentGraphDemo\r\n",
        "  #_a points to {'_b'}"
      ],
      "execution_count": 43,
      "outputs": [
        {
          "output_type": "stream",
          "text": [
            "a->b->d and c->d\n",
            "A->b->d and c->d\n",
            "for cls: ChildGraphDemo\n",
            "_b points to {'_d'}\n",
            "_c points to {'_d'}\n",
            "_d points to set()\n",
            "for cls: ParentGraphDemo\n",
            "_a points to {'_b'}\n"
          ],
          "name": "stdout"
        }
      ]
    },
    {
      "cell_type": "code",
      "metadata": {
        "id": "tC3OGSO0ZGH4",
        "colab": {
          "base_uri": "https://localhost:8080/"
        },
        "outputId": "3af1a174-58c7-46d4-d9fe-9610d4c0b353"
      },
      "source": [
        "if __name__ == '__main__':\r\n",
        "  graph_demo = ChildGraphDemo()\r\n",
        "  graph_demo.d = 'a->b->d and c->d'\r\n",
        "  graph_demo.a = 'A'\r\n",
        "  print_assert(graph_demo._d, 'a->b->d and c->d')\r\n",
        "  print_assert(graph_demo.d, 'a->b->d and c->d')\r\n",
        "  JTProperty.cls_name2graph_sys[type(graph_demo).__qualname__].disp()\r\n",
        "  #for cls: ChildGraphDemo\r\n",
        "  #_b points to {'_d'}\r\n",
        "  #_c points to {'_d'}\r\n",
        "  #_d points to set()\r\n",
        "  #for cls: ParentGraphDemo\r\n",
        "  #_a points to {'_b'}"
      ],
      "execution_count": 44,
      "outputs": [
        {
          "output_type": "stream",
          "text": [
            "a->b->d and c->d\n",
            "a->b->d and c->d\n",
            "for cls: ChildGraphDemo\n",
            "_b points to {'_d'}\n",
            "_c points to {'_d'}\n",
            "_d points to set()\n",
            "for cls: ParentGraphDemo\n",
            "_a points to {'_b'}\n"
          ],
          "name": "stdout"
        }
      ]
    },
    {
      "cell_type": "markdown",
      "metadata": {
        "id": "ReFN-_CRiw4D"
      },
      "source": [
        "### Deep Inheritence\r\n",
        "- There is also support for deep inheritence and other kinds of inheritence"
      ]
    },
    {
      "cell_type": "code",
      "metadata": {
        "id": "ooOQhDRei1FG"
      },
      "source": [
        "if __name__ == '__main__':\r\n",
        "  class ParentAGraphDemo:\r\n",
        "    @JTProperty(setter = \"Default\")\r\n",
        "    def a(self):\r\n",
        "      return 'a'\r\n",
        "  \r\n",
        "  class ParentBGraphDemo(ParentAGraphDemo):\r\n",
        "    @JTProperty(setter = \"Default\", deps = 'a')\r\n",
        "    def b(self):\r\n",
        "      return self.a + '->b'\r\n",
        "  \r\n",
        "  class ParentCGraphDemo(ParentBGraphDemo):\r\n",
        "    @JTProperty(setter = \"Default\")\r\n",
        "    def c(self):\r\n",
        "      return 'c'\r\n",
        "  \r\n",
        "  class DGraphDemo(ParentCGraphDemo):\r\n",
        "    @JTProperty(setter = \"Default\", deps = ['c', 'b'])\r\n",
        "    def d(self):\r\n",
        "      return self.b + '->d' + ' and ' + self.c + '->d'"
      ],
      "execution_count": 45,
      "outputs": []
    },
    {
      "cell_type": "code",
      "metadata": {
        "id": "BOpTcKHRjKU4",
        "colab": {
          "base_uri": "https://localhost:8080/"
        },
        "outputId": "4a9dcc8c-1cb6-45bc-c5c2-58cb293f18da"
      },
      "source": [
        "if __name__ == '__main__':\r\n",
        "  graph_demo = DGraphDemo()\r\n",
        "  print_assert(graph_demo.d, 'a->b->d and c->d')\r\n",
        "  graph_demo.a = 'A'\r\n",
        "  print_assert(graph_demo.d, 'A->b->d and c->d')\r\n",
        "  JTProperty.cls_name2graph_sys[type(graph_demo).__qualname__].disp()\r\n",
        "  #for cls: DGraphDemo\r\n",
        "  #_d points to set()\r\n",
        "  #for cls: ParentCGraphDemo\r\n",
        "  #_c points to {'_d'}\r\n",
        "  #for cls: ParentBGraphDemo\r\n",
        "  #_b points to {'_d'}\r\n",
        "  #for cls: ParentAGraphDemo\r\n",
        "  #_a points to {'_b'}"
      ],
      "execution_count": 46,
      "outputs": [
        {
          "output_type": "stream",
          "text": [
            "a->b->d and c->d\n",
            "A->b->d and c->d\n",
            "for cls: DGraphDemo\n",
            "_d points to set()\n",
            "for cls: ParentCGraphDemo\n",
            "_c points to {'_d'}\n",
            "for cls: ParentBGraphDemo\n",
            "_b points to {'_d'}\n",
            "for cls: ParentAGraphDemo\n",
            "_a points to {'_b'}\n"
          ],
          "name": "stdout"
        }
      ]
    },
    {
      "cell_type": "code",
      "metadata": {
        "id": "3jXL2OBojKU5",
        "colab": {
          "base_uri": "https://localhost:8080/"
        },
        "outputId": "89f7f683-f3a5-4ce6-fbe4-130d032e0fd6"
      },
      "source": [
        "if __name__ == '__main__':\r\n",
        "  graph_demo = DGraphDemo()\r\n",
        "  graph_demo.d = 'a->b->d and c->d'\r\n",
        "  graph_demo.a = 'A'\r\n",
        "  print_assert(graph_demo._d, 'a->b->d and c->d')\r\n",
        "  print_assert(graph_demo.d, 'a->b->d and c->d')\r\n",
        "  JTProperty.cls_name2graph_sys[type(graph_demo).__qualname__].disp()\r\n",
        "  #for cls: DGraphDemo\r\n",
        "  #_d points to set()\r\n",
        "  #for cls: ParentCGraphDemo\r\n",
        "  #_c points to {'_d'}\r\n",
        "  #for cls: ParentBGraphDemo\r\n",
        "  #_b points to {'_d'}\r\n",
        "  #for cls: ParentAGraphDemo\r\n",
        "  #_a points to {'_b'}"
      ],
      "execution_count": 47,
      "outputs": [
        {
          "output_type": "stream",
          "text": [
            "a->b->d and c->d\n",
            "a->b->d and c->d\n",
            "for cls: DGraphDemo\n",
            "_d points to set()\n",
            "for cls: ParentCGraphDemo\n",
            "_c points to {'_d'}\n",
            "for cls: ParentBGraphDemo\n",
            "_b points to {'_d'}\n",
            "for cls: ParentAGraphDemo\n",
            "_a points to {'_b'}\n"
          ],
          "name": "stdout"
        }
      ]
    },
    {
      "cell_type": "markdown",
      "metadata": {
        "id": "zfiRg6eJm5wZ"
      },
      "source": [
        "# Edge Test Cases\r\n",
        "- This section contains extra edge test cases from bug reports etc"
      ]
    },
    {
      "cell_type": "markdown",
      "metadata": {
        "id": "86qqrmJj8Ytg"
      },
      "source": [
        "## Wide/branching inheritence"
      ]
    },
    {
      "cell_type": "code",
      "metadata": {
        "id": "jP5Jv3iY9LeT"
      },
      "source": [
        "if __name__ == '__main__':\r\n",
        "  class Branch1ADemo:\r\n",
        "    @JTProperty(setter = \"Default\")\r\n",
        "    def a(self):\r\n",
        "      return 'a'\r\n",
        "  \r\n",
        "  class Branch1BDemo(Branch1ADemo):\r\n",
        "    @JTProperty(setter = \"Default\", deps = 'a')\r\n",
        "    def b(self):\r\n",
        "      return self.a + '->b'\r\n",
        "  \r\n",
        "  class Branch2CDemo:\r\n",
        "    @JTProperty(setter = \"Default\")\r\n",
        "    def c(self):\r\n",
        "      return 'c'\r\n",
        "  \r\n",
        "  class JoinedDDemo(Branch1BDemo, Branch2CDemo):\r\n",
        "    @JTProperty(setter = \"Default\", deps = ['c', 'b'])\r\n",
        "    def d(self):\r\n",
        "      return self.b + '->d' + ' and ' + self.c + '->d'"
      ],
      "execution_count": 48,
      "outputs": []
    },
    {
      "cell_type": "code",
      "metadata": {
        "id": "V7eWbFr29-el",
        "colab": {
          "base_uri": "https://localhost:8080/"
        },
        "outputId": "7364ac3a-64bb-47d5-a680-a7b17feecd90"
      },
      "source": [
        "if __name__ == '__main__':\r\n",
        "  graph_demo = JoinedDDemo()\r\n",
        "  print_assert(graph_demo.d, 'a->b->d and c->d')\r\n",
        "  graph_demo.a = 'A'\r\n",
        "  print_assert(graph_demo.d, 'A->b->d and c->d')\r\n",
        "  JTProperty.cls_name2graph_sys[type(graph_demo).__qualname__].disp()\r\n",
        "  #for cls: JoinedDDemo\r\n",
        "  #_d points to set()\r\n",
        "  #for cls: Branch1BDemo\r\n",
        "  #_b points to {'_d'}\r\n",
        "  #for cls: Branch1ADemo\r\n",
        "  #_a points to {'_b'}\r\n",
        "  #for cls: Branch2CDemo\r\n",
        "  #_c points to {'_d'}}"
      ],
      "execution_count": 49,
      "outputs": [
        {
          "output_type": "stream",
          "text": [
            "a->b->d and c->d\n",
            "A->b->d and c->d\n",
            "for cls: JoinedDDemo\n",
            "_d points to set()\n",
            "for cls: Branch1BDemo\n",
            "_b points to {'_d'}\n",
            "for cls: Branch1ADemo\n",
            "_a points to {'_b'}\n",
            "for cls: Branch2CDemo\n",
            "_c points to {'_d'}\n"
          ],
          "name": "stdout"
        }
      ]
    },
    {
      "cell_type": "code",
      "metadata": {
        "id": "wVTigh-s9-fG",
        "colab": {
          "base_uri": "https://localhost:8080/"
        },
        "outputId": "b0fec7f8-76ee-40a4-9445-cd98066a882c"
      },
      "source": [
        "if __name__ == '__main__':\r\n",
        "  graph_demo = JoinedDDemo()\r\n",
        "  graph_demo.d = 'a->b->d and c->d'\r\n",
        "  graph_demo.a = 'A'\r\n",
        "  print_assert(graph_demo._d, 'a->b->d and c->d')\r\n",
        "  print_assert(graph_demo.d, 'a->b->d and c->d')\r\n",
        "  JTProperty.cls_name2graph_sys[type(graph_demo).__qualname__].disp()\r\n",
        "  #for cls: JoinedDDemo\r\n",
        "  #_d points to set()\r\n",
        "  #for cls: Branch1BDemo\r\n",
        "  #_b points to {'_d'}\r\n",
        "  #for cls: Branch1ADemo\r\n",
        "  #_a points to {'_b'}\r\n",
        "  #for cls: Branch2CDemo\r\n",
        "  #_c points to {'_d'}}"
      ],
      "execution_count": 50,
      "outputs": [
        {
          "output_type": "stream",
          "text": [
            "a->b->d and c->d\n",
            "a->b->d and c->d\n",
            "for cls: JoinedDDemo\n",
            "_d points to set()\n",
            "for cls: Branch1BDemo\n",
            "_b points to {'_d'}\n",
            "for cls: Branch1ADemo\n",
            "_a points to {'_b'}\n",
            "for cls: Branch2CDemo\n",
            "_c points to {'_d'}\n"
          ],
          "name": "stdout"
        }
      ]
    },
    {
      "cell_type": "markdown",
      "metadata": {
        "id": "OTDNl8wxnlDZ"
      },
      "source": [
        "## Nested Classes\r\n",
        "  - Classes within classes"
      ]
    },
    {
      "cell_type": "code",
      "metadata": {
        "id": "TV9dbnAIn0SC"
      },
      "source": [
        "if __name__ == '__main__':\r\n",
        "  class OuterClass:\r\n",
        "    class InnerParentClass:\r\n",
        "      @JTProperty(setter = \"Default\")\r\n",
        "      def a(self):\r\n",
        "        return 'a'\r\n",
        "  \r\n",
        "    class InnerChildClass(InnerParentClass):\r\n",
        "      @JTProperty(setter = \"Default\", deps = 'a')\r\n",
        "      def b(self):\r\n",
        "        return self.a + '->b'\r\n",
        "      \r\n",
        "      @JTProperty(setter = \"Default\")\r\n",
        "      def c(self):\r\n",
        "        return 'c'\r\n",
        "    \r\n",
        "      @JTProperty(setter = \"Default\", deps = ['c', 'b'])\r\n",
        "      def d(self):\r\n",
        "        return self.b + '->d' + ' and ' + self.c + '->d'\r\n",
        "  \r\n",
        "  "
      ],
      "execution_count": 51,
      "outputs": []
    },
    {
      "cell_type": "code",
      "metadata": {
        "id": "KgY9pcGtJYF0",
        "colab": {
          "base_uri": "https://localhost:8080/"
        },
        "outputId": "4beab7e9-2e99-4080-cc94-9b5e242a5466"
      },
      "source": [
        "if __name__ == '__main__':\r\n",
        "  graph_demo = OuterClass.InnerChildClass()\r\n",
        "  print_assert(graph_demo.d, 'a->b->d and c->d')\r\n",
        "  graph_demo.a = 'A'\r\n",
        "  print_assert(graph_demo.d, 'A->b->d and c->d')\r\n",
        "  JTProperty.cls_name2graph_sys[type(graph_demo).__qualname__].disp()\r\n",
        "  #for cls: OuterClass.InnerChildClass\r\n",
        "  #_b points to {'_d'}\r\n",
        "  #_c points to {'_d'}\r\n",
        "  #_d points to set()\r\n",
        "  #for cls: OuterClass.InnerParentClass\r\n",
        "  #_a points to {'_b'}"
      ],
      "execution_count": 52,
      "outputs": [
        {
          "output_type": "stream",
          "text": [
            "a->b->d and c->d\n",
            "A->b->d and c->d\n",
            "for cls: OuterClass.InnerChildClass\n",
            "_b points to {'_d'}\n",
            "_c points to {'_d'}\n",
            "_d points to set()\n",
            "for cls: OuterClass.InnerParentClass\n",
            "_a points to {'_b'}\n"
          ],
          "name": "stdout"
        }
      ]
    },
    {
      "cell_type": "code",
      "metadata": {
        "id": "oT5ILdozJYF2",
        "colab": {
          "base_uri": "https://localhost:8080/"
        },
        "outputId": "69422155-fb5b-49cb-dc49-f19c3faa2572"
      },
      "source": [
        "if __name__ == '__main__':\r\n",
        "  graph_demo = OuterClass.InnerChildClass()\r\n",
        "  graph_demo.d = 'a->b->d and c->d'\r\n",
        "  graph_demo.a = 'A'\r\n",
        "  print_assert(graph_demo._d, 'a->b->d and c->d')\r\n",
        "  print_assert(graph_demo.d, 'a->b->d and c->d')\r\n",
        "  JTProperty.cls_name2graph_sys[type(graph_demo).__qualname__].disp()\r\n",
        "  #for cls: OuterClass.InnerChildClass\r\n",
        "  #_b points to {'_d'}\r\n",
        "  #_c points to {'_d'}\r\n",
        "  #_d points to set()\r\n",
        "  #for cls: OuterClass.InnerParentClass\r\n",
        "  #_a points to {'_b'}"
      ],
      "execution_count": 53,
      "outputs": [
        {
          "output_type": "stream",
          "text": [
            "a->b->d and c->d\n",
            "a->b->d and c->d\n",
            "for cls: OuterClass.InnerChildClass\n",
            "_b points to {'_d'}\n",
            "_c points to {'_d'}\n",
            "_d points to set()\n",
            "for cls: OuterClass.InnerParentClass\n",
            "_a points to {'_b'}\n"
          ],
          "name": "stdout"
        }
      ]
    },
    {
      "cell_type": "markdown",
      "metadata": {
        "id": "jk5H1YZpnFC5"
      },
      "source": [
        "## Parent classes with no JTProperty declarations"
      ]
    },
    {
      "cell_type": "code",
      "metadata": {
        "id": "D9LIHjxKm91g"
      },
      "source": [
        "if __name__ == '__main__':\r\n",
        "  class ParentWithJT:\r\n",
        "    @JTProperty(setter = \"Default\")\r\n",
        "    def a(self):\r\n",
        "      return 'a'\r\n",
        "  \r\n",
        "    @JTProperty(setter = \"Default\", deps = 'a')\r\n",
        "    def b(self):\r\n",
        "      return self.a + '->b'\r\n",
        "  \r\n",
        "  class ParentNoJT(ParentWithJT):\r\n",
        "    def randomMethodHere(self):\r\n",
        "      pass\r\n",
        "  \r\n",
        "  class ChildWithJT(ParentNoJT):\r\n",
        "    @JTProperty(setter = \"Default\")\r\n",
        "    def c(self):\r\n",
        "      return 'c'\r\n",
        "  \r\n",
        "    @JTProperty(setter = \"Default\", deps = ['c', 'b'])\r\n",
        "    def d(self):\r\n",
        "      return self.b + '->d' + ' and ' + self.c + '->d'\r\n",
        "  \r\n",
        "  "
      ],
      "execution_count": 54,
      "outputs": []
    },
    {
      "cell_type": "code",
      "metadata": {
        "id": "tw-UcfDu_PdJ",
        "colab": {
          "base_uri": "https://localhost:8080/"
        },
        "outputId": "f37fefbc-c8ef-4f17-83fc-69020953f1fe"
      },
      "source": [
        "if __name__ == '__main__':\r\n",
        "  graph_demo = ChildWithJT()\r\n",
        "  print_assert(graph_demo.d, 'a->b->d and c->d')\r\n",
        "  graph_demo.a = 'A'\r\n",
        "  print_assert(graph_demo.d, 'A->b->d and c->d')\r\n",
        "  JTProperty.cls_name2graph_sys[type(graph_demo).__qualname__].disp()\r\n",
        "  #for cls: ChildWithJT\r\n",
        "  #_c points to {'_d'}\r\n",
        "  #_d points to set()\r\n",
        "  #for cls: ParentWithJT\r\n",
        "  #_a points to {'_b'}\r\n",
        "  #_b points to {'_d'}"
      ],
      "execution_count": 55,
      "outputs": [
        {
          "output_type": "stream",
          "text": [
            "a->b->d and c->d\n",
            "A->b->d and c->d\n",
            "for cls: ChildWithJT\n",
            "_c points to {'_d'}\n",
            "_d points to set()\n",
            "for cls: ParentWithJT\n",
            "_a points to {'_b'}\n",
            "_b points to {'_d'}\n"
          ],
          "name": "stdout"
        }
      ]
    },
    {
      "cell_type": "code",
      "metadata": {
        "id": "jjAxSvOB_PdL",
        "colab": {
          "base_uri": "https://localhost:8080/"
        },
        "outputId": "782a6a6e-50d4-4943-dd5c-9c814fe74fe8"
      },
      "source": [
        "if __name__ == '__main__':\r\n",
        "  graph_demo = ChildWithJT()\r\n",
        "  graph_demo.d = 'a->b->d and c->d'\r\n",
        "  graph_demo.a = 'A'\r\n",
        "  print_assert(graph_demo._d, 'a->b->d and c->d')\r\n",
        "  print_assert(graph_demo.d, 'a->b->d and c->d')\r\n",
        "  JTProperty.cls_name2graph_sys[type(graph_demo).__qualname__].disp()\r\n",
        "  #for cls: ChildWithJT\r\n",
        "  #_c points to {'_d'}\r\n",
        "  #_d points to set()\r\n",
        "  #for cls: ParentWithJT\r\n",
        "  #_a points to {'_b'}\r\n",
        "  #_b points to {'_d'}"
      ],
      "execution_count": 56,
      "outputs": [
        {
          "output_type": "stream",
          "text": [
            "a->b->d and c->d\n",
            "a->b->d and c->d\n",
            "for cls: ChildWithJT\n",
            "_c points to {'_d'}\n",
            "_d points to set()\n",
            "for cls: ParentWithJT\n",
            "_a points to {'_b'}\n",
            "_b points to {'_d'}\n"
          ],
          "name": "stdout"
        }
      ]
    },
    {
      "cell_type": "markdown",
      "metadata": {
        "id": "wMiJCrhyMyEP"
      },
      "source": [
        "## Child classes with no JTProperty Declarations"
      ]
    },
    {
      "cell_type": "code",
      "metadata": {
        "id": "_A6_gj_xNFr9"
      },
      "source": [
        "if __name__ == '__main__':\r\n",
        "  class ParentWithJT1:\r\n",
        "    @JTProperty(setter = \"Default\")\r\n",
        "    def a(self):\r\n",
        "      return 'a'\r\n",
        "  \r\n",
        "    @JTProperty(setter = \"Default\", deps = 'a')\r\n",
        "    def b(self):\r\n",
        "      return self.a + '->b'\r\n",
        "  \r\n",
        "  class ParentWithJT2(ParentWithJT1):\r\n",
        "    @JTProperty(setter = \"Default\")\r\n",
        "    def c(self):\r\n",
        "      return 'c'\r\n",
        "  \r\n",
        "    @JTProperty(setter = \"Default\", deps = ['c', 'b'])\r\n",
        "    def d(self):\r\n",
        "      return self.b + '->d' + ' and ' + self.c + '->d'\r\n",
        "  \r\n",
        "  class ChildNoJT(ParentWithJT2):\r\n",
        "    def randomMethodHere(self):\r\n",
        "      pass\r\n",
        "  \r\n",
        "  class ChildNoJT2(ChildNoJT):\r\n",
        "    def randomeMethodHere2(self):\r\n",
        "      pass\r\n",
        "  \r\n"
      ],
      "execution_count": 57,
      "outputs": []
    },
    {
      "cell_type": "code",
      "metadata": {
        "id": "6b2c0xPTNFsW",
        "colab": {
          "base_uri": "https://localhost:8080/"
        },
        "outputId": "4a984c33-6794-4367-c554-ca968f8a2a2f"
      },
      "source": [
        "if __name__ == '__main__':\r\n",
        "  graph_demo = ChildNoJT2()\r\n",
        "  print_assert(graph_demo.d, 'a->b->d and c->d')\r\n",
        "  graph_demo.a = 'A'\r\n",
        "  print_assert(graph_demo.d, 'A->b->d and c->d')\r\n",
        "  JTProperty.cls_name2graph_sys[type(graph_demo).__qualname__].disp()\r\n",
        "  #for cls: ChildWithJT\r\n",
        "  #_c points to {'_d'}\r\n",
        "  #_d points to set()\r\n",
        "  #for cls: ParentWithJT\r\n",
        "  #_a points to {'_b'}\r\n",
        "  #_b points to {'_d'}"
      ],
      "execution_count": 58,
      "outputs": [
        {
          "output_type": "stream",
          "text": [
            "a->b->d and c->d\n",
            "A->b->d and c->d\n",
            "for cls: ParentWithJT2\n",
            "_c points to {'_d'}\n",
            "_d points to set()\n",
            "for cls: ParentWithJT1\n",
            "_a points to {'_b'}\n",
            "_b points to {'_d'}\n"
          ],
          "name": "stdout"
        }
      ]
    },
    {
      "cell_type": "code",
      "metadata": {
        "id": "VK4BWh1XNFsY",
        "colab": {
          "base_uri": "https://localhost:8080/"
        },
        "outputId": "6abb33ba-d4cb-48d4-cc91-841f57dbb7a7"
      },
      "source": [
        "if __name__ == '__main__':\r\n",
        "  graph_demo = ChildNoJT2()\r\n",
        "  graph_demo.d = 'a->b->d and c->d'\r\n",
        "  graph_demo.a = 'A'\r\n",
        "  print_assert(graph_demo._d, 'a->b->d and c->d')\r\n",
        "  print_assert(graph_demo.d, 'a->b->d and c->d')\r\n",
        "  JTProperty.cls_name2graph_sys[type(graph_demo).__qualname__].disp()\r\n",
        "  #for cls: ChildWithJT\r\n",
        "  #_c points to {'_d'}\r\n",
        "  #_d points to set()\r\n",
        "  #for cls: ParentWithJT\r\n",
        "  #_a points to {'_b'}\r\n",
        "  #_b points to {'_d'}"
      ],
      "execution_count": 59,
      "outputs": [
        {
          "output_type": "stream",
          "text": [
            "a->b->d and c->d\n",
            "a->b->d and c->d\n",
            "for cls: ParentWithJT2\n",
            "_c points to {'_d'}\n",
            "_d points to set()\n",
            "for cls: ParentWithJT1\n",
            "_a points to {'_b'}\n",
            "_b points to {'_d'}\n"
          ],
          "name": "stdout"
        }
      ]
    },
    {
      "cell_type": "markdown",
      "metadata": {
        "id": "tBrf3sMWQvba"
      },
      "source": [
        "# Areas Of Improvement\n",
        "  - Introduce dependencies that use JTProperty methods of class instance attributes\n",
        "    - Arrives in (1.2.0)\n",
        "  - Improve setter: Allow for multiple types when validating setter input\n",
        "    - Arrives in (1.1.0)\n",
        "  - Change the reset DFS to a more efficient and less bug prone BFS algorithm \n",
        "    - Arrives in (1.0.4)\n",
        "  - Introduce setter detection to reduce uneccessary setter = True kwargs\n",
        "    - DONE (1.0.3)\n",
        "  - Introduce easy setter type detection\n",
        "    - DONE (1.0.3)\n",
        "  - split dependency space seperated strings\n",
        "    - DONE (1.0.3)\n",
        "  - Functioning Heirarchal classes where child classes do not have JTProperty\n",
        "    - DONE (1.0.2)\n",
        "  - Dependency graphs + inheritence using graph clusters\n",
        "    - DONE (1.0.0)\n",
        "  - Multithreaded cls detection for building dependency\n",
        "    - DONE (1.0.0)\n"
      ]
    },
    {
      "cell_type": "markdown",
      "metadata": {
        "id": "1xuNWA-Q9Y9N"
      },
      "source": [
        "# Bugs\r\n",
        "  - After running all code cells in the notebook, they cannot be rerun via ctrl+f9\r\n",
        "    - The reason is because all the cls variables are still defined so the multithreaded cls wait will not work\r\n",
        "    - Instead, restart runtime and run all cells"
      ]
    },
    {
      "cell_type": "markdown",
      "metadata": {
        "id": "2obcsQyzez5p"
      },
      "source": [
        "# Debates\r\n",
        "- Whenever a node is updated should all downstream dependencies be set to None?\r\n",
        "- Consider a graph that looks like this:\r\n",
        "  - a->b->c and c->a\r\n",
        "  - consider setting c = ___c___ and then calling a\r\n",
        "    - a depends on c, thus a is set to some value\r\n",
        "      - However the act of setting a causes c to reset to None as via the nature of the DFS graph traversal\r\n",
        "    - Therefore, essentially only one variable can exist at a time which doesn't make sense within a circular dependency setting\r\n"
      ]
    },
    {
      "cell_type": "markdown",
      "metadata": {
        "id": "utYfMmZekJpR"
      },
      "source": [
        "# Revision History\r\n",
        "- 1.0.3:\r\n",
        "  - Added \\_\\_name\\_\\_ == '\\_\\_main\\_\\_' to reduce namespace cluttering for all demo classes\r\n",
        "  - added split dependency strings and support for dependencies specified as sets\r\n",
        "  - added easy setter detection\r\n",
        "    - Bool type variables for setters are now deprecated\r\n",
        "  - Added default type setters\r\n",
        "  - Added \"documentation overview\"\r\n",
        "- 1.0.2:\r\n",
        "  - Added test case \"Child classes with no JTProperty Declarations\r\n",
        "    - This problem was fixed within the setter \\_\\_call\\_\\_ method because the \"self\" variable was needed to find the identity of the child class, in order to create a graph for that child class"
      ]
    },
    {
      "cell_type": "code",
      "metadata": {
        "id": "UGU0Jp0KOuzL",
        "colab": {
          "base_uri": "https://localhost:8080/"
        },
        "outputId": "fc701e7e-8f3b-4a0a-f2bf-cdec75a48ac4"
      },
      "source": [
        "# checking for any residual threads lyin about\r\n",
        "if __name__ == \"__main__\":\r\n",
        "  import threading\r\n",
        "  print(threading.enumerate())\r\n",
        "  # should look something like this:\r\n",
        "  #[<_MainThread(MainThread, started 140206017951616)>, <Thread(Thread-2, started daemon 140205621974784)>, <Heartbeat(Thread-3, started daemon 140205613582080)>, <ParentPollerUnix(Thread-1, started daemon 140205549238016)>]\r\n"
      ],
      "execution_count": 60,
      "outputs": [
        {
          "output_type": "stream",
          "text": [
            "[<_MainThread(MainThread, started 140217022068608)>, <Thread(Thread-2, started daemon 140216519104256)>, <Heartbeat(Thread-3, started daemon 140216510449408)>, <ParentPollerUnix(Thread-1, started daemon 140216446367488)>]\n"
          ],
          "name": "stdout"
        }
      ]
    }
  ]
}