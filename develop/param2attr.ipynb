{
  "nbformat": 4,
  "nbformat_minor": 0,
  "metadata": {
    "colab": {
      "name": "param2attr.ipynb",
      "provenance": [],
      "collapsed_sections": [],
      "authorship_tag": "ABX9TyOm0e8CS/5Gmp6V/MwBJ+3C",
      "include_colab_link": true
    },
    "kernelspec": {
      "name": "python3",
      "display_name": "Python 3"
    }
  },
  "cells": [
    {
      "cell_type": "markdown",
      "metadata": {
        "id": "view-in-github",
        "colab_type": "text"
      },
      "source": [
        "<a href=\"https://colab.research.google.com/github/Josiah-tan/ez_life/blob/main/develop/param2attr.ipynb\" target=\"_parent\"><img src=\"https://colab.research.google.com/assets/colab-badge.svg\" alt=\"Open In Colab\"/></a>"
      ]
    },
    {
      "cell_type": "markdown",
      "metadata": {
        "id": "brzlUe0GybHd"
      },
      "source": [
        "# Param2attr Implementation \n",
        "- Code below implements the desired features for the param2attr idea to make code more concise\n",
        "  - Skip this section to skip the implementation\n",
        "    - To do this, Open table of contents, and go to [Param2attr Demo](#startDoc) to start\n"
      ]
    },
    {
      "cell_type": "code",
      "metadata": {
        "id": "Mvj-I0ByZ6Vt"
      },
      "source": [
        "import inspect\n",
        "import functools\n",
        "class Param2attr:\n",
        "  def __init__(self, exclude = None):\n",
        "    if exclude is None:\n",
        "      self.exclude = []\n",
        "\n",
        "    # exclude = \"some_string\"\n",
        "    elif isinstance(exclude, str) == 1:\n",
        "      self.exclude = [exclude]\n",
        "\n",
        "    else:\n",
        "      self.exclude = exclude\n",
        "\n",
        "  def __call__(self, _func):\n",
        "    functools.wraps(_func)\n",
        "    def wrapper(obj, *args, **kwargs):\n",
        "\n",
        "      # boilerplate code\n",
        "      bound_args = inspect.signature(_func).bind(obj, *args, **kwargs)\n",
        "      bound_args.apply_defaults()\n",
        "      dic = dict(bound_args.arguments)\n",
        "      #print(dic) # uncomment to find contents of dic\n",
        "\n",
        "      dic.pop('self')\n",
        "      _args = dic.pop('args', None)\n",
        "      _kwargs = dic.pop('kwargs', None)\n",
        "\n",
        "      # setting from dict\n",
        "      [setattr(obj, key, val) for key, val in dic.items() if key not in self.exclude]\n",
        "      #setting from extra args\n",
        "      if _args is not None:\n",
        "        [setattr(obj, str(key), key) for key in _args if key not in self.exclude]\n",
        "      #setting from extra kwargs\n",
        "      if _kwargs is not None:\n",
        "        [setattr(obj, key, val) for key, val in _kwargs.items() if key not in self.exclude]\n",
        "\n",
        "      return _func(obj, *args, **kwargs)\n",
        "    return wrapper"
      ],
      "execution_count": null,
      "outputs": []
    },
    {
      "cell_type": "markdown",
      "metadata": {
        "id": "QnD6WlqN3dc5"
      },
      "source": [
        "# Installation and Importing\r\n",
        "- The code below is commented out for if you want to try installing and importing the ez_life package"
      ]
    },
    {
      "cell_type": "code",
      "metadata": {
        "colab": {
          "base_uri": "https://localhost:8080/"
        },
        "id": "ogTwQHWZziD9",
        "outputId": "190fd658-a748-491c-d567-ef3935cca81c"
      },
      "source": [
        "#!pip install -U ez-life"
      ],
      "execution_count": null,
      "outputs": [
        {
          "output_type": "stream",
          "text": [
            "Requirement already up-to-date: ez-life==1.0.1 in /usr/local/lib/python3.6/dist-packages (1.0.1)\n"
          ],
          "name": "stdout"
        }
      ]
    },
    {
      "cell_type": "code",
      "metadata": {
        "id": "lWchj26jzpHi"
      },
      "source": [
        "#from ez_life import Param2atr"
      ],
      "execution_count": null,
      "outputs": []
    },
    {
      "cell_type": "markdown",
      "metadata": {
        "id": "VOBFIc9VuWXN"
      },
      "source": [
        "# Param2attr Demo\n",
        "- The objective of this class decorator is to automate creation of class attributes from arguments passed into an \\_\\_init\\_\\_ method \n",
        "- Say we have a class that looks like this:"
      ]
    },
    {
      "cell_type": "code",
      "metadata": {
        "id": "zgrh4vHitxp9"
      },
      "source": [
        "class Foo:\n",
        "  def __init__(self, param1 = None, param2 = None, param3 = None):\n",
        "    # This sux\n",
        "    self.param1 = param1\n",
        "    self.param2 = param2\n",
        "    self.param3 = param3"
      ],
      "execution_count": null,
      "outputs": []
    },
    {
      "cell_type": "markdown",
      "metadata": {
        "id": "W8hgfqKyvwyx"
      },
      "source": [
        "- We can instead create a class that looks like this, using a property decorator to perform the param to attribute assignments"
      ]
    },
    {
      "cell_type": "code",
      "metadata": {
        "id": "XY4kxsdSvc2_"
      },
      "source": [
        "class Foo:\n",
        "  @Param2attr(exclude=None)\n",
        "  def __init__(self, param1 = None, param2 = None, param3 = None):\n",
        "    # this good, allows u to write other code here during initialization\n",
        "    pass"
      ],
      "execution_count": null,
      "outputs": []
    },
    {
      "cell_type": "code",
      "metadata": {
        "id": "7VieXHO80UMq"
      },
      "source": [
        "if __name__ == '__main__':\n",
        "  foo = Foo(param1 = \"john\", param2 = \"hog\", param3 = \"sam\")\n",
        "  assert foo.param1 == \"john\"\n",
        "  assert foo.param2 == \"hog\"\n",
        "  assert foo.param3 == \"sam\""
      ],
      "execution_count": null,
      "outputs": []
    },
    {
      "cell_type": "markdown",
      "metadata": {
        "id": "cOvVaJQbxKbN"
      },
      "source": [
        "# Exclude\n",
        "- The optional exclude parameter excludes any parameters in creating attributes for the class\n",
        "  - You can specify this as a list"
      ]
    },
    {
      "cell_type": "code",
      "metadata": {
        "id": "34r9Af-swkIq"
      },
      "source": [
        "class Foo:\n",
        "  def __init__(self, param1, param2, param3):\n",
        "    self.param3 = param3\n",
        "\n",
        "# is the same as\n",
        "\n",
        "class Foo:\n",
        "  @Param2attr(exclude=['param1', 'param2'])\n",
        "  def __init__(self, param1 = None, param2 = None, param3 = None):\n",
        "    pass"
      ],
      "execution_count": null,
      "outputs": []
    },
    {
      "cell_type": "code",
      "metadata": {
        "id": "WGeh5XQT52R7"
      },
      "source": [
        "if __name__ == '__main__':\n",
        "  foo = Foo(\"john\", \"hog\", \"sam\")\n",
        "  foo_dir = dir(foo)\n",
        "  assert foo.param3 == \"sam\"\n",
        "  assert 'param1' not in foo_dir\n",
        "  assert 'param2' not in foo_dir"
      ],
      "execution_count": null,
      "outputs": []
    },
    {
      "cell_type": "markdown",
      "metadata": {
        "id": "cH7-sMM_-yor"
      },
      "source": [
        "- You can also specify the exclude param as a string"
      ]
    },
    {
      "cell_type": "code",
      "metadata": {
        "id": "C3Pn9J6x7iiq"
      },
      "source": [
        "class Foo:\n",
        "  def __init__(self, param1, param2, param3):\n",
        "    self.param2 = param2\n",
        "    self.param3 = param3\n",
        "\n",
        "# is the same as\n",
        "\n",
        "class Foo:\n",
        "  @Param2attr(exclude='param1')\n",
        "  def __init__(self, param1 = None, param2 = None, param3 = None):\n",
        "    pass"
      ],
      "execution_count": null,
      "outputs": []
    },
    {
      "cell_type": "code",
      "metadata": {
        "id": "1v1CiSuU8veG"
      },
      "source": [
        "if __name__ == '__main__':\n",
        "  foo = Foo(\"john\", \"hog\", \"sam\")\n",
        "  foo_dir = dir(foo)\n",
        "  assert foo.param2 == \"hog\"\n",
        "  assert foo.param3 == \"sam\"\n",
        "  assert 'param1' not in foo_dir"
      ],
      "execution_count": null,
      "outputs": []
    },
    {
      "cell_type": "markdown",
      "metadata": {
        "id": "JERuRueY9vlZ"
      },
      "source": [
        "# The General Case\r\n",
        "- The code below exhibits how @Param2attr can be used in general scenarios\r\n",
        "  - First we will show the traditional, hardcoded implementation"
      ]
    },
    {
      "cell_type": "code",
      "metadata": {
        "id": "4zxpiltDczjo"
      },
      "source": [
        "class Foo:\n",
        "  def __init__(self, arg1, arg2, *args, kwarg1 = 'kwg1', default1 = 'optkwg1', **kwargs):\n",
        "    self.arg1 = arg1\n",
        "    self.arg2 = arg2\n",
        "    [setattr(self, str(key), key) for key in args]\n",
        "    self.kwarg1 = kwarg1\n",
        "    self.default1 = default1\n",
        "    [setattr(self, key, val) for key, val in kwargs.items()]"
      ],
      "execution_count": null,
      "outputs": []
    },
    {
      "cell_type": "code",
      "metadata": {
        "id": "NpaI-2z1stq1"
      },
      "source": [
        "if __name__ == '__main__':\n",
        "  foo = Foo(1, 'ag2', 'ag3', 4, kwarg1 = 'kwargv1', kwarg2 = 'kwargv2')\n",
        "  foo_dir = dir(foo)\n",
        "  arg1 = foo.arg1\n",
        "  arg2 = foo.arg2\n",
        "  ag3 = foo.ag3\n",
        "  foo_4 = getattr(foo, '4') # can't get attribute 4 via foo.4, cause this gives synthax error\n",
        "  tp_foo_4 = type(getattr(foo, '4'))\n",
        "  kwarg1 = foo.kwarg1\n",
        "  kwarg2 = foo.kwarg2\n",
        "  default1 = foo.default1"
      ],
      "execution_count": null,
      "outputs": []
    },
    {
      "cell_type": "markdown",
      "metadata": {
        "id": "DAH_6b2-beA4"
      },
      "source": [
        "- The code below does the same thing, but is simplified via the @Param2attr decorator"
      ]
    },
    {
      "cell_type": "code",
      "metadata": {
        "id": "ZuSZg3USdfum"
      },
      "source": [
        "class Foo:\n",
        "  @Param2attr(exclude = None)\n",
        "  def __init__(self, arg1, arg2, *args, kwarg1 = 'kwg1', default1 = 'optkwg1', **kwargs):\n",
        "    pass"
      ],
      "execution_count": null,
      "outputs": []
    },
    {
      "cell_type": "code",
      "metadata": {
        "id": "ts2fg4kxd7xN"
      },
      "source": [
        "if __name__=='__main__':\n",
        "  foo = Foo(1, 'ag2', 'ag3', 4, kwarg1 = 'kwargv1', kwarg2 = 'kwargv2')\n",
        "  assert foo_dir == dir(foo)\n",
        "  assert arg1 == foo.arg1\n",
        "  assert arg2 == foo.arg2\n",
        "  assert ag3 == foo.ag3\n",
        "  assert foo_4 == getattr(foo, '4') # can't get attribute 4 via foo.4, gives synthax error\n",
        "  assert tp_foo_4 == type(getattr(foo, '4'))\n",
        "  assert kwarg1 == foo.kwarg1\n",
        "  assert kwarg2 == foo.kwarg2\n",
        "  assert default1 == foo.default1"
      ],
      "execution_count": null,
      "outputs": []
    },
    {
      "cell_type": "code",
      "metadata": {
        "id": "0N2liyJJj7B3"
      },
      "source": [
        ""
      ],
      "execution_count": null,
      "outputs": []
    }
  ]
}