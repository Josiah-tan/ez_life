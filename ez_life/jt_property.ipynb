{
  "nbformat": 4,
  "nbformat_minor": 0,
  "metadata": {
    "colab": {
      "name": "jt_property.ipynb",
      "provenance": [],
      "collapsed_sections": [],
      "toc_visible": true,
      "authorship_tag": "ABX9TyNAyyVetLz5sbBrlK9aYHzO",
      "include_colab_link": true
    },
    "kernelspec": {
      "name": "python3",
      "display_name": "Python 3"
    }
  },
  "cells": [
    {
      "cell_type": "markdown",
      "metadata": {
        "id": "view-in-github",
        "colab_type": "text"
      },
      "source": [
        "<a href=\"https://colab.research.google.com/github/Josiah-tan/ez_life/blob/main/ez_life/jt_property.ipynb\" target=\"_parent\"><img src=\"https://colab.research.google.com/assets/colab-badge.svg\" alt=\"Open In Colab\"/></a>"
      ]
    },
    {
      "cell_type": "markdown",
      "metadata": {
        "id": "ArVB_L5-Ylkf"
      },
      "source": [
        "# JTProperty Full Implementation \n",
        "- Code below shows full implementation of the JTproperty class\n",
        "  - Skip this section to skip the implementation\n",
        "    - To do this, Open table of contents, and go to [Basic Property Demo](#startDoc) to start\n",
        "- In a nutshell, the objective of JTProperty is to make dependency code easier to write"
      ]
    },
    {
      "cell_type": "markdown",
      "metadata": {
        "id": "5zt_KufWOrTf"
      },
      "source": [
        "## Importing Dependencies"
      ]
    },
    {
      "cell_type": "code",
      "metadata": {
        "id": "H88G-lH3tKab"
      },
      "source": [
        "import copy\r\n",
        "import functools\r\n",
        "import sys\r\n",
        "import threading"
      ],
      "execution_count": 1,
      "outputs": []
    },
    {
      "cell_type": "markdown",
      "metadata": {
        "id": "UhUhn3naOvfy"
      },
      "source": [
        "## Graph Datastructure\r\n",
        "- Implementation of a skeleton graph dependencies model for a single class\r\n",
        "  - This graph is the intermediate stage to building the final dependencies system"
      ]
    },
    {
      "cell_type": "code",
      "metadata": {
        "id": "5sIPlqtznqtW"
      },
      "source": [
        "class Node:\r\n",
        "  def __init__(self, data):\r\n",
        "    self.data = data\r\n",
        "    self.was_visited = False\r\n",
        "    self._edges = set()\r\n",
        "\r\n",
        "  def addEdge(self, edges):\r\n",
        "    assert isinstance(edges, set)\r\n",
        "    self._edges.update(edges) \r\n",
        "\r\n",
        "\r\n",
        "class Graph:\r\n",
        "  def __init__(self, cls_name):\r\n",
        "    self.cls_name = cls_name\r\n",
        "    self.data2node = {}\r\n",
        "\r\n",
        "  def data2Node(self, data):\r\n",
        "    node = self.data2node.get(data, None)\r\n",
        "    if node is None:\r\n",
        "      node = Node(data)\r\n",
        "      self.data2node[data] = node\r\n",
        "    return node\r\n",
        "\r\n",
        "  def add(self, out, into):\r\n",
        "    out = out if isinstance(out, list) else {out}\r\n",
        "    into = into if isinstance(into, list) else {into}\r\n",
        "\r\n",
        "    outNodes = {self.data2Node(o) for o in out}\r\n",
        "    intoNodes = {self.data2Node(i) for i in into}\r\n",
        "\r\n",
        "    for outNode in outNodes:\r\n",
        "      outNode.addEdge(intoNodes)\r\n",
        "  \r\n",
        "  def disp(self):\r\n",
        "    #print(\"displaying graph\")\r\n",
        "    for data, node in self.data2node.items():\r\n",
        "      print(f\"{data} points to {set(n.data for n in node._edges)}\")\r\n"
      ],
      "execution_count": 2,
      "outputs": []
    },
    {
      "cell_type": "markdown",
      "metadata": {
        "id": "GLw8V7m7G48L"
      },
      "source": [
        "## ClsGraph\r\n",
        "- This 'graph' datastructure inherits from dict and it is the final datastructure used for traversal"
      ]
    },
    {
      "cell_type": "code",
      "metadata": {
        "id": "6uc1F_w-wi8A"
      },
      "source": [
        "class ClsGraphSys(dict):\r\n",
        "  def resetDepDFS(self, cls, obj, protected_name):\r\n",
        "    \"\"\"\r\n",
        "    Runs a DFS alrgorithm on the graph datastructure to reset all downstream dependencies to None\r\n",
        "    parameters\r\n",
        "      -- cls = type(obj)\r\n",
        "      -- cls_name = type(obj).__qualname__\r\n",
        "      -- obj: the class object that we are dealing with\r\n",
        "      -- protected_name: the name prefixed with an underscore\r\n",
        "    \"\"\"\r\n",
        "\r\n",
        "    \"\"\" find node of protected_name \"\"\"\r\n",
        "    node = None\r\n",
        "    for parent in cls.__mro__[:-1]:\r\n",
        "      parent_graph = self.get(parent.__qualname__, None)\r\n",
        "      if parent_graph is not None:\r\n",
        "        node = parent_graph.data2node.get(protected_name, None)\r\n",
        "        if node is not None:\r\n",
        "            break\r\n",
        "\r\n",
        "    if node is None:\r\n",
        "      return\r\n",
        "\r\n",
        "    def recursiveReset(node):\r\n",
        "      if (not isinstance(node, Node)) or node.was_visited:\r\n",
        "        return\r\n",
        "      node.was_visited = True\r\n",
        "      if (node.data in dir(obj)) and getattr(obj, node.data) is not None: # added this here so that recursion stops when the attribute is already None such that downstream dependencies are not reset since they are assumed to be also None, or preset to some value \r\n",
        "        setattr(obj, node.data, None)\r\n",
        "        [recursiveReset(n) for n in node._edges]\r\n",
        "  \r\n",
        "    recursiveReset(node)\r\n",
        "\r\n",
        "    \"\"\" reseting all nodes visited to False for next iteration\"\"\"\r\n",
        "    for parent in cls.__mro__[:-1]:\r\n",
        "      parent_graph = self.get(parent.__qualname__, None)\r\n",
        "      if parent_graph is not None:\r\n",
        "        for n in parent_graph.data2node.values():\r\n",
        "          n.was_visited = False\r\n",
        "  \r\n",
        "  def disp(self):\r\n",
        "    for cls, graph in self.items():\r\n",
        "      print(f\"for cls: {cls}\")\r\n",
        "      graph.disp()"
      ],
      "execution_count": 3,
      "outputs": []
    },
    {
      "cell_type": "code",
      "metadata": {
        "colab": {
          "base_uri": "https://localhost:8080/"
        },
        "id": "YoB8c5d-xeSF",
        "outputId": "4b085623-27a3-4277-8af2-9fac13dd6bb2"
      },
      "source": [
        "if __name__ == \"__main__\":\r\n",
        "  cls_dict = ClsGraphSys()\r\n",
        "  cls_dict['1'] = 4\r\n",
        "  print(type(cls_dict))"
      ],
      "execution_count": 4,
      "outputs": [
        {
          "output_type": "stream",
          "text": [
            "<class '__main__.ClsGraphSys'>\n"
          ],
          "name": "stdout"
        }
      ]
    },
    {
      "cell_type": "markdown",
      "metadata": {
        "id": "mrnDDEsDAD8D"
      },
      "source": [
        "## DefaultSetter\r\n",
        "- DefaultSetter is a class that sets a default identity setter when setter = \"default\" is called via the JTProperty class"
      ]
    },
    {
      "cell_type": "code",
      "metadata": {
        "id": "bQ_NhGPKAVgS"
      },
      "source": [
        "class DefaultSetter:\r\n",
        "    def __init__(self, setter):\r\n",
        "      self.setter = setter\r\n",
        "    def __call__(self, _func):\r\n",
        "      if str(self.setter).lower() in \"default\":\r\n",
        "        _func = _func.setter(self.defaultSetter)\r\n",
        "      return _func\r\n",
        "    \r\n",
        "    @staticmethod\r\n",
        "    def defaultSetter(obj, var):\r\n",
        "      return var\r\n"
      ],
      "execution_count": 5,
      "outputs": []
    },
    {
      "cell_type": "markdown",
      "metadata": {
        "id": "hEOQydp5OwnV"
      },
      "source": [
        "## EzProperty\r\n",
        "  - EzProperty function returns an object that inherits from the property class\r\n",
        "    - Currently EzProperty changes the setter function such that the return value is the value set by the setter"
      ]
    },
    {
      "cell_type": "code",
      "metadata": {
        "id": "g6N9hwOSJCRF"
      },
      "source": [
        "def EzProperty(JTProperty_obj):\n",
        "  class ClsWrapper(property):\n",
        "    def __init__(self, *args, **kwargs):\n",
        "      return super().__init__(*args, **kwargs)\n",
        "    \n",
        "    def setter_preprocess(self, _func):\n",
        "      \"\"\"\n",
        "      Performs preprocessing on the self._func decorated by @func.setter\n",
        "        - resets all downstream graph dependencies\n",
        "        - sets return value of _func to protected name of _func\n",
        "      \"\"\"\n",
        "      def wrapper(obj, val):\n",
        "        JTProperty_obj.joinClsThreads() # ensures that all class variables become available \n",
        "\n",
        "        cls = type(obj)\n",
        "        cls_name = cls.__qualname__\n",
        "        JTProperty_obj.cls_name2graph_sys[cls_name].resetDepDFS(cls, obj, JTProperty_obj.protected_name)\n",
        "\n",
        "        setattr(obj, JTProperty_obj.protected_name, _func(obj, val))\n",
        "      return wrapper\n",
        "  \n",
        "    def setter(self, _func):\n",
        "      \"\"\"\n",
        "      calls setter_preprocess wrapper to alter behaviour of _func\n",
        "      \"\"\"\n",
        "      return super().setter(self.setter_preprocess(_func))\n",
        "  return ClsWrapper"
      ],
      "execution_count": 6,
      "outputs": []
    },
    {
      "cell_type": "markdown",
      "metadata": {
        "id": "DnufyeP_PMu8"
      },
      "source": [
        "## JTProperty\r\n",
        "- The Main class decorator"
      ]
    },
    {
      "cell_type": "code",
      "metadata": {
        "id": "yUaZV0l3N6X_"
      },
      "source": [
        "\n",
        "class JTProperty:\n",
        "\n",
        "  # dicts for clsWasDeclared multithreading\n",
        "  cls_name2cls = {}\n",
        "  cls_name2thread = {}\n",
        "  cls_name2active_t = {} # stores currently active threads\n",
        "\n",
        "  # contains scaffolds of cls graphs\n",
        "  cls_name2graph = {}\n",
        "  # contains actual cls graph systems\n",
        "  cls_name2graph_sys = {}\n",
        "\n",
        "  # maps the name of the classes to a list of protected variables which were defined in a class\n",
        "  cls_name2protected_names = {}\n",
        "\n",
        "  def __init__(self, setter = False, deps = None):\n",
        "    # Tri state \"setter\": True, Default, False\n",
        "    self.setter = setter\n",
        "    self.deps = self.preprocessDeps(deps)\n",
        "  \n",
        "  def preprocessDeps(self, deps):\n",
        "    \"\"\"\n",
        "    converts all deps to protected string variables\n",
        "    \"\"\"\n",
        "    if deps is None:\n",
        "      return None\n",
        "    elif not isinstance(deps, (list, set)):\n",
        "      deps = [deps]\n",
        "    #check if all dependencies are a string (or a EzProperty instance <- not implemented)\n",
        "    assert all(isinstance(dep, (str)) for dep in deps)\n",
        "    return [f\"_{dep}\" for dep in deps]\n",
        "\n",
        "  def getVar(self, obj):\n",
        "    # if self._name is not available atm or it is set to None\n",
        "    if (self.protected_name not in dir(obj)) or (getattr(obj, self.protected_name) is None):\n",
        "      if self.setter == False:\n",
        "        setattr(obj, self.protected_name, self._func(obj)) \n",
        "      else:\n",
        "        # call setter method obj.name with the return value of the property function, this effectively sets obj._name\n",
        "        setattr(obj, self.public_name, self._func(obj)) \n",
        "    return getattr(obj, self.protected_name)\n",
        "\n",
        "  def addProtectedNames2ClsName(self):\n",
        "    \"\"\" adding property to a dict containing the name of class in which it belongs too\"\"\"\n",
        "    if self.cls_name2protected_names.get(self.cls_name, None) is None:\n",
        "      self.cls_name2protected_names[self.cls_name] = [self.protected_name]\n",
        "    else:\n",
        "      self.cls_name2protected_names[self.cls_name].append(self.protected_name) \n",
        "    \n",
        "  def initDepGraph(self):\n",
        "    \"\"\" Initialises a dep graph for the class of the decorated function and/or builds edges and nodes\"\"\"\n",
        "    # Create a graph if not available\n",
        "    cls_graph = self.cls_name2graph.get(self.cls_name, None)\n",
        "    if cls_graph is None:\n",
        "      self.cls_name2graph[self.cls_name] = Graph(self.cls_name)\n",
        "\n",
        "    # add edges for dependencies\n",
        "    if self.deps is not None:\n",
        "      self.cls_name2graph[self.cls_name].add(out = self.deps, into = self.protected_name)\n",
        "    else: # important for inheritence\n",
        "      self.cls_name2graph[self.cls_name].add(out = [], into = self.protected_name)\n",
        "\n",
        "  def __call__(self, _func):\n",
        "    self._func = _func\n",
        "    self.public_name = _func.__name__\n",
        "    self.protected_name = f\"_{self.public_name}\"\n",
        "\n",
        "    self.cls_name = _func.__qualname__.rsplit('.', 1)[0]\n",
        "    #cls = inspect._findclass(_func) <- big annoying problem: can't get cls from _func within this __call__ method, cls is not a global variable yet <- this is also why multithreading was used\n",
        "\n",
        "    self.addProtectedNames2ClsName()\n",
        "    self.initDepGraph()\n",
        "\n",
        "    # the getter method here\n",
        "    @DefaultSetter(self.setter)\n",
        "    @EzProperty(self)\n",
        "    @functools.wraps(_func)\n",
        "    def wrapper(obj):\n",
        "      self.joinClsThreads() # ensures inherited classes' nodes have been fully connected\n",
        "      return self.getVar(obj)\n",
        "\n",
        "    # perform tasks after cls is declared (run this last to reduce busy waiting load)\n",
        "    self.clsWasDeclared()\n",
        "    return wrapper\n",
        "\n",
        "  def clsWasDeclared(self):\n",
        "    def cls_name2Cls():\n",
        "      # is a listener like this efficient? Can someone let me know please, my concern is that this listener would be considered \"busy\"\n",
        "\n",
        "      # Code below was inspired by inspect.py -> _findclass() \n",
        "      cls_not_found = True\n",
        "      while cls_not_found:\n",
        "        cls_not_found = False\n",
        "        cls = sys.modules.get(self._func.__module__)\n",
        "        for name in self.cls_name.split('.'):\n",
        "          if name in dir(cls):\n",
        "            cls = getattr(cls, name)\n",
        "          else:\n",
        "            cls_not_found = True\n",
        "            break\n",
        "\n",
        "      self.cls_name2cls[self.cls_name] = cls \n",
        "\n",
        "      # do tasks here after cls is declared\n",
        "      self.createDepGraph(cls)\n",
        "    \n",
        "    # we only run this block once (for the first decorated method in the class)\n",
        "    if self.cls_name2thread.get(self.cls_name, None) is None:\n",
        "      self.cls_name2thread[self.cls_name] = threading.Thread(target = cls_name2Cls)\n",
        "      self.cls_name2thread[self.cls_name].start()\n",
        "\n",
        "      self.cls_name2active_t[self.cls_name] = self.cls_name2thread[self.cls_name] # to denote that its running\n",
        "\n",
        "  def createDepGraph(self, cls):\n",
        "    \"\"\" ensuring that all parent threads are complete\"\"\"\n",
        "    for parent in cls.__mro__[-2:0:-1]: # exclude beginning and end, and reverse the list\n",
        "      parent_name = parent.__qualname__\n",
        "      parent_t = self.cls_name2active_t.pop(parent_name, None)\n",
        "      if parent_t is not None:\n",
        "        parent_t.join()\n",
        "    \n",
        "    \"\"\"cls_name2graph_sys initialisation and copying class parent graphs\"\"\"\n",
        "    self.cls_name2graph_sys[self.cls_name] = ClsGraphSys({self.cls_name : self.cls_name2graph[self.cls_name]}) #ClsGraph inherits from dict, has method resetDepGraph\n",
        "\n",
        "    cls_graph_sys = self.cls_name2graph_sys[self.cls_name]\n",
        "\n",
        "    def cpParentGraphs(cls):\n",
        "      for parent in cls.__bases__: # only use parents that are directly inherited\n",
        "        if parent is not object: # case for no inheritence\n",
        "          parent_graph = self.cls_name2graph_sys.get(parent.__qualname__) # cases where classes may not have JTProperty decorators\n",
        "          if parent_graph is not None:\n",
        "            cls_graph_sys.update(copy.deepcopy(parent_graph)) # make deep copies of the parent graphs to prevent effecting the parent graph\n",
        "          else:\n",
        "            cpParentGraphs(parent) # if a class does not have JTProperty decorators, get parent classes of this parent\n",
        "    cpParentGraphs(cls)\n",
        "\n",
        "    \"\"\"connecting nodes from parent classes\"\"\"\n",
        "    prot_names2del = []\n",
        "    for data, node in cls_graph_sys[self.cls_name].data2node.items(): # data is the protected decorated _func name\n",
        "      for parent in cls.__mro__[:-1]: # we want to go in order of how Python searches through the inherited classes excluding final object class\n",
        "        parent_name = parent.__qualname__\n",
        "\n",
        "        parent_prot_name = self.cls_name2protected_names.get(parent_name)\n",
        "        if parent_prot_name is not None: # edge test case: parent may not have JTProperty Decorator inside\n",
        "          if data in parent_prot_name: # check if the protected variable was defined in this parent class\n",
        "            if parent is not cls: # don't need to reconnect nodes when the protected variable is inside cls\n",
        "              # adding node connections\n",
        "              parent_node = cls_graph_sys[parent_name].data2node[data]\n",
        "              parent_node.addEdge(node._edges)\n",
        "              prot_names2del.append(data)\n",
        "            break # make sure to get out of the MRO loop as soon as u find the variable (cause that's just how MRO works)\n",
        "\n",
        "    \"\"\" deleting uneccessary nodes \"\"\"\n",
        "    for protected_name in prot_names2del:\n",
        "        del cls_graph_sys[self.cls_name].data2node[protected_name]\n",
        "    \n",
        "  def joinClsThreads(self):\n",
        "    while len(self.cls_name2active_t) != 0:\n",
        "      cls_name, active_t = self.cls_name2active_t.popitem()\n",
        "      active_t.join()"
      ],
      "execution_count": 7,
      "outputs": []
    },
    {
      "cell_type": "markdown",
      "metadata": {
        "id": "UiYLfa03J9i7"
      },
      "source": [
        "## A Small Helper Function\r\n",
        "- Helps with debug testing"
      ]
    },
    {
      "cell_type": "code",
      "metadata": {
        "id": "aTnfParTJ9Fd"
      },
      "source": [
        "if __name__ == '__main__':\r\n",
        "  def print_assert(p, a = None):\r\n",
        "    print(p)\r\n",
        "    if a is not None:\r\n",
        "      assert p.__str__() == a.__str__()"
      ],
      "execution_count": 8,
      "outputs": []
    },
    {
      "cell_type": "markdown",
      "metadata": {
        "id": "NUm8FroHu9aP"
      },
      "source": [
        "<a id='startDoc'></a>"
      ]
    },
    {
      "cell_type": "markdown",
      "metadata": {
        "id": "W0vTZoBlZNiy"
      },
      "source": [
        "# Basic Property Demo \n",
        "- prop3 is dependent upon the values of prop2 and prop 1 as shown below\n"
      ]
    },
    {
      "cell_type": "code",
      "metadata": {
        "id": "m5S7LvCDVHxe"
      },
      "source": [
        "class PropDemo:\n",
        "  def __init__(self):\n",
        "    self._prop1 = None\n",
        "    self._prop2 = None\n",
        "    self._prop3 = None\n",
        "  \n",
        "  @property\n",
        "  def prop1(self):\n",
        "    if self._prop1 is None:\n",
        "      self._prop1 = self.get_prop1()\n",
        "    return self._prop1\n",
        "\n",
        "  @property\n",
        "  def prop2(self):\n",
        "    if self._prop2 is None:\n",
        "      self._prop2 = self.get_prop2()\n",
        "    return self._prop2\n",
        "\n",
        "  @property\n",
        "  def prop3(self):\n",
        "    if self._prop3 is None:\n",
        "      self._prop3 = self.get_prop3()\n",
        "    return self._prop3\n",
        " \n",
        "  def get_prop1(self):\n",
        "    return 1\n",
        "  def get_prop2(self):\n",
        "    return self.prop1 + 1\n",
        "  def get_prop3(self):\n",
        "    return self.prop2 + 1\n",
        "  \n"
      ],
      "execution_count": 9,
      "outputs": []
    },
    {
      "cell_type": "code",
      "metadata": {
        "id": "yX9oKePRXcJ-",
        "colab": {
          "base_uri": "https://localhost:8080/"
        },
        "outputId": "27578ff2-43fa-449f-e91f-42e08fd42752"
      },
      "source": [
        "if __name__ == '__main__':\n",
        "  prop_dem = PropDemo()\n",
        "  print_assert(prop_dem.prop3, '3')"
      ],
      "execution_count": 10,
      "outputs": [
        {
          "output_type": "stream",
          "text": [
            "3\n"
          ],
          "name": "stdout"
        }
      ]
    },
    {
      "cell_type": "markdown",
      "metadata": {
        "id": "d4qR1MYmZtmF"
      },
      "source": [
        "- The @JTProperty decorator uses less lines of code then the @property decorator, but achieves the same result"
      ]
    },
    {
      "cell_type": "code",
      "metadata": {
        "id": "rpW6e30EXXfv"
      },
      "source": [
        "class JTPropDemo:\n",
        "  def __init__(self):\n",
        "    pass\n",
        "  \n",
        "  @JTProperty()\n",
        "  def prop1(self):\n",
        "    return 1\n",
        "\n",
        "  @JTProperty()\n",
        "  def prop2(self):\n",
        "    return self.prop1 + 1\n",
        "\n",
        "  @JTProperty()\n",
        "  def prop3(self):\n",
        "    return self.prop2 + 1\n",
        "  "
      ],
      "execution_count": 11,
      "outputs": []
    },
    {
      "cell_type": "code",
      "metadata": {
        "id": "IzcG0AH0hlVC",
        "colab": {
          "base_uri": "https://localhost:8080/"
        },
        "outputId": "006e6f12-58c8-4e4d-f551-0b97a7be114c"
      },
      "source": [
        "if __name__ == '__main__':\n",
        "  prop_dem = JTPropDemo()\n",
        "  print_assert(prop_dem.prop3, '3')\n"
      ],
      "execution_count": 12,
      "outputs": [
        {
          "output_type": "stream",
          "text": [
            "3\n"
          ],
          "name": "stdout"
        }
      ]
    },
    {
      "cell_type": "markdown",
      "metadata": {
        "id": "yGv3pk4cZeYN"
      },
      "source": [
        "# Setter methods\n",
        "- Consider a class that uses getter and setter methods as shown below:"
      ]
    },
    {
      "cell_type": "code",
      "metadata": {
        "id": "jbqjkEopaeKU"
      },
      "source": [
        "class SetAndGet:\n",
        "  def __init__(self, r = 1):\n",
        "    # initialise the protected variable\n",
        "    self._radius = None\n",
        "\n",
        "    # calls the @radius.setter method\n",
        "    self.radius = r\n",
        "  @property\n",
        "  def radius(self):\n",
        "    if self._radius is None:\n",
        "      self.radius = 2\n",
        "    return self._radius\n",
        "  @radius.setter\n",
        "  def radius(self, r):\n",
        "    if r <= 0:\n",
        "      raise ValueError(\"radius should be greater than 0\")\n",
        "    self._radius = r"
      ],
      "execution_count": 13,
      "outputs": []
    },
    {
      "cell_type": "markdown",
      "metadata": {
        "id": "GEuBsRFYdqoS"
      },
      "source": [
        "- In the test below, contextlib silences the ValueError that occurs with setting the radius to -5"
      ]
    },
    {
      "cell_type": "code",
      "metadata": {
        "id": "pWqFLWMbbq5O",
        "colab": {
          "base_uri": "https://localhost:8080/"
        },
        "outputId": "9184f9c2-359b-40fb-ed55-d9d6a5d41587"
      },
      "source": [
        "if __name__ == '__main__':\n",
        "  import contextlib\n",
        "  setandget = SetAndGet()\n",
        "  print_assert(setandget.radius, '1')\n",
        "\n",
        "  setandget.radius = 5\n",
        "  print_assert(setandget.radius, '5')\n",
        "\n",
        "  setandget.radius = 3\n",
        "  print_assert(setandget.radius, '3')\n",
        "\n",
        "  with contextlib.suppress(ValueError):\n",
        "    setandget.radius = -5\n",
        "  print_assert(setandget.radius, '3')"
      ],
      "execution_count": 14,
      "outputs": [
        {
          "output_type": "stream",
          "text": [
            "1\n",
            "5\n",
            "3\n",
            "3\n"
          ],
          "name": "stdout"
        }
      ]
    },
    {
      "cell_type": "markdown",
      "metadata": {
        "id": "95UDzFNYd8lS"
      },
      "source": [
        "- The JTProperty() and .setter decorators introduce abstraction with the automated use of hidden \"protected variables\"\n",
        "  - In this case, the protected variable is self._radius\n",
        "  - setter = True should be set when @radius.setter is used"
      ]
    },
    {
      "cell_type": "code",
      "metadata": {
        "id": "yh2VTbQsN6X_"
      },
      "source": [
        "class JTSetAndGet:\n",
        "  def __init__(self, r = 1):\n",
        "    self.radius = r\n",
        "  @JTProperty(setter = True)\n",
        "  def radius(self):\n",
        "    return 2\n",
        "\n",
        "  @radius.setter\n",
        "  def radius(self, r):\n",
        "    if r <= 0:\n",
        "      raise ValueError(\"radius should be greater than 0\")\n",
        "    return r\n"
      ],
      "execution_count": 15,
      "outputs": []
    },
    {
      "cell_type": "code",
      "metadata": {
        "id": "5ULZHnGxN6X_",
        "colab": {
          "base_uri": "https://localhost:8080/"
        },
        "outputId": "aa7e3f2c-8847-49e6-f638-1b743bd326dc"
      },
      "source": [
        "if __name__ == '__main__':\n",
        "  import contextlib\n",
        "  setandget = SetAndGet()\n",
        "  print_assert(setandget.radius, '1')\n",
        "\n",
        "  setandget.radius = 5\n",
        "  print_assert(setandget.radius, '5')\n",
        "\n",
        "  setandget.radius = 3\n",
        "  print_assert(setandget.radius, '3')\n",
        "\n",
        "  with contextlib.suppress(ValueError):\n",
        "    setandget.radius = -5\n",
        "  print_assert(setandget.radius, '3')"
      ],
      "execution_count": 16,
      "outputs": [
        {
          "output_type": "stream",
          "text": [
            "1\n",
            "5\n",
            "3\n",
            "3\n"
          ],
          "name": "stdout"
        }
      ]
    },
    {
      "cell_type": "markdown",
      "metadata": {
        "id": "c2z24t4sb-hT"
      },
      "source": [
        "# Automatic Setter \r\n",
        "- The JTProperty decorator allows for automatically generated setters\r\n",
        "- The code below demonstrates the explicit version, followed by the implicit version\r\n",
        "  - The explicit version has the same functionality as the implicit version\r\n",
        "  - In the explicit version, setter = True"
      ]
    },
    {
      "cell_type": "code",
      "metadata": {
        "id": "rdrrZjLLcW35"
      },
      "source": [
        "# writing the setter explicitly\r\n",
        "class SetterDemo:\r\n",
        "  @JTProperty(setter=True)\r\n",
        "  def prop(self):\r\n",
        "    return 1\r\n",
        "  \r\n",
        "  @prop.setter\r\n",
        "  def prop(self, val):\r\n",
        "    return val"
      ],
      "execution_count": 17,
      "outputs": []
    },
    {
      "cell_type": "code",
      "metadata": {
        "colab": {
          "base_uri": "https://localhost:8080/"
        },
        "id": "6Znaz9ihxyiI",
        "outputId": "4652f937-4d32-41e6-eca1-bb95b1c63160"
      },
      "source": [
        "if __name__ == \"__main__\":\r\n",
        "  # test setter before getter\r\n",
        "  setter_demo = SetterDemo()\r\n",
        "  setter_demo.prop = 2\r\n",
        "  print_assert(setter_demo.prop, '2')"
      ],
      "execution_count": 18,
      "outputs": [
        {
          "output_type": "stream",
          "text": [
            "2\n"
          ],
          "name": "stdout"
        }
      ]
    },
    {
      "cell_type": "code",
      "metadata": {
        "colab": {
          "base_uri": "https://localhost:8080/"
        },
        "id": "x7R5jBy8xyip",
        "outputId": "8ddd012f-bae8-482a-a0a0-53f617b05d60"
      },
      "source": [
        "if __name__ == \"__main__\":\r\n",
        "  # test getter before setter\r\n",
        "  setter_demo = SetterDemo()\r\n",
        "  print_assert(setter_demo.prop, '1')"
      ],
      "execution_count": 19,
      "outputs": [
        {
          "output_type": "stream",
          "text": [
            "1\n"
          ],
          "name": "stdout"
        }
      ]
    },
    {
      "cell_type": "markdown",
      "metadata": {
        "id": "soggcKha5Wog"
      },
      "source": [
        "- Implicit Version: setter=\"Default\""
      ]
    },
    {
      "cell_type": "code",
      "metadata": {
        "id": "-iNAb6VhdCjv"
      },
      "source": [
        "# writing the setter implicitly\r\n",
        "class AutoSetterDemo:\r\n",
        "  @JTProperty(setter=\"Default\")\r\n",
        "  def prop(self):\r\n",
        "    return 1\r\n"
      ],
      "execution_count": 20,
      "outputs": []
    },
    {
      "cell_type": "code",
      "metadata": {
        "colab": {
          "base_uri": "https://localhost:8080/"
        },
        "id": "QHDNEj8AuBbd",
        "outputId": "579688e0-bc22-4cd3-e851-0ed544de164a"
      },
      "source": [
        "if __name__ == \"__main__\":\r\n",
        "  # test setter before getter\r\n",
        "  auto_setter_demo = AutoSetterDemo()\r\n",
        "  auto_setter_demo.prop = 2\r\n",
        "  print_assert(auto_setter_demo.prop, '2')"
      ],
      "execution_count": 21,
      "outputs": [
        {
          "output_type": "stream",
          "text": [
            "2\n"
          ],
          "name": "stdout"
        }
      ]
    },
    {
      "cell_type": "code",
      "metadata": {
        "colab": {
          "base_uri": "https://localhost:8080/"
        },
        "id": "FjiGvzVYguea",
        "outputId": "ba79380e-82ea-4451-8bef-01c97ef2bca0"
      },
      "source": [
        "if __name__ == \"__main__\":\r\n",
        "  # test getter before setter\r\n",
        "  auto_setter_demo = AutoSetterDemo()\r\n",
        "  print_assert(auto_setter_demo.prop, '1')"
      ],
      "execution_count": 22,
      "outputs": [
        {
          "output_type": "stream",
          "text": [
            "1\n"
          ],
          "name": "stdout"
        }
      ]
    },
    {
      "cell_type": "markdown",
      "metadata": {
        "id": "rhQOQ2whNm5C"
      },
      "source": [
        "# Graph Dependencies \r\n"
      ]
    },
    {
      "cell_type": "markdown",
      "metadata": {
        "id": "BnKu1o5uU8GV"
      },
      "source": [
        "\r\n",
        "<img src=\"https://drive.google.com/uc?export=view&id=149jAbjHU9BWt_W5pRYqn0bQbLFVz-w8y\" width=\"300\" align=\"right\"> \r\n",
        "\r\n",
        "- Consider a graph as shown to the right:\r\n",
        "    1. if a updates, then b updates, then d updates\r\n",
        "    1. if b updates, then d updates\r\n",
        "    1. if c updates, then d updates \r\n",
        "    1. if d updates, nothin happens \r\n",
        "\r\n",
        "## More Implementational Details\r\n",
        "\r\n",
        "- Note a few important features in regards to the implementation:\r\n",
        "  - If a node variable is None, graph traversal stemming from that node is stopped\r\n",
        "    - Consider case 1 as an example:\r\n",
        "      - If b is None and a is updated, then d does not get updated because b stops the traversal\r\n",
        "      - Also note that when a variable is set to some initial value, there is no dependency graph traversal stemming from that node\r\n",
        "  - Whenever upstream variables \"update\" they are actually set to None\r\n",
        "    - This reduces memory load and uneccessary computation when not needed\r\n",
        "    - These variables are computated only when called\r\n",
        "\r\n",
        "\r\n"
      ]
    },
    {
      "cell_type": "markdown",
      "metadata": {
        "id": "XgzAEUrJN_zs"
      },
      "source": [
        "## Examples \r\n",
        "\r\n",
        "- An example use case is shown below: \r\n"
      ]
    },
    {
      "cell_type": "code",
      "metadata": {
        "id": "ldQ3GRKSjp30"
      },
      "source": [
        "class GraphDemo:\r\n",
        "  @JTProperty(setter = \"Default\")\r\n",
        "  def a(self):\r\n",
        "    return 'a'\r\n",
        "\r\n",
        "  @JTProperty(setter = \"Default\", deps = 'a')\r\n",
        "  def b(self):\r\n",
        "    return self.a + '->b'\r\n",
        "  \r\n",
        "  @JTProperty(setter = \"Default\")\r\n",
        "  def c(self):\r\n",
        "    return 'c'\r\n",
        "\r\n",
        "  @JTProperty(setter = \"Default\", deps = ['c', 'b'])\r\n",
        "  def d(self):\r\n",
        "    return self.b + '->d' + ' and ' + self.c + '->d'"
      ],
      "execution_count": 23,
      "outputs": []
    },
    {
      "cell_type": "code",
      "metadata": {
        "colab": {
          "base_uri": "https://localhost:8080/"
        },
        "id": "UUxMr0kElobH",
        "outputId": "b7c39db8-8036-4bf4-8205-ffd5e3df960c"
      },
      "source": [
        "if __name__ == '__main__':\r\n",
        "  graph_demo = GraphDemo()\r\n",
        "  print_assert(graph_demo.d, 'a->b->d and c->d')\r\n",
        "  graph_demo.a = 'A'\r\n",
        "  print_assert(graph_demo.d, 'A->b->d and c->d')\r\n",
        "  JTProperty.cls_name2graph[type(graph_demo).__name__].disp()\r\n",
        "  #_a points to {'_b'}\r\n",
        "  #_b points to {'_d'}\r\n",
        "  #_c points to {'_d'}\r\n",
        "  #_d points to set()"
      ],
      "execution_count": 24,
      "outputs": [
        {
          "output_type": "stream",
          "text": [
            "a->b->d and c->d\n",
            "A->b->d and c->d\n",
            "_a points to {'_b'}\n",
            "_b points to {'_d'}\n",
            "_c points to {'_d'}\n",
            "_d points to set()\n"
          ],
          "name": "stdout"
        }
      ]
    },
    {
      "cell_type": "code",
      "metadata": {
        "colab": {
          "base_uri": "https://localhost:8080/"
        },
        "id": "w6D-ULY1-y4b",
        "outputId": "1cb39aa6-b132-4f28-b449-42f70135a69d"
      },
      "source": [
        "if __name__ == '__main__':\r\n",
        "  graph_demo = GraphDemo()\r\n",
        "  graph_demo.d = 'a->b->d and c->d'\r\n",
        "  graph_demo.a = 'A'\r\n",
        "  print_assert(graph_demo._d, 'a->b->d and c->d')\r\n",
        "  print_assert(graph_demo.d, 'a->b->d and c->d')\r\n",
        "  JTProperty.cls_name2graph[type(graph_demo).__name__].disp()\r\n",
        "  #displaying graph\r\n",
        "  #_a points to {'_b'}\r\n",
        "  #_b points to {'_d'}\r\n",
        "  #_c points to {'_d'}\r\n",
        "  #_d points to set()"
      ],
      "execution_count": 25,
      "outputs": [
        {
          "output_type": "stream",
          "text": [
            "a->b->d and c->d\n",
            "a->b->d and c->d\n",
            "_a points to {'_b'}\n",
            "_b points to {'_d'}\n",
            "_c points to {'_d'}\n",
            "_d points to set()\n"
          ],
          "name": "stdout"
        }
      ]
    },
    {
      "cell_type": "markdown",
      "metadata": {
        "id": "NOrY_8jfabuA"
      },
      "source": [
        "## Circular Graph Dependencies\r\n",
        "<img src=\"https://drive.google.com/uc?export=view&id=1U1QLwQMqZxv77M0GU1UAMNt4kYO4JNqO\" width=\"300\" align = \"right\"> \r\n",
        "- Consider the graph to the right:\r\n",
        "  1. If A updates, B updates, then C and D\r\n",
        "  1. If B updates, A updates, then C and D\r\n",
        "  1. If C updates, D updates, then A and B\r\n",
        "  1. If D updates, A updates, then B and C\r\n",
        "- Circular Graph Dependencies are like normal dependencies, however there can be specific problems when using them such as in situations involving infinite recursive calls, for example:\r\n",
        "  - Say that self.c is set to some value ___c___\r\n",
        "  - When self.b is called, it calls:\r\n",
        "    - self.a, which calls\r\n",
        "      - self.b and self.d\r\n",
        "        - self.d calls self.c which returns ___c___\r\n",
        "        - self.b calls self.a\r\n",
        "  - We can see there is a recursive problem here as self.a calls self.b and vice versa since these values have not been preset to some initial value, however there is no problem with self.d because it depends only on self.c which is set to ___c___\r\n",
        "  - Now, consider self.a set to some value ___a___\r\n",
        "    - When self.d is called, it calls\r\n",
        "      - self.c which calls\r\n",
        "        - self.b which calls\r\n",
        "          - self.a which returns ___a___\r\n",
        "    - Here, the value of self.d evaluates to some value, hence there are no problems\r\n",
        "\r\n",
        "\r\n",
        "\r\n",
        "\r\n"
      ]
    },
    {
      "cell_type": "code",
      "metadata": {
        "id": "HprnYhX-AFWY"
      },
      "source": [
        "class GraphDemo2:\r\n",
        "  @JTProperty(setter = \"Default\", deps = ['b', 'd'])\r\n",
        "  def a(self):\r\n",
        "    return self.b + '->a and ' + self.d + '->a'\r\n",
        "\r\n",
        "  @JTProperty(setter = \"Default\", deps = 'a')\r\n",
        "  def b(self):\r\n",
        "    return self.a + '->b'\r\n",
        "  \r\n",
        "  @JTProperty(setter = \"Default\", deps = 'b')\r\n",
        "  def c(self):\r\n",
        "    return self.b + '->c'\r\n",
        "\r\n",
        "  @JTProperty(setter = \"Default\", deps = ['c'])\r\n",
        "  def d(self):\r\n",
        "    return self.c + '->d'"
      ],
      "execution_count": 26,
      "outputs": []
    },
    {
      "cell_type": "code",
      "metadata": {
        "colab": {
          "base_uri": "https://localhost:8080/"
        },
        "id": "AM0x_IxaBX_K",
        "outputId": "a589bd7b-dcd9-4b8e-f8ca-6b9917e269cf"
      },
      "source": [
        "if __name__ == '__main__':\r\n",
        "  graph_demo = GraphDemo2()\r\n",
        "  JTProperty.cls_name2graph[type(graph_demo).__name__].disp()\r\n",
        "  #displaying graph\r\n",
        "  #_b points to {'_c', '_a'}\r\n",
        "  #_a points to {'_b'}\r\n",
        "  #_c points to {'_d'}\r\n",
        "  #_d points to {'_a'}\r\n",
        "\r\n",
        "  # tests if setter for .b resets ._a accidentally\r\n",
        "  graph_demo = GraphDemo2()\r\n",
        "  graph_demo.a = 'a'\r\n",
        "  print_assert(graph_demo.a, 'a')\r\n",
        "  print_assert(graph_demo.b, 'a->b')\r\n",
        "  print_assert(graph_demo._a, 'a')\r\n",
        "  \r\n",
        "  graph_demo = GraphDemo2()\r\n",
        "  print(\"graph_demo.a = 'a':\")\r\n",
        "  graph_demo.a = 'a'\r\n",
        "  print_assert(graph_demo.b, 'a->b')\r\n",
        "  print_assert(graph_demo.c, 'a->b->c')\r\n",
        "  print_assert(graph_demo.d, 'a->b->c->d')\r\n",
        "  \r\n",
        "  graph_demo = GraphDemo2()\r\n",
        "  print(\"graph_demo.b = 'b':\")\r\n",
        "  graph_demo.b = 'b'\r\n",
        "  print_assert(graph_demo.d, 'b->c->d')\r\n",
        "  print_assert(graph_demo._b, 'b')\r\n",
        "  print_assert(graph_demo.a, 'b->a and b->c->d->a')\r\n",
        "  print_assert(graph_demo.c, 'b->c')\r\n",
        "  \r\n",
        "  # Causes Recursion problems (intentional) <- a and b must be preset since they are dependent on each other\r\n",
        "  #graph_demo = GraphDemo2()\r\n",
        "  #print(\"graph_demo.c = 'c':\")\r\n",
        "  #graph_demo.c = 'c'\r\n",
        "  #print(graph_demo.a)\r\n",
        "  #print(graph_demo.b)\r\n",
        "  #print(graph_demo.d)\r\n",
        "  \r\n",
        "  # Causes Recursion problems (intentional) <- a and b must be preset since they are dependent on each other\r\n",
        "  #graph_demo = GraphDemo2()\r\n",
        "  #graph_demo.d = 'd'\r\n",
        "  #print(graph_demo.a)\r\n",
        "  #print(graph_demo.b)\r\n",
        "  #print(graph_demo.c)"
      ],
      "execution_count": 27,
      "outputs": [
        {
          "output_type": "stream",
          "text": [
            "_b points to {'_a', '_c'}\n",
            "_d points to {'_a'}\n",
            "_a points to {'_b'}\n",
            "_c points to {'_d'}\n",
            "a\n",
            "a->b\n",
            "a\n",
            "graph_demo.a = 'a':\n",
            "a->b\n",
            "a->b->c\n",
            "a->b->c->d\n",
            "graph_demo.b = 'b':\n",
            "b->c->d\n",
            "b\n",
            "b->a and b->c->d->a\n",
            "b->c\n"
          ],
          "name": "stdout"
        }
      ]
    },
    {
      "cell_type": "markdown",
      "metadata": {
        "id": "gC2e5aPB9ddF"
      },
      "source": [
        "## Hierarchical Graph Dependencies\r\n",
        "- There is also support for graphs that use inherited methods that are decorated with JTProperty\r\n",
        "  - (Note that the child class must have at least one JTProperty for this to work)\r\n",
        "- The search for dependencies follow Python's 'mro' (method resolution order)"
      ]
    },
    {
      "cell_type": "code",
      "metadata": {
        "id": "52i0NNKk-AAn"
      },
      "source": [
        "class ParentGraphDemo:\r\n",
        "  @JTProperty(setter = \"Default\")\r\n",
        "  def a(self):\r\n",
        "    return 'a'\r\n",
        "\r\n",
        "class ChildGraphDemo(ParentGraphDemo):\r\n",
        "  @JTProperty(setter = \"Default\", deps = 'a')\r\n",
        "  def b(self):\r\n",
        "    return self.a + '->b'\r\n",
        "  \r\n",
        "  @JTProperty(setter = \"Default\")\r\n",
        "  def c(self):\r\n",
        "    return 'c'\r\n",
        "\r\n",
        "  @JTProperty(setter = \"Default\", deps = ['c', 'b'])\r\n",
        "  def d(self):\r\n",
        "    return self.b + '->d' + ' and ' + self.c + '->d'"
      ],
      "execution_count": 28,
      "outputs": []
    },
    {
      "cell_type": "code",
      "metadata": {
        "colab": {
          "base_uri": "https://localhost:8080/"
        },
        "id": "0-mfEAOO-EUY",
        "outputId": "23b093f0-fefd-4a68-8fa1-3b7c9a896e15"
      },
      "source": [
        "if __name__ == '__main__':\r\n",
        "  graph_demo = ChildGraphDemo()\r\n",
        "  print_assert(graph_demo.d, 'a->b->d and c->d')\r\n",
        "  graph_demo.a = 'A'\r\n",
        "  print_assert(graph_demo.d, 'A->b->d and c->d')\r\n",
        "  JTProperty.cls_name2graph_sys[type(graph_demo).__qualname__].disp()\r\n",
        "  #for cls: ChildGraphDemo\r\n",
        "  #_b points to {'_d'}\r\n",
        "  #_c points to {'_d'}\r\n",
        "  #_d points to set()\r\n",
        "  #for cls: ParentGraphDemo\r\n",
        "  #_a points to {'_b'}"
      ],
      "execution_count": 29,
      "outputs": [
        {
          "output_type": "stream",
          "text": [
            "a->b->d and c->d\n",
            "A->b->d and c->d\n",
            "for cls: ChildGraphDemo\n",
            "_b points to {'_d'}\n",
            "_c points to {'_d'}\n",
            "_d points to set()\n",
            "for cls: ParentGraphDemo\n",
            "_a points to {'_b'}\n"
          ],
          "name": "stdout"
        }
      ]
    },
    {
      "cell_type": "code",
      "metadata": {
        "colab": {
          "base_uri": "https://localhost:8080/"
        },
        "id": "tC3OGSO0ZGH4",
        "outputId": "5eff2a0f-118e-42a7-9a11-fb7ca6b7999a"
      },
      "source": [
        "if __name__ == '__main__':\r\n",
        "  graph_demo = ChildGraphDemo()\r\n",
        "  graph_demo.d = 'a->b->d and c->d'\r\n",
        "  graph_demo.a = 'A'\r\n",
        "  print_assert(graph_demo._d, 'a->b->d and c->d')\r\n",
        "  print_assert(graph_demo.d, 'a->b->d and c->d')\r\n",
        "  JTProperty.cls_name2graph_sys[type(graph_demo).__qualname__].disp()\r\n",
        "  #for cls: ChildGraphDemo\r\n",
        "  #_b points to {'_d'}\r\n",
        "  #_c points to {'_d'}\r\n",
        "  #_d points to set()\r\n",
        "  #for cls: ParentGraphDemo\r\n",
        "  #_a points to {'_b'}"
      ],
      "execution_count": 30,
      "outputs": [
        {
          "output_type": "stream",
          "text": [
            "a->b->d and c->d\n",
            "a->b->d and c->d\n",
            "for cls: ChildGraphDemo\n",
            "_b points to {'_d'}\n",
            "_c points to {'_d'}\n",
            "_d points to set()\n",
            "for cls: ParentGraphDemo\n",
            "_a points to {'_b'}\n"
          ],
          "name": "stdout"
        }
      ]
    },
    {
      "cell_type": "markdown",
      "metadata": {
        "id": "ReFN-_CRiw4D"
      },
      "source": [
        "### Deep Inheritence\r\n",
        "- There is also support for deep inheritence and other kinds of inheritence"
      ]
    },
    {
      "cell_type": "code",
      "metadata": {
        "id": "ooOQhDRei1FG"
      },
      "source": [
        "class ParentAGraphDemo:\r\n",
        "  @JTProperty(setter = \"Default\")\r\n",
        "  def a(self):\r\n",
        "    return 'a'\r\n",
        "\r\n",
        "class ParentBGraphDemo(ParentAGraphDemo):\r\n",
        "  @JTProperty(setter = \"Default\", deps = 'a')\r\n",
        "  def b(self):\r\n",
        "    return self.a + '->b'\r\n",
        "\r\n",
        "class ParentCGraphDemo(ParentBGraphDemo):\r\n",
        "  @JTProperty(setter = \"Default\")\r\n",
        "  def c(self):\r\n",
        "    return 'c'\r\n",
        "\r\n",
        "class DGraphDemo(ParentCGraphDemo):\r\n",
        "  @JTProperty(setter = \"Default\", deps = ['c', 'b'])\r\n",
        "  def d(self):\r\n",
        "    return self.b + '->d' + ' and ' + self.c + '->d'"
      ],
      "execution_count": 31,
      "outputs": []
    },
    {
      "cell_type": "code",
      "metadata": {
        "colab": {
          "base_uri": "https://localhost:8080/"
        },
        "id": "BOpTcKHRjKU4",
        "outputId": "ad33b406-4ee9-4ecb-b8f6-e570492340d0"
      },
      "source": [
        "if __name__ == '__main__':\r\n",
        "  graph_demo = DGraphDemo()\r\n",
        "  print_assert(graph_demo.d, 'a->b->d and c->d')\r\n",
        "  graph_demo.a = 'A'\r\n",
        "  print_assert(graph_demo.d, 'A->b->d and c->d')\r\n",
        "  JTProperty.cls_name2graph_sys[type(graph_demo).__qualname__].disp()\r\n",
        "  #for cls: DGraphDemo\r\n",
        "  #_d points to set()\r\n",
        "  #for cls: ParentCGraphDemo\r\n",
        "  #_c points to {'_d'}\r\n",
        "  #for cls: ParentBGraphDemo\r\n",
        "  #_b points to {'_d'}\r\n",
        "  #for cls: ParentAGraphDemo\r\n",
        "  #_a points to {'_b'}"
      ],
      "execution_count": 32,
      "outputs": [
        {
          "output_type": "stream",
          "text": [
            "a->b->d and c->d\n",
            "A->b->d and c->d\n",
            "for cls: DGraphDemo\n",
            "_d points to set()\n",
            "for cls: ParentCGraphDemo\n",
            "_c points to {'_d'}\n",
            "for cls: ParentBGraphDemo\n",
            "_b points to {'_d'}\n",
            "for cls: ParentAGraphDemo\n",
            "_a points to {'_b'}\n"
          ],
          "name": "stdout"
        }
      ]
    },
    {
      "cell_type": "code",
      "metadata": {
        "colab": {
          "base_uri": "https://localhost:8080/"
        },
        "id": "3jXL2OBojKU5",
        "outputId": "137f76a2-c668-48ed-e9d7-451b8a01ac6c"
      },
      "source": [
        "if __name__ == '__main__':\r\n",
        "  graph_demo = DGraphDemo()\r\n",
        "  graph_demo.d = 'a->b->d and c->d'\r\n",
        "  graph_demo.a = 'A'\r\n",
        "  print_assert(graph_demo._d, 'a->b->d and c->d')\r\n",
        "  print_assert(graph_demo.d, 'a->b->d and c->d')\r\n",
        "  JTProperty.cls_name2graph_sys[type(graph_demo).__qualname__].disp()\r\n",
        "  #for cls: DGraphDemo\r\n",
        "  #_d points to set()\r\n",
        "  #for cls: ParentCGraphDemo\r\n",
        "  #_c points to {'_d'}\r\n",
        "  #for cls: ParentBGraphDemo\r\n",
        "  #_b points to {'_d'}\r\n",
        "  #for cls: ParentAGraphDemo\r\n",
        "  #_a points to {'_b'}"
      ],
      "execution_count": 33,
      "outputs": [
        {
          "output_type": "stream",
          "text": [
            "a->b->d and c->d\n",
            "a->b->d and c->d\n",
            "for cls: DGraphDemo\n",
            "_d points to set()\n",
            "for cls: ParentCGraphDemo\n",
            "_c points to {'_d'}\n",
            "for cls: ParentBGraphDemo\n",
            "_b points to {'_d'}\n",
            "for cls: ParentAGraphDemo\n",
            "_a points to {'_b'}\n"
          ],
          "name": "stdout"
        }
      ]
    },
    {
      "cell_type": "markdown",
      "metadata": {
        "id": "zfiRg6eJm5wZ"
      },
      "source": [
        "# Edge Test Cases\r\n",
        "- This section contains extra edge test cases from bug reports etc"
      ]
    },
    {
      "cell_type": "markdown",
      "metadata": {
        "id": "86qqrmJj8Ytg"
      },
      "source": [
        "## Inheritence"
      ]
    },
    {
      "cell_type": "code",
      "metadata": {
        "id": "jP5Jv3iY9LeT"
      },
      "source": [
        "class Branch1ADemo:\r\n",
        "  @JTProperty(setter = \"Default\")\r\n",
        "  def a(self):\r\n",
        "    return 'a'\r\n",
        "\r\n",
        "class Branch1BDemo(Branch1ADemo):\r\n",
        "  @JTProperty(setter = \"Default\", deps = 'a')\r\n",
        "  def b(self):\r\n",
        "    return self.a + '->b'\r\n",
        "\r\n",
        "class Branch2CDemo:\r\n",
        "  @JTProperty(setter = \"Default\")\r\n",
        "  def c(self):\r\n",
        "    return 'c'\r\n",
        "\r\n",
        "class JoinedDDemo(Branch1BDemo, Branch2CDemo):\r\n",
        "  @JTProperty(setter = \"Default\", deps = ['c', 'b'])\r\n",
        "  def d(self):\r\n",
        "    return self.b + '->d' + ' and ' + self.c + '->d'"
      ],
      "execution_count": 34,
      "outputs": []
    },
    {
      "cell_type": "code",
      "metadata": {
        "colab": {
          "base_uri": "https://localhost:8080/"
        },
        "id": "V7eWbFr29-el",
        "outputId": "13216b3c-f7e7-4d65-ecd5-6ad13c824103"
      },
      "source": [
        "if __name__ == '__main__':\r\n",
        "  graph_demo = JoinedDDemo()\r\n",
        "  print_assert(graph_demo.d, 'a->b->d and c->d')\r\n",
        "  graph_demo.a = 'A'\r\n",
        "  print_assert(graph_demo.d, 'A->b->d and c->d')\r\n",
        "  JTProperty.cls_name2graph_sys[type(graph_demo).__qualname__].disp()\r\n",
        "  #for cls: JoinedDDemo\r\n",
        "  #_d points to set()\r\n",
        "  #for cls: Branch1BDemo\r\n",
        "  #_b points to {'_d'}\r\n",
        "  #for cls: Branch1ADemo\r\n",
        "  #_a points to {'_b'}\r\n",
        "  #for cls: Branch2CDemo\r\n",
        "  #_c points to {'_d'}}"
      ],
      "execution_count": 35,
      "outputs": [
        {
          "output_type": "stream",
          "text": [
            "a->b->d and c->d\n",
            "A->b->d and c->d\n",
            "for cls: JoinedDDemo\n",
            "_d points to set()\n",
            "for cls: Branch1BDemo\n",
            "_b points to {'_d'}\n",
            "for cls: Branch1ADemo\n",
            "_a points to {'_b'}\n",
            "for cls: Branch2CDemo\n",
            "_c points to {'_d'}\n"
          ],
          "name": "stdout"
        }
      ]
    },
    {
      "cell_type": "code",
      "metadata": {
        "colab": {
          "base_uri": "https://localhost:8080/"
        },
        "id": "wVTigh-s9-fG",
        "outputId": "e1bc2a40-8105-4d3a-8e74-ec764b75857d"
      },
      "source": [
        "if __name__ == '__main__':\r\n",
        "  graph_demo = JoinedDDemo()\r\n",
        "  graph_demo.d = 'a->b->d and c->d'\r\n",
        "  graph_demo.a = 'A'\r\n",
        "  print_assert(graph_demo._d, 'a->b->d and c->d')\r\n",
        "  print_assert(graph_demo.d, 'a->b->d and c->d')\r\n",
        "  JTProperty.cls_name2graph_sys[type(graph_demo).__qualname__].disp()\r\n",
        "  #for cls: JoinedDDemo\r\n",
        "  #_d points to set()\r\n",
        "  #for cls: Branch1BDemo\r\n",
        "  #_b points to {'_d'}\r\n",
        "  #for cls: Branch1ADemo\r\n",
        "  #_a points to {'_b'}\r\n",
        "  #for cls: Branch2CDemo\r\n",
        "  #_c points to {'_d'}}"
      ],
      "execution_count": 36,
      "outputs": [
        {
          "output_type": "stream",
          "text": [
            "a->b->d and c->d\n",
            "a->b->d and c->d\n",
            "for cls: JoinedDDemo\n",
            "_d points to set()\n",
            "for cls: Branch1BDemo\n",
            "_b points to {'_d'}\n",
            "for cls: Branch1ADemo\n",
            "_a points to {'_b'}\n",
            "for cls: Branch2CDemo\n",
            "_c points to {'_d'}\n"
          ],
          "name": "stdout"
        }
      ]
    },
    {
      "cell_type": "markdown",
      "metadata": {
        "id": "jk5H1YZpnFC5"
      },
      "source": [
        "- Parent classes with no JTProperty declarations"
      ]
    },
    {
      "cell_type": "code",
      "metadata": {
        "id": "D9LIHjxKm91g"
      },
      "source": [
        "class ParentWithJT:\r\n",
        "  @JTProperty(setter = \"Default\")\r\n",
        "  def a(self):\r\n",
        "    return 'a'\r\n",
        "\r\n",
        "  @JTProperty(setter = \"Default\", deps = 'a')\r\n",
        "  def b(self):\r\n",
        "    return self.a + '->b'\r\n",
        "\r\n",
        "class ParentNoJT(ParentWithJT):\r\n",
        "  def randomMethodHere(self):\r\n",
        "    pass\r\n",
        "\r\n",
        "class ChildWithJT(ParentNoJT):\r\n",
        "  @JTProperty(setter = \"Default\")\r\n",
        "  def c(self):\r\n",
        "    return 'c'\r\n",
        "\r\n",
        "  @JTProperty(setter = \"Default\", deps = ['c', 'b'])\r\n",
        "  def d(self):\r\n",
        "    return self.b + '->d' + ' and ' + self.c + '->d'\r\n",
        "\r\n"
      ],
      "execution_count": 37,
      "outputs": []
    },
    {
      "cell_type": "code",
      "metadata": {
        "colab": {
          "base_uri": "https://localhost:8080/"
        },
        "id": "tw-UcfDu_PdJ",
        "outputId": "f84a54fc-7e3c-4cf2-987d-e1006f3380c4"
      },
      "source": [
        "if __name__ == '__main__':\r\n",
        "  graph_demo = ChildWithJT()\r\n",
        "  print_assert(graph_demo.d, 'a->b->d and c->d')\r\n",
        "  graph_demo.a = 'A'\r\n",
        "  print_assert(graph_demo.d, 'A->b->d and c->d')\r\n",
        "  JTProperty.cls_name2graph_sys[type(graph_demo).__qualname__].disp()\r\n",
        "  #for cls: ChildWithJT\r\n",
        "  #_c points to {'_d'}\r\n",
        "  #_d points to set()\r\n",
        "  #for cls: ParentWithJT\r\n",
        "  #_a points to {'_b'}\r\n",
        "  #_b points to {'_d'}"
      ],
      "execution_count": 38,
      "outputs": [
        {
          "output_type": "stream",
          "text": [
            "a->b->d and c->d\n",
            "A->b->d and c->d\n",
            "for cls: ChildWithJT\n",
            "_c points to {'_d'}\n",
            "_d points to set()\n",
            "for cls: ParentWithJT\n",
            "_a points to {'_b'}\n",
            "_b points to {'_d'}\n"
          ],
          "name": "stdout"
        }
      ]
    },
    {
      "cell_type": "code",
      "metadata": {
        "colab": {
          "base_uri": "https://localhost:8080/"
        },
        "id": "jjAxSvOB_PdL",
        "outputId": "447bbb27-a251-4dfe-c5bc-22a52044ea8e"
      },
      "source": [
        "if __name__ == '__main__':\r\n",
        "  graph_demo = ChildWithJT()\r\n",
        "  graph_demo.d = 'a->b->d and c->d'\r\n",
        "  graph_demo.a = 'A'\r\n",
        "  print_assert(graph_demo._d, 'a->b->d and c->d')\r\n",
        "  print_assert(graph_demo.d, 'a->b->d and c->d')\r\n",
        "  JTProperty.cls_name2graph_sys[type(graph_demo).__qualname__].disp()\r\n",
        "  #for cls: ChildWithJT\r\n",
        "  #_c points to {'_d'}\r\n",
        "  #_d points to set()\r\n",
        "  #for cls: ParentWithJT\r\n",
        "  #_a points to {'_b'}\r\n",
        "  #_b points to {'_d'}"
      ],
      "execution_count": 39,
      "outputs": [
        {
          "output_type": "stream",
          "text": [
            "a->b->d and c->d\n",
            "a->b->d and c->d\n",
            "for cls: ChildWithJT\n",
            "_c points to {'_d'}\n",
            "_d points to set()\n",
            "for cls: ParentWithJT\n",
            "_a points to {'_b'}\n",
            "_b points to {'_d'}\n"
          ],
          "name": "stdout"
        }
      ]
    },
    {
      "cell_type": "markdown",
      "metadata": {
        "id": "OTDNl8wxnlDZ"
      },
      "source": [
        "- Nested Classes\r\n",
        "  - Classes within classes"
      ]
    },
    {
      "cell_type": "code",
      "metadata": {
        "id": "TV9dbnAIn0SC"
      },
      "source": [
        "class OuterClass:\r\n",
        "  class InnerParentClass:\r\n",
        "    @JTProperty(setter = \"Default\")\r\n",
        "    def a(self):\r\n",
        "      return 'a'\r\n",
        "\r\n",
        "  class InnerChildClass(InnerParentClass):\r\n",
        "    @JTProperty(setter = \"Default\", deps = 'a')\r\n",
        "    def b(self):\r\n",
        "      return self.a + '->b'\r\n",
        "    \r\n",
        "    @JTProperty(setter = \"Default\")\r\n",
        "    def c(self):\r\n",
        "      return 'c'\r\n",
        "  \r\n",
        "    @JTProperty(setter = \"Default\", deps = ['c', 'b'])\r\n",
        "    def d(self):\r\n",
        "      return self.b + '->d' + ' and ' + self.c + '->d'\r\n",
        "\r\n"
      ],
      "execution_count": 40,
      "outputs": []
    },
    {
      "cell_type": "code",
      "metadata": {
        "colab": {
          "base_uri": "https://localhost:8080/"
        },
        "id": "KgY9pcGtJYF0",
        "outputId": "085f5460-feb4-46ad-e43f-302af8b3043a"
      },
      "source": [
        "if __name__ == '__main__':\r\n",
        "  graph_demo = OuterClass.InnerChildClass()\r\n",
        "  print_assert(graph_demo.d, 'a->b->d and c->d')\r\n",
        "  graph_demo.a = 'A'\r\n",
        "  print_assert(graph_demo.d, 'A->b->d and c->d')\r\n",
        "  JTProperty.cls_name2graph_sys[type(graph_demo).__qualname__].disp()\r\n",
        "  #for cls: OuterClass.InnerChildClass\r\n",
        "  #_b points to {'_d'}\r\n",
        "  #_c points to {'_d'}\r\n",
        "  #_d points to set()\r\n",
        "  #for cls: OuterClass.InnerParentClass\r\n",
        "  #_a points to {'_b'}"
      ],
      "execution_count": 41,
      "outputs": [
        {
          "output_type": "stream",
          "text": [
            "a->b->d and c->d\n",
            "A->b->d and c->d\n",
            "for cls: OuterClass.InnerChildClass\n",
            "_b points to {'_d'}\n",
            "_c points to {'_d'}\n",
            "_d points to set()\n",
            "for cls: OuterClass.InnerParentClass\n",
            "_a points to {'_b'}\n"
          ],
          "name": "stdout"
        }
      ]
    },
    {
      "cell_type": "code",
      "metadata": {
        "colab": {
          "base_uri": "https://localhost:8080/"
        },
        "id": "oT5ILdozJYF2",
        "outputId": "0f1b1843-f16c-4370-e212-54e5b4777bc7"
      },
      "source": [
        "if __name__ == '__main__':\r\n",
        "  graph_demo = OuterClass.InnerChildClass()\r\n",
        "  graph_demo.d = 'a->b->d and c->d'\r\n",
        "  graph_demo.a = 'A'\r\n",
        "  print_assert(graph_demo._d, 'a->b->d and c->d')\r\n",
        "  print_assert(graph_demo.d, 'a->b->d and c->d')\r\n",
        "  JTProperty.cls_name2graph_sys[type(graph_demo).__qualname__].disp()\r\n",
        "  #for cls: OuterClass.InnerChildClass\r\n",
        "  #_b points to {'_d'}\r\n",
        "  #_c points to {'_d'}\r\n",
        "  #_d points to set()\r\n",
        "  #for cls: OuterClass.InnerParentClass\r\n",
        "  #_a points to {'_b'}"
      ],
      "execution_count": 42,
      "outputs": [
        {
          "output_type": "stream",
          "text": [
            "a->b->d and c->d\n",
            "a->b->d and c->d\n",
            "for cls: OuterClass.InnerChildClass\n",
            "_b points to {'_d'}\n",
            "_c points to {'_d'}\n",
            "_d points to set()\n",
            "for cls: OuterClass.InnerParentClass\n",
            "_a points to {'_b'}\n"
          ],
          "name": "stdout"
        }
      ]
    },
    {
      "cell_type": "markdown",
      "metadata": {
        "id": "tBrf3sMWQvba"
      },
      "source": [
        "# Areas Of Improvement\n",
        "  - Functioning Heirarchal classes where child classes do not have JTProperty\n",
        "    - Will do\n",
        "  - Introduce setter detection to reduce uneccessary setter = True kwargs\n",
        "    - Might not do\n",
        "  - Dependency graphs + inheritence using graph clusters\n",
        "    - DONE\n",
        "  - Multithreaded cls detection for building dependency\n",
        "    - Done\n"
      ]
    },
    {
      "cell_type": "markdown",
      "metadata": {
        "id": "1xuNWA-Q9Y9N"
      },
      "source": [
        "# Bugs\r\n",
        "  - After running all code cells in the notebook, they cannot be rerun via ctrl+f9\r\n",
        "    - The reason is because all the cls variables are still defined so the multithreaded cls wait will not work\r\n",
        "    - Instead, restart runtime and run all cells"
      ]
    },
    {
      "cell_type": "markdown",
      "metadata": {
        "id": "2obcsQyzez5p"
      },
      "source": [
        "# Debates\r\n",
        "- Whenever a node is updated should all downstream dependencies be set to None?\r\n",
        "- Consider a graph that looks like this:\r\n",
        "  - a->b->c and c->a\r\n",
        "  - consider setting c = ___c___ and then calling a\r\n",
        "    - a depends on c, thus a is set to some value\r\n",
        "      - However the act of setting a causes c to reset to None as via the nature of the DFS graph traversal\r\n",
        "    - Therefore, essentially only one variable can exist at a time which doesn't make sense within a circular dependency setting\r\n"
      ]
    },
    {
      "cell_type": "code",
      "metadata": {
        "colab": {
          "base_uri": "https://localhost:8080/"
        },
        "id": "UGU0Jp0KOuzL",
        "outputId": "326c5559-405e-4e74-ea55-31045e4fa269"
      },
      "source": [
        "# checking for any residual threads lyin about\r\n",
        "if __name__ == \"__main__\":\r\n",
        "  print(threading.enumerate())\r\n",
        "  # should look something like this:\r\n",
        "  #[<_MainThread(MainThread, started 140206017951616)>, <Thread(Thread-2, started daemon 140205621974784)>, <Heartbeat(Thread-3, started daemon 140205613582080)>, <ParentPollerUnix(Thread-1, started daemon 140205549238016)>]\r\n"
      ],
      "execution_count": 43,
      "outputs": [
        {
          "output_type": "stream",
          "text": [
            "[<_MainThread(MainThread, started 139729479686016)>, <Thread(Thread-2, started daemon 139729083709184)>, <Heartbeat(Thread-3, started daemon 139729075316480)>, <ParentPollerUnix(Thread-1, started daemon 139729010972416)>]\n"
          ],
          "name": "stdout"
        }
      ]
    },
    {
      "cell_type": "code",
      "metadata": {
        "id": "utYfMmZekJpR"
      },
      "source": [
        ""
      ],
      "execution_count": 43,
      "outputs": []
    }
  ]
}