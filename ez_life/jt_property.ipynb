{
  "nbformat": 4,
  "nbformat_minor": 0,
  "metadata": {
    "colab": {
      "name": "jt_property.ipynb",
      "provenance": [],
      "authorship_tag": "ABX9TyPrtEdDs4Ar9u776W5P1TLD",
      "include_colab_link": true
    },
    "kernelspec": {
      "name": "python3",
      "display_name": "Python 3"
    }
  },
  "cells": [
    {
      "cell_type": "markdown",
      "metadata": {
        "id": "view-in-github",
        "colab_type": "text"
      },
      "source": [
        "<a href=\"https://colab.research.google.com/github/Josiah-tan/ez_life/blob/main/ez_life/jt_property.ipynb\" target=\"_parent\"><img src=\"https://colab.research.google.com/assets/colab-badge.svg\" alt=\"Open In Colab\"/></a>"
      ]
    },
    {
      "cell_type": "markdown",
      "metadata": {
        "id": "ArVB_L5-Ylkf"
      },
      "source": [
        "# Implementation JTProperty\n",
        "  - Uses EzProperty class which inherits from property\n",
        "    - Currently EzProperty changes the setter function such that the return value is the value set by the setter"
      ]
    },
    {
      "cell_type": "code",
      "metadata": {
        "id": "g6N9hwOSJCRF"
      },
      "source": [
        "class EzProperty(property):\n",
        "  def __init__(self, *args, **kwargs):\n",
        "    return super().__init__(*args, **kwargs)\n",
        "  \n",
        "  def setter_preprocess(self, _func):\n",
        "    \"\"\"\n",
        "    Sets return value of _func to self._func.__name__\n",
        "    \"\"\"\n",
        "    def wrapper(obj, val):\n",
        "      setattr(obj, f\"_{_func.__name__}\", _func(obj, val))\n",
        "    return wrapper\n",
        "\n",
        "  def setter(self, _func):\n",
        "    \"\"\"\n",
        "    calls setter_preprocess wrapper to alter behaviour of _func\n",
        "    \"\"\"\n",
        "    return super().setter(self.setter_preprocess(_func))"
      ],
      "execution_count": null,
      "outputs": []
    },
    {
      "cell_type": "code",
      "metadata": {
        "id": "yUaZV0l3N6X_"
      },
      "source": [
        "import functools\n",
        "class JTProperty:\n",
        "  def __init__(self, setter = False):\n",
        "    self.setter = setter\n",
        "  def __call__(self, _func):\n",
        "    public_name = _func.__name__\n",
        "    protected_name = f\"_{public_name}\"\n",
        "\n",
        "    @EzProperty\n",
        "    @functools.wraps(_func)\n",
        "    def wrapper(obj):\n",
        "      if protected_name not in dir(obj) or getattr(obj, protected_name) is None:\n",
        "        # if self._name is not available atm\n",
        "        if (not(self.setter)):\n",
        "          setattr(obj, protected_name, _func(obj)) \n",
        "        else:\n",
        "          # call setter method with the return value of the property function this effectively sets obj._name\n",
        "          setattr(obj, public_name, _func(obj)) \n",
        "      return getattr(obj, protected_name)\n",
        "    return wrapper"
      ],
      "execution_count": null,
      "outputs": []
    },
    {
      "cell_type": "markdown",
      "metadata": {
        "id": "W0vTZoBlZNiy"
      },
      "source": [
        "# Basic Property Demo\n",
        "- prop3 is dependent upon the values of prop2 and prop 1 as shown below"
      ]
    },
    {
      "cell_type": "code",
      "metadata": {
        "id": "m5S7LvCDVHxe"
      },
      "source": [
        "class PropDemo:\n",
        "  def __init__(self):\n",
        "    self._prop1 = None\n",
        "    self._prop2 = None\n",
        "    self._prop3 = None\n",
        "  \n",
        "  @property\n",
        "  def prop1(self):\n",
        "    if self._prop1 is None:\n",
        "      self._prop1 = self.get_prop1()\n",
        "    return self._prop1\n",
        "\n",
        "  @property\n",
        "  def prop2(self):\n",
        "    if self._prop2 is None:\n",
        "      self._prop2 = self.get_prop2()\n",
        "    return self._prop2\n",
        "\n",
        "  @property\n",
        "  def prop3(self):\n",
        "    if self._prop3 is None:\n",
        "      self._prop3 = self.get_prop3()\n",
        "    return self._prop3\n",
        "  \n",
        "  def get_prop1(self):\n",
        "    return 1\n",
        "  def get_prop2(self):\n",
        "    return self.prop1 + 1\n",
        "  def get_prop3(self):\n",
        "    return self.prop2 + 1\n",
        "  \n"
      ],
      "execution_count": null,
      "outputs": []
    },
    {
      "cell_type": "code",
      "metadata": {
        "id": "yX9oKePRXcJ-"
      },
      "source": [
        "if __name__ == '__main__':\n",
        "  prop_dem = PropDemo()\n",
        "  #print(prop_dem.prop3)"
      ],
      "execution_count": null,
      "outputs": []
    },
    {
      "cell_type": "markdown",
      "metadata": {
        "id": "d4qR1MYmZtmF"
      },
      "source": [
        "- The @JTProperty decorator uses less lines of code then the @property decorator, but achieves the same result"
      ]
    },
    {
      "cell_type": "code",
      "metadata": {
        "id": "rpW6e30EXXfv"
      },
      "source": [
        "class JTPropDemo:\n",
        "  def __init__(self):\n",
        "    pass\n",
        "  \n",
        "  @JTProperty()\n",
        "  def prop1(self):\n",
        "    return 1\n",
        "\n",
        "  @JTProperty()\n",
        "  def prop2(self):\n",
        "    return self.prop1 + 1\n",
        "\n",
        "  @JTProperty()\n",
        "  def prop3(self):\n",
        "    return self.prop2 + 1\n",
        "  "
      ],
      "execution_count": null,
      "outputs": []
    },
    {
      "cell_type": "code",
      "metadata": {
        "id": "IzcG0AH0hlVC"
      },
      "source": [
        "if __name__ == '__main__':\n",
        "  a_prop_dem = JTPropDemo()\n",
        "  assert a_prop_dem.prop3 == prop_dem.prop3\n"
      ],
      "execution_count": null,
      "outputs": []
    },
    {
      "cell_type": "markdown",
      "metadata": {
        "id": "yGv3pk4cZeYN"
      },
      "source": [
        "# Setter methods\n",
        "- Consider a class that uses getter and setter methods as shown below:"
      ]
    },
    {
      "cell_type": "code",
      "metadata": {
        "id": "jbqjkEopaeKU"
      },
      "source": [
        "class SetAndGet:\n",
        "  def __init__(self, r = 1):\n",
        "    # initialise the protected variable\n",
        "    self._radius = None\n",
        "\n",
        "    # calls the @radius.setter method\n",
        "    self.radius = r\n",
        "  @property\n",
        "  def radius(self):\n",
        "    if self._radius is None:\n",
        "      self.radius = 2\n",
        "    return self._radius\n",
        "  @radius.setter\n",
        "  def radius(self, r):\n",
        "    if r <= 0:\n",
        "      raise ValueError(\"radius should be greater than 0\")\n",
        "    self._radius = r"
      ],
      "execution_count": null,
      "outputs": []
    },
    {
      "cell_type": "markdown",
      "metadata": {
        "id": "GEuBsRFYdqoS"
      },
      "source": [
        "- In the test below, contextlib silences the ValueError that occurs with setting the radius to -5"
      ]
    },
    {
      "cell_type": "code",
      "metadata": {
        "id": "pWqFLWMbbq5O"
      },
      "source": [
        "if __name__ == '__main__':\n",
        "  import contextlib\n",
        "  setandget = SetAndGet()\n",
        "  #print(setandget.radius)\n",
        "  rad1 = setandget.radius\n",
        "\n",
        "  setandget.radius = 5\n",
        "  #print(setandget.radius)\n",
        "  rad2 = setandget.radius\n",
        "\n",
        "  setandget.radius = 3\n",
        "  #print(setandget.radius)\n",
        "  rad3 = setandget.radius\n",
        "\n",
        "  with contextlib.suppress(ValueError):\n",
        "    setandget.radius = -5\n",
        "  #print(setandget.radius)\n",
        "  rad4 = setandget.radius\n",
        "\n",
        "  # 1 5 3 3"
      ],
      "execution_count": null,
      "outputs": []
    },
    {
      "cell_type": "markdown",
      "metadata": {
        "id": "95UDzFNYd8lS"
      },
      "source": [
        "- JTProperty() and .setter reduce abstraction involving usage of hidden \"protected variables\"\n",
        "  - setter = True should be set when @radius.setter is used"
      ]
    },
    {
      "cell_type": "code",
      "metadata": {
        "id": "yh2VTbQsN6X_"
      },
      "source": [
        "class JTSetAndGet:\n",
        "  def __init__(self, r = 1):\n",
        "    self.radius = r\n",
        "  @JTProperty(setter = True)\n",
        "  def radius(self):\n",
        "    return 2\n",
        "\n",
        "  @radius.setter\n",
        "  def radius(self, r):\n",
        "    if r <= 0:\n",
        "      raise ValueError(\"radius should be greater than 0\")\n",
        "    return r\n"
      ],
      "execution_count": null,
      "outputs": []
    },
    {
      "cell_type": "code",
      "metadata": {
        "id": "5ULZHnGxN6X_"
      },
      "source": [
        "if __name__ == '__main__':\n",
        "  import contextlib\n",
        "  setandget = SetAndGet()\n",
        "  #print(setandget.radius)\n",
        "  alt_rad1 = setandget.radius\n",
        "  assert alt_rad1 == rad1\n",
        "\n",
        "  setandget.radius = 5\n",
        "  #print(setandget.radius)\n",
        "  alt_rad2 = setandget.radius\n",
        "  assert alt_rad2 == rad2\n",
        "\n",
        "  setandget.radius = 3\n",
        "  #print(setandget.radius)\n",
        "  alt_rad3 = setandget.radius\n",
        "  assert alt_rad3 == rad3\n",
        "\n",
        "  with contextlib.suppress(ValueError):\n",
        "    setandget.radius = -5\n",
        "  #print(setandget.radius)\n",
        "  alt_rad4 = setandget.radius\n",
        "  assert alt_rad4 == rad4\n",
        "  \n",
        "  # 1 5 3 3"
      ],
      "execution_count": null,
      "outputs": []
    },
    {
      "cell_type": "markdown",
      "metadata": {
        "id": "tBrf3sMWQvba"
      },
      "source": [
        "# Areas Of Improvement\n",
        "  - Introduce setter detection to reduce uneccessary setter = True kwargs\n",
        "  - Dependency graphs\n",
        "    - Consider a graph as shown below:\n",
        "      - if a changes, then b updates, then d updates\n",
        "      - if b changes, then d updates\n",
        "      - if c changes, then d updates\n",
        "      - if d changes, nothin happens bro\n"
      ]
    },
    {
      "cell_type": "markdown",
      "metadata": {
        "id": "GGPUfD6_Bfm6"
      },
      "source": [
        "![dep_graph_concept.PNG](data:image/png;base64,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)"
      ]
    },
    {
      "cell_type": "code",
      "metadata": {
        "id": "NOrY_8jfabuA"
      },
      "source": [
        ""
      ],
      "execution_count": null,
      "outputs": []
    },
    {
      "cell_type": "code",
      "metadata": {
        "id": "2obcsQyzez5p"
      },
      "source": [
        ""
      ],
      "execution_count": null,
      "outputs": []
    }
  ]
}