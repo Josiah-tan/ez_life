{
  "nbformat": 4,
  "nbformat_minor": 0,
  "metadata": {
    "colab": {
      "name": "jt_property.ipynb",
      "provenance": [],
      "collapsed_sections": [],
      "toc_visible": true,
      "authorship_tag": "ABX9TyN3DWc6DLS4JXwqsllHwmGE",
      "include_colab_link": true
    },
    "kernelspec": {
      "name": "python3",
      "display_name": "Python 3"
    }
  },
  "cells": [
    {
      "cell_type": "markdown",
      "metadata": {
        "id": "view-in-github",
        "colab_type": "text"
      },
      "source": [
        "<a href=\"https://colab.research.google.com/github/Josiah-tan/ez_life/blob/main/ez_life/jt_property.ipynb\" target=\"_parent\"><img src=\"https://colab.research.google.com/assets/colab-badge.svg\" alt=\"Open In Colab\"/></a>"
      ]
    },
    {
      "cell_type": "markdown",
      "metadata": {
        "id": "ArVB_L5-Ylkf"
      },
      "source": [
        "# JTProperty Full Implementation \n",
        "- Code below shows full implementation of the JTproperty class\n",
        "  - If curious, feel free to read thru the code\n",
        "  - However, this isn't needed when using the code\n"
      ]
    },
    {
      "cell_type": "markdown",
      "metadata": {
        "id": "5zt_KufWOrTf"
      },
      "source": [
        "## Importing Dependencies"
      ]
    },
    {
      "cell_type": "code",
      "metadata": {
        "id": "H88G-lH3tKab"
      },
      "source": [
        "import functools\r\n",
        "import sys\r\n",
        "import threading"
      ],
      "execution_count": 1,
      "outputs": []
    },
    {
      "cell_type": "markdown",
      "metadata": {
        "id": "UhUhn3naOvfy"
      },
      "source": [
        "## Graph Datastructure\r\n",
        "- Implementation for graph dependencies"
      ]
    },
    {
      "cell_type": "code",
      "metadata": {
        "id": "5sIPlqtznqtW"
      },
      "source": [
        "class Node:\r\n",
        "  def __init__(self, data):\r\n",
        "    self.data = data\r\n",
        "    self.was_visited = False\r\n",
        "    self._edges = set()\r\n",
        "\r\n",
        "  def addEdge(self, edges):\r\n",
        "    assert isinstance(edges, set)\r\n",
        "    self._edges.update(edges) \r\n",
        "\r\n",
        "\r\n",
        "class Graph:\r\n",
        "  def __init__(self, cls_name):\r\n",
        "    self.cls_name = cls_name\r\n",
        "    self.data2node = {}\r\n",
        "\r\n",
        "  def data2Node(self, data):\r\n",
        "    node = self.data2node.get(data, None)\r\n",
        "    if node is None:\r\n",
        "      node = Node(data)\r\n",
        "      self.data2node[data] = node\r\n",
        "    return node\r\n",
        "\r\n",
        "  def add(self, out, into):\r\n",
        "    out = out if isinstance(out, list) else {out}\r\n",
        "    into = into if isinstance(into, list) else {into}\r\n",
        "\r\n",
        "    outNodes = {self.data2Node(o) for o in out}\r\n",
        "    intoNodes = {self.data2Node(i) for i in into}\r\n",
        "\r\n",
        "    for outNode in outNodes:\r\n",
        "      outNode.addEdge(intoNodes)\r\n",
        "  \r\n",
        "  def disp(self):\r\n",
        "    print(\"displaying graph\")\r\n",
        "    for data, node in self.data2node.items():\r\n",
        "      print(f\"{data} points to {set(n.data for n in node._edges)}\")\r\n",
        "\r\n",
        "  \r\n",
        "  def resetDepDFS(self, obj, protected_name):\r\n",
        "    \"\"\"\r\n",
        "    Runs a DFS alrgorithm on the graph datastructure to reset all downstream dependencies to None\r\n",
        "    \"\"\"\r\n",
        "    node = self.data2Node(protected_name)\r\n",
        "\r\n",
        "    def recursiveReset(node):\r\n",
        "      if (not isinstance(node, Node)) or node.was_visited:\r\n",
        "        return\r\n",
        "      node.was_visited = True\r\n",
        "      if (node.data in dir(obj)) and getattr(obj, node.data) is not None: # added this here so that recursion stops when the attribute is already None such that downstream dependencies are not reset since they are assumed to be also None, or preset to some value \r\n",
        "        setattr(obj, node.data, None)\r\n",
        "        [recursiveReset(n) for n in node._edges]\r\n",
        "  \r\n",
        "    recursiveReset(node)\r\n",
        "\r\n",
        "    for n in self.data2node.values():\r\n",
        "      n.was_visited = False\r\n"
      ],
      "execution_count": 2,
      "outputs": []
    },
    {
      "cell_type": "markdown",
      "metadata": {
        "id": "mrnDDEsDAD8D"
      },
      "source": [
        "## DefaultSetter\r\n",
        "- DefaultSetter is a class that sets a default identity setter when setter = \"default\" is called via the JTProperty class"
      ]
    },
    {
      "cell_type": "code",
      "metadata": {
        "id": "bQ_NhGPKAVgS"
      },
      "source": [
        "class DefaultSetter:\r\n",
        "    def __init__(self, setter):\r\n",
        "      self.setter = setter\r\n",
        "    def __call__(self, _func):\r\n",
        "      if str(self.setter).lower() in \"default\":\r\n",
        "        _func = _func.setter(self.defaultSetter)\r\n",
        "      return _func\r\n",
        "    \r\n",
        "    @staticmethod\r\n",
        "    def defaultSetter(obj, var):\r\n",
        "      return var\r\n"
      ],
      "execution_count": 3,
      "outputs": []
    },
    {
      "cell_type": "markdown",
      "metadata": {
        "id": "hEOQydp5OwnV"
      },
      "source": [
        "## EzProperty\r\n",
        "  - EzProperty function returns an object that inherits from the property class\r\n",
        "    - Currently EzProperty changes the setter function such that the return value is the value set by the setter"
      ]
    },
    {
      "cell_type": "code",
      "metadata": {
        "id": "g6N9hwOSJCRF"
      },
      "source": [
        "def EzProperty(JTProperty_obj):\n",
        "  class ClsWrapper(property):\n",
        "    def __init__(self, *args, **kwargs):\n",
        "      return super().__init__(*args, **kwargs)\n",
        "    \n",
        "    def setter_preprocess(self, _func):\n",
        "      \"\"\"\n",
        "      Performs preprocessing on the self._func decorated by @func.setter\n",
        "        - resets all downstream graph dependencies\n",
        "        - sets return value of _func to protected name of _func\n",
        "      \"\"\"\n",
        "      def wrapper(obj, val):\n",
        "        #JTProperty_obj.firstBeforeS_Get()\n",
        "        JTProperty_obj.joinClsThreads()\n",
        "\n",
        "        JTProperty_obj.cls_name2graph[JTProperty_obj.cls_name].resetDepDFS(obj, JTProperty_obj.protected_name)\n",
        "        setattr(obj, JTProperty_obj.protected_name, _func(obj, val))\n",
        "        #print(getattr(obj, protected_name))\n",
        "      return wrapper\n",
        "  \n",
        "    def setter(self, _func):\n",
        "      \"\"\"\n",
        "      calls setter_preprocess wrapper to alter behaviour of _func\n",
        "      \"\"\"\n",
        "      return super().setter(self.setter_preprocess(_func))\n",
        "  return ClsWrapper"
      ],
      "execution_count": 4,
      "outputs": []
    },
    {
      "cell_type": "markdown",
      "metadata": {
        "id": "DnufyeP_PMu8"
      },
      "source": [
        "## JTProperty\r\n",
        "- The Main class decorator"
      ]
    },
    {
      "cell_type": "code",
      "metadata": {
        "id": "yUaZV0l3N6X_"
      },
      "source": [
        "\n",
        "class JTProperty:\n",
        "\n",
        "  # dicts for clsWasDeclared multithreading\n",
        "  cls_name2cls = {}\n",
        "  cls_name2thread = {}\n",
        "  cls_name2active_t = {} # stores currently active threads\n",
        "\n",
        "  # dict of class names (str) that have been decorated with JTProperty\n",
        "  cls_name2graph = {}\n",
        "  def __init__(self, setter = False, deps = None):\n",
        "    # Tri state \"setter\": True, Default, False\n",
        "    self.setter = setter\n",
        "    self.deps = self.preprocessDeps(deps)\n",
        "  \n",
        "  def preprocessDeps(self, deps):\n",
        "    \"\"\"\n",
        "    converts all deps to protected string variables\n",
        "    \"\"\"\n",
        "    if deps is None:\n",
        "      return None\n",
        "    elif not isinstance(deps, (list, set)):\n",
        "      deps = [deps]\n",
        "    #check if all dependencies are either a string (or a EzProperty instance <- not implemented)\n",
        "    assert all(isinstance(dep, (str)) for dep in deps)\n",
        "    return [f\"_{dep}\" for dep in deps]\n",
        "\n",
        "  def getVar(self, obj):\n",
        "    # if self._name is not available atm or it is set to None\n",
        "    if (self.protected_name not in dir(obj)) or (getattr(obj, self.protected_name) is None):\n",
        "      if self.setter == False:\n",
        "        setattr(obj, self.protected_name, self._func(obj)) \n",
        "      else:\n",
        "        # call setter method obj.name with the return value of the property function, this effectively sets obj._name\n",
        "        setattr(obj, self.public_name, self._func(obj)) \n",
        "    return getattr(obj, self.protected_name)\n",
        "\n",
        "  def createDepGraph(self):\n",
        "    cls_graph = self.cls_name2graph.get(self.cls_name, None)\n",
        "    if cls_graph is None:\n",
        "      self.cls_name2graph[self.cls_name] = Graph(self.cls_name)\n",
        "\n",
        "    if self.deps is not None:\n",
        "      self.cls_name2graph[self.cls_name].add(out = self.deps, into = self.protected_name)\n",
        "      #self.cls_name2graph[cls_name].disp()\n",
        "\n",
        "  def __call__(self, _func):\n",
        "    self._func = _func\n",
        "    self.public_name = _func.__name__\n",
        "    self.protected_name = f\"_{self.public_name}\"\n",
        "\n",
        "    self.cls_name = _func.__qualname__.rsplit('.', 1)[0]\n",
        "    #cls = inspect._findclass(_func) <- big annoying problem: can't get cls from _func within this __call__ method, cls is not a global variable yet\n",
        "\n",
        "    self.createDepGraph()\n",
        "\n",
        "    # the getter method here\n",
        "    @DefaultSetter(self.setter)\n",
        "    @EzProperty(self)\n",
        "    @functools.wraps(_func)\n",
        "    def wrapper(obj):\n",
        "      #might need something here to connect nodes with inherited classes\n",
        "      self.joinClsThreads()\n",
        "      #self.firstBeforeS_Get()\n",
        "      return self.getVar(obj)\n",
        "\n",
        "    # perform tasks after cls is declared (run this last to reduce busy waiting load)\n",
        "    self.clsWasDeclared()\n",
        "    return wrapper\n",
        "\n",
        "  def clsWasDeclared(self):\n",
        "    def cls_name2Cls():\n",
        "      # Need someone to help me make a better listener than this plz\n",
        "      while self.cls_name not in dir(sys.modules.get(self._func.__module__)):\n",
        "        pass\n",
        "\n",
        "      # essentially the same thing as in inspect.py -> _findclass() \n",
        "      cls = sys.modules.get(self._func.__module__)\n",
        "      for name in self.cls_name.split('.'):\n",
        "        cls = getattr(cls, name) \n",
        "\n",
        "      self.cls_name2cls[self.cls_name] = cls #getattr(sys.modules.get(self._func.__module__), self.cls_name)\n",
        "    \n",
        "    # we only run this block once for the first decorated method in the class\n",
        "    if self.cls_name2thread.get(self.cls_name, None) is None:\n",
        "      #NOTE! Might need to join pre-existing threads somewhere in the code, maybe\n",
        "      self.cls_name2thread[self.cls_name] = threading.Thread(target = cls_name2Cls)\n",
        "      self.cls_name2thread[self.cls_name].start()\n",
        "\n",
        "      self.cls_name2active_t[self.cls_name] = self.cls_name2thread[self.cls_name] # to denote that its running\n",
        "\n",
        "  def joinClsThreads(self):\n",
        "    while len(self.cls_name2active_t) != 0:\n",
        "      cls_name, active_t = self.cls_name2active_t.popitem()\n",
        "      active_t.join()\n",
        "\n",
        "    #for cls_name, thread in self.cls_name2thread.items():\n",
        "      #thread.join()\n",
        "    \"\"\"\n",
        "    thread = self.cls_name2thread.get(self.cls_name, None)\n",
        "    if thread is None:\n",
        "      pass\n",
        "    else:\n",
        "      thread.join()\n",
        "    \"\"\""
      ],
      "execution_count": 5,
      "outputs": []
    },
    {
      "cell_type": "markdown",
      "metadata": {
        "id": "UiYLfa03J9i7"
      },
      "source": [
        "## A Small Helper Function\r\n",
        "- Helps with debug testing"
      ]
    },
    {
      "cell_type": "code",
      "metadata": {
        "id": "aTnfParTJ9Fd"
      },
      "source": [
        "if __name__ == '__main__':\r\n",
        "  def print_assert(p, a = None):\r\n",
        "    print(p)\r\n",
        "    if a is not None:\r\n",
        "      assert p.__str__() == a"
      ],
      "execution_count": 6,
      "outputs": []
    },
    {
      "cell_type": "markdown",
      "metadata": {
        "id": "W0vTZoBlZNiy"
      },
      "source": [
        "# Basic Property Demo\n",
        "- prop3 is dependent upon the values of prop2 and prop 1 as shown below"
      ]
    },
    {
      "cell_type": "code",
      "metadata": {
        "id": "m5S7LvCDVHxe"
      },
      "source": [
        "class PropDemo:\n",
        "  def __init__(self):\n",
        "    self._prop1 = None\n",
        "    self._prop2 = None\n",
        "    self._prop3 = None\n",
        "  \n",
        "  @property\n",
        "  def prop1(self):\n",
        "    if self._prop1 is None:\n",
        "      self._prop1 = self.get_prop1()\n",
        "    return self._prop1\n",
        "\n",
        "  @property\n",
        "  def prop2(self):\n",
        "    if self._prop2 is None:\n",
        "      self._prop2 = self.get_prop2()\n",
        "    return self._prop2\n",
        "\n",
        "  @property\n",
        "  def prop3(self):\n",
        "    if self._prop3 is None:\n",
        "      self._prop3 = self.get_prop3()\n",
        "    return self._prop3\n",
        " \n",
        "  def get_prop1(self):\n",
        "    return 1\n",
        "  def get_prop2(self):\n",
        "    return self.prop1 + 1\n",
        "  def get_prop3(self):\n",
        "    return self.prop2 + 1\n",
        "  \n"
      ],
      "execution_count": 7,
      "outputs": []
    },
    {
      "cell_type": "code",
      "metadata": {
        "id": "yX9oKePRXcJ-",
        "colab": {
          "base_uri": "https://localhost:8080/"
        },
        "outputId": "cc8ac967-52e5-4bc7-9bce-01ae7824adbc"
      },
      "source": [
        "if __name__ == '__main__':\n",
        "  prop_dem = PropDemo()\n",
        "  print_assert(prop_dem.prop3, '3')"
      ],
      "execution_count": 8,
      "outputs": [
        {
          "output_type": "stream",
          "text": [
            "3\n"
          ],
          "name": "stdout"
        }
      ]
    },
    {
      "cell_type": "markdown",
      "metadata": {
        "id": "d4qR1MYmZtmF"
      },
      "source": [
        "- The @JTProperty decorator uses less lines of code then the @property decorator, but achieves the same result"
      ]
    },
    {
      "cell_type": "code",
      "metadata": {
        "id": "rpW6e30EXXfv"
      },
      "source": [
        "class JTPropDemo:\n",
        "  def __init__(self):\n",
        "    pass\n",
        "  \n",
        "  @JTProperty()\n",
        "  def prop1(self):\n",
        "    return 1\n",
        "\n",
        "  @JTProperty()\n",
        "  def prop2(self):\n",
        "    return self.prop1 + 1\n",
        "\n",
        "  @JTProperty()\n",
        "  def prop3(self):\n",
        "    return self.prop2 + 1\n",
        "  "
      ],
      "execution_count": 9,
      "outputs": []
    },
    {
      "cell_type": "code",
      "metadata": {
        "id": "IzcG0AH0hlVC",
        "colab": {
          "base_uri": "https://localhost:8080/"
        },
        "outputId": "60df5868-a06b-4bd4-c829-f96ed54569ff"
      },
      "source": [
        "if __name__ == '__main__':\n",
        "  prop_dem = JTPropDemo()\n",
        "  print_assert(prop_dem.prop3, '3')\n"
      ],
      "execution_count": 10,
      "outputs": [
        {
          "output_type": "stream",
          "text": [
            "3\n"
          ],
          "name": "stdout"
        }
      ]
    },
    {
      "cell_type": "markdown",
      "metadata": {
        "id": "yGv3pk4cZeYN"
      },
      "source": [
        "# Setter methods\n",
        "- Consider a class that uses getter and setter methods as shown below:"
      ]
    },
    {
      "cell_type": "code",
      "metadata": {
        "id": "jbqjkEopaeKU"
      },
      "source": [
        "class SetAndGet:\n",
        "  def __init__(self, r = 1):\n",
        "    # initialise the protected variable\n",
        "    self._radius = None\n",
        "\n",
        "    # calls the @radius.setter method\n",
        "    self.radius = r\n",
        "  @property\n",
        "  def radius(self):\n",
        "    if self._radius is None:\n",
        "      self.radius = 2\n",
        "    return self._radius\n",
        "  @radius.setter\n",
        "  def radius(self, r):\n",
        "    if r <= 0:\n",
        "      raise ValueError(\"radius should be greater than 0\")\n",
        "    self._radius = r"
      ],
      "execution_count": 11,
      "outputs": []
    },
    {
      "cell_type": "markdown",
      "metadata": {
        "id": "GEuBsRFYdqoS"
      },
      "source": [
        "- In the test below, contextlib silences the ValueError that occurs with setting the radius to -5"
      ]
    },
    {
      "cell_type": "code",
      "metadata": {
        "id": "pWqFLWMbbq5O",
        "colab": {
          "base_uri": "https://localhost:8080/"
        },
        "outputId": "02a41379-380b-48d2-eb13-5ca5406badcb"
      },
      "source": [
        "if __name__ == '__main__':\n",
        "  import contextlib\n",
        "  setandget = SetAndGet()\n",
        "  #print(setandget.radius)\n",
        "  print_assert(setandget.radius, '1')\n",
        "\n",
        "  setandget.radius = 5\n",
        "  #print(setandget.radius)\n",
        "  print_assert(setandget.radius, '5')\n",
        "\n",
        "  setandget.radius = 3\n",
        "  #print(setandget.radius)\n",
        "  print_assert(setandget.radius, '3')\n",
        "\n",
        "  with contextlib.suppress(ValueError):\n",
        "    setandget.radius = -5\n",
        "  #print(setandget.radius)\n",
        "  print_assert(setandget.radius, '3')"
      ],
      "execution_count": 12,
      "outputs": [
        {
          "output_type": "stream",
          "text": [
            "1\n",
            "5\n",
            "3\n",
            "3\n"
          ],
          "name": "stdout"
        }
      ]
    },
    {
      "cell_type": "markdown",
      "metadata": {
        "id": "95UDzFNYd8lS"
      },
      "source": [
        "- JTProperty() and .setter reduce abstraction involving usage of hidden \"protected variables\"\n",
        "  - setter = True should be set when @radius.setter is used"
      ]
    },
    {
      "cell_type": "code",
      "metadata": {
        "id": "yh2VTbQsN6X_"
      },
      "source": [
        "class JTSetAndGet:\n",
        "  def __init__(self, r = 1):\n",
        "    self.radius = r\n",
        "  @JTProperty(setter = True)\n",
        "  def radius(self):\n",
        "    return 2\n",
        "\n",
        "  @radius.setter\n",
        "  def radius(self, r):\n",
        "    if r <= 0:\n",
        "      raise ValueError(\"radius should be greater than 0\")\n",
        "    return r\n"
      ],
      "execution_count": 13,
      "outputs": []
    },
    {
      "cell_type": "code",
      "metadata": {
        "id": "5ULZHnGxN6X_",
        "colab": {
          "base_uri": "https://localhost:8080/"
        },
        "outputId": "814550f3-e590-40be-9198-1c4c48fbcbd9"
      },
      "source": [
        "if __name__ == '__main__':\n",
        "  import contextlib\n",
        "  setandget = SetAndGet()\n",
        "  print_assert(setandget.radius, '1')\n",
        "\n",
        "  setandget.radius = 5\n",
        "  print_assert(setandget.radius, '5')\n",
        "\n",
        "  setandget.radius = 3\n",
        "  print_assert(setandget.radius, '3')\n",
        "\n",
        "  with contextlib.suppress(ValueError):\n",
        "    setandget.radius = -5\n",
        "  print_assert(setandget.radius, '3')"
      ],
      "execution_count": 14,
      "outputs": [
        {
          "output_type": "stream",
          "text": [
            "1\n",
            "5\n",
            "3\n",
            "3\n"
          ],
          "name": "stdout"
        }
      ]
    },
    {
      "cell_type": "markdown",
      "metadata": {
        "id": "c2z24t4sb-hT"
      },
      "source": [
        "# Automatic Setter \r\n",
        "- The JTProperty decorator allows for automatically generated setters\r\n",
        "- The code below demonstrates the explicit version, followed by the implicit version\r\n",
        "  - The explicit version has the same functionality as the implicit version"
      ]
    },
    {
      "cell_type": "code",
      "metadata": {
        "id": "rdrrZjLLcW35"
      },
      "source": [
        "# writing the setter explicitly\r\n",
        "class SetterDemo:\r\n",
        "  @JTProperty(setter=True)\r\n",
        "  def prop(self):\r\n",
        "    return 1\r\n",
        "  \r\n",
        "  @prop.setter\r\n",
        "  def prop(self, val):\r\n",
        "    return val"
      ],
      "execution_count": 15,
      "outputs": []
    },
    {
      "cell_type": "code",
      "metadata": {
        "colab": {
          "base_uri": "https://localhost:8080/"
        },
        "id": "6Znaz9ihxyiI",
        "outputId": "207692b5-1b67-4ff5-a752-8236c5ed9bd4"
      },
      "source": [
        "if __name__ == \"__main__\":\r\n",
        "  # test setter before getter\r\n",
        "  setter_demo = SetterDemo()\r\n",
        "  setter_demo.prop = 2\r\n",
        "  print_assert(setter_demo.prop, '2')"
      ],
      "execution_count": 16,
      "outputs": [
        {
          "output_type": "stream",
          "text": [
            "2\n"
          ],
          "name": "stdout"
        }
      ]
    },
    {
      "cell_type": "code",
      "metadata": {
        "colab": {
          "base_uri": "https://localhost:8080/"
        },
        "id": "x7R5jBy8xyip",
        "outputId": "e1ef4baa-09a4-428b-b32a-53eae03602d9"
      },
      "source": [
        "if __name__ == \"__main__\":\r\n",
        "  # test getter before setter\r\n",
        "  setter_demo = SetterDemo()\r\n",
        "  print_assert(setter_demo.prop, '1')"
      ],
      "execution_count": 17,
      "outputs": [
        {
          "output_type": "stream",
          "text": [
            "1\n"
          ],
          "name": "stdout"
        }
      ]
    },
    {
      "cell_type": "code",
      "metadata": {
        "id": "-iNAb6VhdCjv"
      },
      "source": [
        "# writing the setter implicitly\r\n",
        "class AutoSetterDemo:\r\n",
        "  @JTProperty(setter=\"Default\")\r\n",
        "  def prop(self):\r\n",
        "    return 1\r\n"
      ],
      "execution_count": 18,
      "outputs": []
    },
    {
      "cell_type": "code",
      "metadata": {
        "colab": {
          "base_uri": "https://localhost:8080/"
        },
        "id": "QHDNEj8AuBbd",
        "outputId": "0eac2869-216e-456a-c2e9-c3c9161bf721"
      },
      "source": [
        "if __name__ == \"__main__\":\r\n",
        "  # test setter before getter\r\n",
        "  auto_setter_demo = AutoSetterDemo()\r\n",
        "  auto_setter_demo.prop = 2\r\n",
        "  print_assert(auto_setter_demo.prop, '2')"
      ],
      "execution_count": 19,
      "outputs": [
        {
          "output_type": "stream",
          "text": [
            "2\n"
          ],
          "name": "stdout"
        }
      ]
    },
    {
      "cell_type": "code",
      "metadata": {
        "colab": {
          "base_uri": "https://localhost:8080/"
        },
        "id": "FjiGvzVYguea",
        "outputId": "c080e357-3347-4f4f-86d7-6e711b1c91b8"
      },
      "source": [
        "if __name__ == \"__main__\":\r\n",
        "  # test getter before setter\r\n",
        "  auto_setter_demo = AutoSetterDemo()\r\n",
        "  print_assert(auto_setter_demo.prop, '1')"
      ],
      "execution_count": 20,
      "outputs": [
        {
          "output_type": "stream",
          "text": [
            "1\n"
          ],
          "name": "stdout"
        }
      ]
    },
    {
      "cell_type": "markdown",
      "metadata": {
        "id": "rhQOQ2whNm5C"
      },
      "source": [
        "# Graph Dependencies \r\n"
      ]
    },
    {
      "cell_type": "markdown",
      "metadata": {
        "id": "BnKu1o5uU8GV"
      },
      "source": [
        "\r\n",
        "<img src=\"https://drive.google.com/uc?export=view&id=149jAbjHU9BWt_W5pRYqn0bQbLFVz-w8y\" width=\"300\" align=\"right\"> \r\n",
        "\r\n",
        "- Consider a graph as shown to the right:\r\n",
        "    1. if a updates, then b updates, then d updates\r\n",
        "    1. if b updates, then d updates\r\n",
        "    1. if c updates, then d updates \r\n",
        "    1. if d updates, nothin happens bro \r\n",
        "\r\n",
        "## More Implementational Details\r\n",
        "\r\n",
        "- Note a few important features in regards to the implementation:\r\n",
        "  - If a node variable is None, graph traversal stemming from that node is stopped\r\n",
        "    - Consider case 1 as an example:\r\n",
        "      - If b is None and a is updated, then d does not get updated because b stops the traversal\r\n",
        "      - When a variable is set to some initial value, there is no dependency graph traversal stemming from that node\r\n",
        "  - Whenever upstream variables \"update\" they are actually set to None\r\n",
        "    - This reduces memory load and uneccessary computation when not needed\r\n",
        "    - These variables are computated only when called\r\n",
        "\r\n",
        "\r\n"
      ]
    },
    {
      "cell_type": "markdown",
      "metadata": {
        "id": "XgzAEUrJN_zs"
      },
      "source": [
        "## Examples \r\n",
        "\r\n",
        "- An example use case is shown below: \r\n"
      ]
    },
    {
      "cell_type": "code",
      "metadata": {
        "id": "ldQ3GRKSjp30"
      },
      "source": [
        "class GraphDemo:\r\n",
        "  @JTProperty(setter = \"Default\")\r\n",
        "  def a(self):\r\n",
        "    return 'a'\r\n",
        "\r\n",
        "  @JTProperty(setter = \"Default\", deps = 'a')\r\n",
        "  def b(self):\r\n",
        "    return self.a + '->b'\r\n",
        "  \r\n",
        "  @JTProperty(setter = \"Default\")\r\n",
        "  def c(self):\r\n",
        "    return 'c'\r\n",
        "\r\n",
        "  @JTProperty(setter = \"Default\", deps = ['c', 'b'])\r\n",
        "  def d(self):\r\n",
        "    return self.b + '->d' + ' and ' + self.c + '->d'"
      ],
      "execution_count": 21,
      "outputs": []
    },
    {
      "cell_type": "code",
      "metadata": {
        "colab": {
          "base_uri": "https://localhost:8080/"
        },
        "id": "UUxMr0kElobH",
        "outputId": "ac849e32-7df7-4fa5-f5fb-9ebdf72a01cc"
      },
      "source": [
        "if __name__ == '__main__':\r\n",
        "  graph_demo = GraphDemo()\r\n",
        "  print_assert(graph_demo.d, 'a->b->d and c->d')\r\n",
        "  graph_demo.a = 'A'\r\n",
        "  print_assert(graph_demo.d, 'A->b->d and c->d')\r\n",
        "  JTProperty.cls_name2graph[type(graph_demo).__name__].disp()\r\n",
        "  #displaying graph\r\n",
        "  #_a points to {'_b'}\r\n",
        "  #_b points to {'_d'}\r\n",
        "  #_c points to {'_d'}\r\n",
        "  #_d points to set()"
      ],
      "execution_count": 22,
      "outputs": [
        {
          "output_type": "stream",
          "text": [
            "a->b->d and c->d\n",
            "A->b->d and c->d\n",
            "displaying graph\n",
            "_a points to {'_b'}\n",
            "_b points to {'_d'}\n",
            "_c points to {'_d'}\n",
            "_d points to set()\n"
          ],
          "name": "stdout"
        }
      ]
    },
    {
      "cell_type": "code",
      "metadata": {
        "colab": {
          "base_uri": "https://localhost:8080/"
        },
        "id": "w6D-ULY1-y4b",
        "outputId": "690b130e-45b9-46cb-897f-1f399ebeea26"
      },
      "source": [
        "if __name__ == '__main__':\r\n",
        "  graph_demo = GraphDemo()\r\n",
        "  graph_demo.d = 'a->b->d and c->d'\r\n",
        "  graph_demo.a = 'A'\r\n",
        "  print_assert(graph_demo._d, 'a->b->d and c->d')\r\n",
        "  print_assert(graph_demo.d, 'a->b->d and c->d')\r\n",
        "  JTProperty.cls_name2graph[type(graph_demo).__name__].disp()\r\n",
        "  #displaying graph\r\n",
        "  #_a points to {'_b'}\r\n",
        "  #_b points to {'_d'}\r\n",
        "  #_c points to {'_d'}\r\n",
        "  #_d points to set()"
      ],
      "execution_count": 23,
      "outputs": [
        {
          "output_type": "stream",
          "text": [
            "a->b->d and c->d\n",
            "a->b->d and c->d\n",
            "displaying graph\n",
            "_a points to {'_b'}\n",
            "_b points to {'_d'}\n",
            "_c points to {'_d'}\n",
            "_d points to set()\n"
          ],
          "name": "stdout"
        }
      ]
    },
    {
      "cell_type": "markdown",
      "metadata": {
        "id": "NOrY_8jfabuA"
      },
      "source": [
        "## Circular Graph Dependencies\r\n",
        "<img src=\"https://drive.google.com/uc?export=view&id=1U1QLwQMqZxv77M0GU1UAMNt4kYO4JNqO\" width=\"300\" align = \"right\"> \r\n",
        "- Consider the graph to the right:\r\n",
        "  1. If A updates, B updates, then C and D\r\n",
        "  1. If B updates, A updates, then C and D\r\n",
        "  1. If C updates, D updates, then A and B\r\n",
        "  1. If D updates, A updates, then B and C\r\n",
        "- Circular Graph Dependencies are like normal dependencies, however there can be specific problems when using them such as infinite recursive calls, for example:\r\n",
        "  - Say that C is set to some value ___c___\r\n",
        "  - When self.b is called, it calls:\r\n",
        "    - self.a, which calls\r\n",
        "      - self.b and self.d\r\n",
        "        - self.d calls self.c which returns ___c___\r\n",
        "        - self.b calls self.a\r\n",
        "  - We can see there is a recursive problem here as self.a calls self.b and vice versa since these values have not been preset to some initial value, however there is no problem with self.d because it depends only on self.c which is set to ___c___\r\n",
        "  - Now, consider a set to some value ___a___\r\n",
        "    - When self.d is called, it calls\r\n",
        "      - self.c which calls\r\n",
        "        - self.b which calls\r\n",
        "          - self.a which resolves to ___a___\r\n",
        "    - Here, the value of self.d evaluates to some value, hence there are no problems\r\n",
        "\r\n",
        "\r\n",
        "\r\n",
        "\r\n"
      ]
    },
    {
      "cell_type": "code",
      "metadata": {
        "id": "HprnYhX-AFWY"
      },
      "source": [
        "class GraphDemo2:\r\n",
        "  @JTProperty(setter = \"Default\", deps = ['b', 'd'])\r\n",
        "  def a(self):\r\n",
        "    return self.b + '->a and ' + self.d + '->a'\r\n",
        "\r\n",
        "  @JTProperty(setter = \"Default\", deps = 'a')\r\n",
        "  def b(self):\r\n",
        "    return self.a + '->b'\r\n",
        "  \r\n",
        "  @JTProperty(setter = \"Default\", deps = 'b')\r\n",
        "  def c(self):\r\n",
        "    return self.b + '->c'\r\n",
        "\r\n",
        "  @JTProperty(setter = \"Default\", deps = ['c'])\r\n",
        "  def d(self):\r\n",
        "    return self.c + '->d'"
      ],
      "execution_count": 24,
      "outputs": []
    },
    {
      "cell_type": "code",
      "metadata": {
        "colab": {
          "base_uri": "https://localhost:8080/"
        },
        "id": "AM0x_IxaBX_K",
        "outputId": "ce9fe75c-5f0a-4d64-fe55-1c63f69f7c56"
      },
      "source": [
        "if __name__ == '__main__':\r\n",
        "  graph_demo = GraphDemo2()\r\n",
        "  JTProperty.cls_name2graph[type(graph_demo).__name__].disp()\r\n",
        "  #displaying graph\r\n",
        "  #_b points to {'_c', '_a'}\r\n",
        "  #_a points to {'_b'}\r\n",
        "  #_c points to {'_d'}\r\n",
        "  #_d points to {'_a'}\r\n",
        "\r\n",
        "  # tests if setter for .b resets ._a accidentally\r\n",
        "  graph_demo = GraphDemo2()\r\n",
        "  graph_demo.a = 'a'\r\n",
        "  print_assert(graph_demo.a, 'a')\r\n",
        "  print_assert(graph_demo.b, 'a->b')\r\n",
        "  print_assert(graph_demo._a, 'a')\r\n",
        "  \r\n",
        "  graph_demo = GraphDemo2()\r\n",
        "  print(\"graph_demo.a = 'a':\")\r\n",
        "  graph_demo.a = 'a'\r\n",
        "  print_assert(graph_demo.b, 'a->b')\r\n",
        "  print_assert(graph_demo.c, 'a->b->c')\r\n",
        "  print_assert(graph_demo.d, 'a->b->c->d')\r\n",
        "  \r\n",
        "  graph_demo = GraphDemo2()\r\n",
        "  print(\"graph_demo.b = 'b':\")\r\n",
        "  graph_demo.b = 'b'\r\n",
        "  print_assert(graph_demo.d, 'b->c->d')\r\n",
        "  print_assert(graph_demo._b, 'b')\r\n",
        "  print_assert(graph_demo.a, 'b->a and b->c->d->a')\r\n",
        "  print_assert(graph_demo.c, 'b->c')\r\n",
        "  \r\n",
        "  # Causes Recursion problems (intentional) <- a and b must be preset since they are dependent on each other\r\n",
        "  #graph_demo = GraphDemo2()\r\n",
        "  #print(\"graph_demo.c = 'c':\")\r\n",
        "  #graph_demo.c = 'c'\r\n",
        "  #print(graph_demo.a)\r\n",
        "  #print(graph_demo.b)\r\n",
        "  #print(graph_demo.d)\r\n",
        "  \r\n",
        "  # Causes Recursion problems (intentional) <- a and b must be preset since they are dependent on each other\r\n",
        "  #graph_demo = GraphDemo2()\r\n",
        "  #graph_demo.d = 'd'\r\n",
        "  #print(graph_demo.a)\r\n",
        "  #print(graph_demo.b)\r\n",
        "  #print(graph_demo.c)"
      ],
      "execution_count": 25,
      "outputs": [
        {
          "output_type": "stream",
          "text": [
            "displaying graph\n",
            "_b points to {'_c', '_a'}\n",
            "_d points to {'_a'}\n",
            "_a points to {'_b'}\n",
            "_c points to {'_d'}\n",
            "a\n",
            "a->b\n",
            "a\n",
            "graph_demo.a = 'a':\n",
            "a->b\n",
            "a->b->c\n",
            "a->b->c->d\n",
            "graph_demo.b = 'b':\n",
            "b->c->d\n",
            "b\n",
            "b->a and b->c->d->a\n",
            "b->c\n"
          ],
          "name": "stdout"
        }
      ]
    },
    {
      "cell_type": "markdown",
      "metadata": {
        "id": "tBrf3sMWQvba"
      },
      "source": [
        "# Areas Of Improvement\n",
        "  - Introduce setter detection to reduce uneccessary setter = True kwargs\n",
        "  - Dependency graphs + inheritence using graph clusters\n",
        "  - Multithreaded dependency dependency computation\n"
      ]
    },
    {
      "cell_type": "markdown",
      "metadata": {
        "id": "2obcsQyzez5p"
      },
      "source": [
        "# Debates\r\n",
        "- Whenever a node is updated should all downstream dependencies be set to None?\r\n",
        "- Consider a graph that looks like this:\r\n",
        "  - a->b->c and c->a\r\n",
        "  - consider setting c = ___c___ and then calling a\r\n",
        "    - a depends on c, thus a is set to some value\r\n",
        "      - However the act of setting a causes c to reset to None as via the nature of the DFS graph traversal\r\n",
        "    - Therefore, esseentially only one variable can exist at a time which doesn't make sense within a circular dependency setting\r\n"
      ]
    },
    {
      "cell_type": "code",
      "metadata": {
        "colab": {
          "base_uri": "https://localhost:8080/"
        },
        "id": "UGU0Jp0KOuzL",
        "outputId": "9f1c12af-2c04-477c-c5b7-95de2ff2039c"
      },
      "source": [
        "# checking for any residual threads lyin about\r\n",
        "if __name__ == \"__main__\":\r\n",
        "  print(threading.enumerate())"
      ],
      "execution_count": 26,
      "outputs": [
        {
          "output_type": "stream",
          "text": [
            "[<_MainThread(MainThread, started 140114287675264)>, <Thread(Thread-2, started daemon 140113891698432)>, <Heartbeat(Thread-3, started daemon 140113883305728)>, <ParentPollerUnix(Thread-1, started daemon 140113818961664)>]\n"
          ],
          "name": "stdout"
        }
      ]
    },
    {
      "cell_type": "code",
      "metadata": {
        "id": "utYfMmZekJpR"
      },
      "source": [
        ""
      ],
      "execution_count": 26,
      "outputs": []
    }
  ]
}