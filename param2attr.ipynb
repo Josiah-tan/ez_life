{
  "nbformat": 4,
  "nbformat_minor": 0,
  "metadata": {
    "colab": {
      "name": "param2attr.ipynb",
      "provenance": [],
      "collapsed_sections": [],
      "authorship_tag": "ABX9TyNUehOvCbXvjuF8MuXv/Yi3",
      "include_colab_link": true
    },
    "kernelspec": {
      "name": "python3",
      "display_name": "Python 3"
    }
  },
  "cells": [
    {
      "cell_type": "markdown",
      "metadata": {
        "id": "view-in-github",
        "colab_type": "text"
      },
      "source": [
        "<a href=\"https://colab.research.google.com/github/Josiah-tan/ez_life/blob/main/param2attr.ipynb\" target=\"_parent\"><img src=\"https://colab.research.google.com/assets/colab-badge.svg\" alt=\"Open In Colab\"/></a>"
      ]
    },
    {
      "cell_type": "markdown",
      "metadata": {
        "id": "brzlUe0GybHd"
      },
      "source": [
        "# Implementation \n",
        "- Code below implements the desired features for the param2attr idea to make code more concise"
      ]
    },
    {
      "cell_type": "code",
      "metadata": {
        "id": "d6qfMq_Ayb4K"
      },
      "source": [
        "import functools\n",
        "class Param2attr:\n",
        "  def __init__(self, exclude = None):\n",
        "    if exclude is None:\n",
        "      self.exclude = []\n",
        "\n",
        "    # exclude = \"some_string\"\n",
        "    elif isinstance(exclude, str) == 1:\n",
        "      self.exclude = [exclude]\n",
        "\n",
        "    else:\n",
        "      self.exclude = exclude\n",
        "\n",
        "  def __call__(self, _func):\n",
        "    functools.wraps(_func)\n",
        "    def wrapper(obj, *args, **kwargs):\n",
        "      [setattr(obj, key, val) for key, val in kwargs.items() if key not in self.exclude]\n",
        "      return _func(obj, *args, **kwargs)\n",
        "    return wrapper"
      ],
      "execution_count": 1,
      "outputs": []
    },
    {
      "cell_type": "markdown",
      "metadata": {
        "id": "iaopPJkTZ0go"
      },
      "source": [
        "#Experimental dev"
      ]
    },
    {
      "cell_type": "code",
      "metadata": {
        "id": "Mvj-I0ByZ6Vt"
      },
      "source": [
        "import inspect\n",
        "import functools\n",
        "class Param2attr:\n",
        "  def __init__(self, exclude = None):\n",
        "    if exclude is None:\n",
        "      self.exclude = []\n",
        "\n",
        "    # exclude = \"some_string\"\n",
        "    elif isinstance(exclude, str) == 1:\n",
        "      self.exclude = [exclude]\n",
        "\n",
        "    else:\n",
        "      self.exclude = exclude\n",
        "\n",
        "  def __call__(self, _func):\n",
        "    functools.wraps(_func)\n",
        "    def wrapper(obj, *args, **kwargs):\n",
        "\n",
        "      # boilerplate code\n",
        "      bound_args = inspect.signature(_func).bind(obj, *args, **kwargs)\n",
        "      bound_args.apply_defaults()\n",
        "      dic = dict(bound_args.arguments)\n",
        "      #print(dic) # uncomment to find contents of dic\n",
        "\n",
        "      dic.pop('self')\n",
        "      _args = dic.pop('args', None)\n",
        "      _kwargs = dic.pop('kwargs', None)\n",
        "\n",
        "      # setting from dict\n",
        "      [setattr(obj, key, val) for key, val in dic.items() if key not in self.exclude]\n",
        "      #setting from extra args\n",
        "      if _args is not None:\n",
        "        [setattr(obj, str(key), key) for key in _args if key not in self.exclude]\n",
        "      #setting from extra kwargs\n",
        "      if _kwargs is not None:\n",
        "        [setattr(obj, key, val) for key, val in _kwargs.items() if key not in self.exclude]\n",
        "\n",
        "      return _func(obj, *args, **kwargs)\n",
        "    return wrapper"
      ],
      "execution_count": 2,
      "outputs": []
    },
    {
      "cell_type": "code",
      "metadata": {
        "id": "4zxpiltDczjo"
      },
      "source": [
        "class Foo:\n",
        "  def __init__(self, arg1, arg2, *args, kwarg1 = 'kwg1', default1 = 'optkwg1', **kwargs):\n",
        "    pass"
      ],
      "execution_count": 3,
      "outputs": []
    },
    {
      "cell_type": "code",
      "metadata": {
        "id": "ZuSZg3USdfum"
      },
      "source": [
        "class Foo:\n",
        "  @Param2attr(exclude = None)\n",
        "  def __init__(self, arg1, arg2, *args, kwarg1 = 'kwg1', default1 = 'optkwg1', **kwargs):\n",
        "    pass"
      ],
      "execution_count": 4,
      "outputs": []
    },
    {
      "cell_type": "code",
      "metadata": {
        "colab": {
          "base_uri": "https://localhost:8080/"
        },
        "id": "ts2fg4kxd7xN",
        "outputId": "48d4c795-fd5a-462c-acff-d48aa8a84aef"
      },
      "source": [
        "foo = Foo(1, 'ag2', 'ag3', 4, kwarg1 = 'kwargv1', kwarg2 = 'kwargv2')\n",
        "print(dir(foo))\n",
        "print(foo.arg1)\n",
        "print(foo.arg2)\n",
        "print(foo.ag3)\n",
        "print(getattr(foo, '4')) # can't get attribute 4 via foo.4, gives synthax error\n",
        "print(type(getattr(foo, '4')))\n",
        "print(foo.kwarg1)\n",
        "print(foo.kwarg2)\n",
        "print(foo.default1)"
      ],
      "execution_count": 5,
      "outputs": [
        {
          "output_type": "stream",
          "text": [
            "['4', '__class__', '__delattr__', '__dict__', '__dir__', '__doc__', '__eq__', '__format__', '__ge__', '__getattribute__', '__gt__', '__hash__', '__init__', '__init_subclass__', '__le__', '__lt__', '__module__', '__ne__', '__new__', '__reduce__', '__reduce_ex__', '__repr__', '__setattr__', '__sizeof__', '__str__', '__subclasshook__', '__weakref__', 'ag3', 'arg1', 'arg2', 'default1', 'kwarg1', 'kwarg2']\n",
            "1\n",
            "ag2\n",
            "ag3\n",
            "4\n",
            "<class 'int'>\n",
            "kwargv1\n",
            "kwargv2\n",
            "optkwg1\n"
          ],
          "name": "stdout"
        }
      ]
    },
    {
      "cell_type": "markdown",
      "metadata": {
        "id": "VOBFIc9VuWXN"
      },
      "source": [
        "# Param2attr\n",
        "- The objective of this class decorator is to automate creation of class attributes from kwargs passed into an \\_\\_init\\_\\_ method \n",
        "  - (note: this does not work for args)\n",
        "- Say we have a class that looks like this:"
      ]
    },
    {
      "cell_type": "code",
      "metadata": {
        "id": "zgrh4vHitxp9"
      },
      "source": [
        "class Foo:\n",
        "  def __init__(self, param1 = None, param2 = None, param3 = None):\n",
        "    # This sux\n",
        "    self.param1 = param1\n",
        "    self.param2 = param2\n",
        "    self.param3 = param3"
      ],
      "execution_count": 6,
      "outputs": []
    },
    {
      "cell_type": "markdown",
      "metadata": {
        "id": "W8hgfqKyvwyx"
      },
      "source": [
        "- We can instead create a class that looks like this, using a property decorator to perform the param to attribute assignments"
      ]
    },
    {
      "cell_type": "code",
      "metadata": {
        "id": "XY4kxsdSvc2_"
      },
      "source": [
        "class Foo:\n",
        "  @Param2attr(exclude=None)\n",
        "  def __init__(self, param1 = None, param2 = None, param3 = None):\n",
        "    print(\"hello\")"
      ],
      "execution_count": 7,
      "outputs": []
    },
    {
      "cell_type": "code",
      "metadata": {
        "colab": {
          "base_uri": "https://localhost:8080/"
        },
        "id": "7VieXHO80UMq",
        "outputId": "b795fa77-8606-4a59-94cd-3591699d271a"
      },
      "source": [
        "foo = Foo(param1 = \"john\", param2 = \"hog\", param3 = \"sam\")\n",
        "dir(foo)[-4:]"
      ],
      "execution_count": 8,
      "outputs": [
        {
          "output_type": "stream",
          "text": [
            "hello\n"
          ],
          "name": "stdout"
        },
        {
          "output_type": "execute_result",
          "data": {
            "text/plain": [
              "['__weakref__', 'param1', 'param2', 'param3']"
            ]
          },
          "metadata": {
            "tags": []
          },
          "execution_count": 8
        }
      ]
    },
    {
      "cell_type": "markdown",
      "metadata": {
        "id": "cOvVaJQbxKbN"
      },
      "source": [
        "# Exclude\n",
        "- The optional exclude parameter excludes any parameters in creating attributes for the class\n",
        "  - You can specify this as a list"
      ]
    },
    {
      "cell_type": "code",
      "metadata": {
        "id": "34r9Af-swkIq"
      },
      "source": [
        "class Foo:\n",
        "  def __init__(self, param1, param2, param3):\n",
        "    self.param3 = param3\n",
        "\n",
        "# is the same as\n",
        "\n",
        "class Foo:\n",
        "  @Param2attr(exclude=['param1', 'param2'])\n",
        "  def __init__(self, param1 = None, param2 = None, param3 = None):\n",
        "    pass"
      ],
      "execution_count": 9,
      "outputs": []
    },
    {
      "cell_type": "code",
      "metadata": {
        "colab": {
          "base_uri": "https://localhost:8080/"
        },
        "id": "WGeh5XQT52R7",
        "outputId": "24c7b45b-b8bc-4e44-ccb3-b494d0880605"
      },
      "source": [
        "foo = Foo(param1 = \"john\", param2 = \"hog\", param3 = \"sam\")\n",
        "dir(foo)[-3:]"
      ],
      "execution_count": 10,
      "outputs": [
        {
          "output_type": "execute_result",
          "data": {
            "text/plain": [
              "['__subclasshook__', '__weakref__', 'param3']"
            ]
          },
          "metadata": {
            "tags": []
          },
          "execution_count": 10
        }
      ]
    },
    {
      "cell_type": "markdown",
      "metadata": {
        "id": "cH7-sMM_-yor"
      },
      "source": [
        "- You can also specify the exclude param as a string"
      ]
    },
    {
      "cell_type": "code",
      "metadata": {
        "id": "C3Pn9J6x7iiq"
      },
      "source": [
        "class Foo:\n",
        "  def __init__(self, param1, param2, param3):\n",
        "    self.param3 = param3\n",
        "\n",
        "# is the same as\n",
        "\n",
        "class Foo:\n",
        "  @Param2attr(exclude='param1')\n",
        "  def __init__(self, param1 = None, param2 = None, param3 = None):\n",
        "    pass"
      ],
      "execution_count": 11,
      "outputs": []
    },
    {
      "cell_type": "code",
      "metadata": {
        "colab": {
          "base_uri": "https://localhost:8080/"
        },
        "id": "1v1CiSuU8veG",
        "outputId": "65763032-cc14-46e8-d178-771be440940b"
      },
      "source": [
        "foo = Foo(param1 = \"john\", param2 = \"hog\", param3 = \"sam\")\n",
        "dir(foo)[-3:]"
      ],
      "execution_count": 12,
      "outputs": [
        {
          "output_type": "execute_result",
          "data": {
            "text/plain": [
              "['__weakref__', 'param2', 'param3']"
            ]
          },
          "metadata": {
            "tags": []
          },
          "execution_count": 12
        }
      ]
    },
    {
      "cell_type": "code",
      "metadata": {
        "id": "WhY1y2ho98s6"
      },
      "source": [
        ""
      ],
      "execution_count": 12,
      "outputs": []
    },
    {
      "cell_type": "code",
      "metadata": {
        "id": "JERuRueY9vlZ"
      },
      "source": [
        ""
      ],
      "execution_count": 12,
      "outputs": []
    }
  ]
}