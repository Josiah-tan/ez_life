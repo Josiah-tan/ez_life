{
  "nbformat": 4,
  "nbformat_minor": 0,
  "metadata": {
    "colab": {
      "name": "param2attr.ipynb",
      "provenance": [],
      "authorship_tag": "ABX9TyOuUqlW7ISRBQYo8++90N7Q",
      "include_colab_link": true
    },
    "kernelspec": {
      "name": "python3",
      "display_name": "Python 3"
    }
  },
  "cells": [
    {
      "cell_type": "markdown",
      "metadata": {
        "id": "view-in-github",
        "colab_type": "text"
      },
      "source": [
        "<a href=\"https://colab.research.google.com/github/Josiah-tan/py_misc/blob/main/param2attr.ipynb\" target=\"_parent\"><img src=\"https://colab.research.google.com/assets/colab-badge.svg\" alt=\"Open In Colab\"/></a>"
      ]
    },
    {
      "cell_type": "markdown",
      "metadata": {
        "id": "brzlUe0GybHd"
      },
      "source": [
        "# Implementation \n",
        "- Code below implements the desired features for the param2attr idea to make code more concise"
      ]
    },
    {
      "cell_type": "code",
      "metadata": {
        "id": "d6qfMq_Ayb4K"
      },
      "source": [
        "import functools\n",
        "class Param2attr:\n",
        "  def __init__(self, exclude = None):\n",
        "    if exclude is None:\n",
        "      self.exclude = []\n",
        "\n",
        "    # exclude = \"some string\"\n",
        "    elif isinstance(exclude, str) == 1:\n",
        "      self.exclude = [exclude]\n",
        "\n",
        "    else:\n",
        "      self.exclude = exclude\n",
        "\n",
        "  def __call__(self, _func):\n",
        "    functools.wraps(_func)\n",
        "    def wrapper(obj, *args, **kwargs):\n",
        "      [setattr(obj, key, val) for key, val in kwargs.items() if key not in self.exclude]\n",
        "      return _func(obj, *args, **kwargs)\n",
        "    return wrapper"
      ],
      "execution_count": 137,
      "outputs": []
    },
    {
      "cell_type": "markdown",
      "metadata": {
        "id": "VOBFIc9VuWXN"
      },
      "source": [
        "# Param2attr\n",
        "- The objective of this class decorator is to automate creation of class attributes from kwargs passed into an \\_\\_init\\_\\_ method \n",
        "  - (note: this does not work for args)\n",
        "- Say we have a class that looks like this:"
      ]
    },
    {
      "cell_type": "code",
      "metadata": {
        "id": "zgrh4vHitxp9"
      },
      "source": [
        "class Foo:\n",
        "  def __init__(self, param1 = None, param2 = None, param3 = None):\n",
        "    # This sux\n",
        "    self.param1 = param1\n",
        "    self.param2 = param2\n",
        "    self.param3 = param3"
      ],
      "execution_count": 138,
      "outputs": []
    },
    {
      "cell_type": "markdown",
      "metadata": {
        "id": "W8hgfqKyvwyx"
      },
      "source": [
        "- We can instead create a class that looks like this, using a property decorator to perform the param to attribute assignments"
      ]
    },
    {
      "cell_type": "code",
      "metadata": {
        "id": "XY4kxsdSvc2_"
      },
      "source": [
        "class Foo:\n",
        "  @Param2attr(exclude=None)\n",
        "  def __init__(self, param1 = None, param2 = None, param3 = None):\n",
        "    print(\"hello\")"
      ],
      "execution_count": 139,
      "outputs": []
    },
    {
      "cell_type": "code",
      "metadata": {
        "colab": {
          "base_uri": "https://localhost:8080/"
        },
        "id": "7VieXHO80UMq",
        "outputId": "94734d41-1c56-45a9-84b5-04a8e66498dc"
      },
      "source": [
        "foo = Foo(param1 = \"john\", param2 = \"hog\", param3 = \"sam\")\n",
        "dir(foo)[-4:]"
      ],
      "execution_count": 140,
      "outputs": [
        {
          "output_type": "stream",
          "text": [
            "hello\n"
          ],
          "name": "stdout"
        },
        {
          "output_type": "execute_result",
          "data": {
            "text/plain": [
              "['__weakref__', 'param1', 'param2', 'param3']"
            ]
          },
          "metadata": {
            "tags": []
          },
          "execution_count": 140
        }
      ]
    },
    {
      "cell_type": "markdown",
      "metadata": {
        "id": "cOvVaJQbxKbN"
      },
      "source": [
        "# Exclude\n",
        "- The optional exclude parameter excludes any parameters in creating attributes for the class\n",
        "  - You can specify this as a list"
      ]
    },
    {
      "cell_type": "code",
      "metadata": {
        "id": "34r9Af-swkIq"
      },
      "source": [
        "class Foo:\n",
        "  def __init__(self, param1, param2, param3):\n",
        "    self.param3 = param3\n",
        "\n",
        "# is the same as\n",
        "\n",
        "class Foo:\n",
        "  @Param2attr(exclude=['param1', 'param2'])\n",
        "  def __init__(self, param1 = None, param2 = None, param3 = None):\n",
        "    pass"
      ],
      "execution_count": 141,
      "outputs": []
    },
    {
      "cell_type": "code",
      "metadata": {
        "colab": {
          "base_uri": "https://localhost:8080/"
        },
        "id": "WGeh5XQT52R7",
        "outputId": "0131bf62-2eec-41b5-a7a6-42226c0c18d7"
      },
      "source": [
        "foo = Foo(param1 = \"john\", param2 = \"hog\", param3 = \"sam\")\n",
        "dir(foo)[-3:]"
      ],
      "execution_count": 142,
      "outputs": [
        {
          "output_type": "execute_result",
          "data": {
            "text/plain": [
              "['__subclasshook__', '__weakref__', 'param3']"
            ]
          },
          "metadata": {
            "tags": []
          },
          "execution_count": 142
        }
      ]
    },
    {
      "cell_type": "markdown",
      "metadata": {
        "id": "cH7-sMM_-yor"
      },
      "source": [
        "- You can also specify the exclude param as a string"
      ]
    },
    {
      "cell_type": "code",
      "metadata": {
        "id": "C3Pn9J6x7iiq"
      },
      "source": [
        "class Foo:\n",
        "  def __init__(self, param1, param2, param3):\n",
        "    self.param3 = param3\n",
        "\n",
        "# is the same as\n",
        "\n",
        "class Foo:\n",
        "  @Param2attr(exclude='param1')\n",
        "  def __init__(self, param1 = None, param2 = None, param3 = None):\n",
        "    pass"
      ],
      "execution_count": 143,
      "outputs": []
    },
    {
      "cell_type": "code",
      "metadata": {
        "colab": {
          "base_uri": "https://localhost:8080/"
        },
        "id": "1v1CiSuU8veG",
        "outputId": "33b73056-db17-4589-9124-75ed415ef8a9"
      },
      "source": [
        "foo = Foo(param1 = \"john\", param2 = \"hog\", param3 = \"sam\")\n",
        "dir(foo)[-3:]"
      ],
      "execution_count": 144,
      "outputs": [
        {
          "output_type": "execute_result",
          "data": {
            "text/plain": [
              "['__weakref__', 'param2', 'param3']"
            ]
          },
          "metadata": {
            "tags": []
          },
          "execution_count": 144
        }
      ]
    },
    {
      "cell_type": "code",
      "metadata": {
        "id": "WhY1y2ho98s6"
      },
      "source": [
        ""
      ],
      "execution_count": 144,
      "outputs": []
    },
    {
      "cell_type": "code",
      "metadata": {
        "id": "JERuRueY9vlZ"
      },
      "source": [
        ""
      ],
      "execution_count": 144,
      "outputs": []
    }
  ]
}