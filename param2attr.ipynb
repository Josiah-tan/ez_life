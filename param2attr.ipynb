{
  "nbformat": 4,
  "nbformat_minor": 0,
  "metadata": {
    "colab": {
      "name": "param2attr.ipynb",
      "provenance": [],
      "authorship_tag": "ABX9TyMHSNY6b6eSbQkUhQBZI/UU",
      "include_colab_link": true
    },
    "kernelspec": {
      "name": "python3",
      "display_name": "Python 3"
    }
  },
  "cells": [
    {
      "cell_type": "markdown",
      "metadata": {
        "id": "view-in-github",
        "colab_type": "text"
      },
      "source": [
        "<a href=\"https://colab.research.google.com/github/Josiah-tan/py_misc/blob/main/param2attr.ipynb\" target=\"_parent\"><img src=\"https://colab.research.google.com/assets/colab-badge.svg\" alt=\"Open In Colab\"/></a>"
      ]
    },
    {
      "cell_type": "markdown",
      "metadata": {
        "id": "brzlUe0GybHd"
      },
      "source": [
        "# Implementation \n",
        "- Code below implements the desired features for the param2attr idea to make code more concise"
      ]
    },
    {
      "cell_type": "code",
      "metadata": {
        "id": "d6qfMq_Ayb4K"
      },
      "source": [
        "import functools\n",
        "class Param2attr:\n",
        "  def __init__(self, exclude = None):\n",
        "    if exclude is None:\n",
        "      self.exclude = []\n",
        "\n",
        "    # exclude = \"some string\"\n",
        "    elif isinstance(exclude, str) == 1:\n",
        "      self.exclude = [exclude]\n",
        "\n",
        "    else:\n",
        "      self.exclude = exclude\n",
        "\n",
        "  def __call__(self, _func):\n",
        "    functools.wraps(_func)\n",
        "    def wrapper(obj, *args, **kwargs):\n",
        "      [setattr(obj, key, val) for key, val in kwargs.items() if key not in self.exclude]\n",
        "      return _func(obj, *args, **kwargs)\n",
        "    return wrapper"
      ],
      "execution_count": 119,
      "outputs": []
    },
    {
      "cell_type": "markdown",
      "metadata": {
        "id": "VOBFIc9VuWXN"
      },
      "source": [
        "# Param2attr\n",
        "- The objective of this function is to automate creation of class attributes from kwargs passed into an \\_\\_init\\_\\_ method (note: this does not work for args)\n",
        "- Say we have a class that looks like this:"
      ]
    },
    {
      "cell_type": "code",
      "metadata": {
        "id": "zgrh4vHitxp9"
      },
      "source": [
        "class Foo:\n",
        "  def __init__(self, param1 = None, param2 = None, param3 = None):\n",
        "    # This sux\n",
        "    self.param1 = param1\n",
        "    self.param2 = param2\n",
        "    self.param3 = param3"
      ],
      "execution_count": 120,
      "outputs": []
    },
    {
      "cell_type": "markdown",
      "metadata": {
        "id": "W8hgfqKyvwyx"
      },
      "source": [
        "- We can instead create a class that looks like this, using a property decorator to perform the param to attribute assignments"
      ]
    },
    {
      "cell_type": "code",
      "metadata": {
        "id": "XY4kxsdSvc2_"
      },
      "source": [
        "class Foo:\n",
        "  @Param2attr(exclude=None)\n",
        "  def __init__(self, param1 = None, param2 = None, param3 = None):\n",
        "    print(\"hello\")"
      ],
      "execution_count": 121,
      "outputs": []
    },
    {
      "cell_type": "code",
      "metadata": {
        "colab": {
          "base_uri": "https://localhost:8080/"
        },
        "id": "7VieXHO80UMq",
        "outputId": "2deaf115-7c67-42e1-f4b4-2b1784e12a25"
      },
      "source": [
        "foo = Foo(param1 = \"john\", param2 = \"hog\", param3 = \"sam\")\n",
        "dir(foo)[-4:]"
      ],
      "execution_count": 122,
      "outputs": [
        {
          "output_type": "stream",
          "text": [
            "hello\n"
          ],
          "name": "stdout"
        },
        {
          "output_type": "execute_result",
          "data": {
            "text/plain": [
              "['__weakref__', 'param1', 'param2', 'param3']"
            ]
          },
          "metadata": {
            "tags": []
          },
          "execution_count": 122
        }
      ]
    },
    {
      "cell_type": "markdown",
      "metadata": {
        "id": "cOvVaJQbxKbN"
      },
      "source": [
        "# Exclude\n",
        "- The exclude parameter excludes any parameters in creating attributes for the class\n",
        "  - You can specify this as a list"
      ]
    },
    {
      "cell_type": "code",
      "metadata": {
        "id": "34r9Af-swkIq"
      },
      "source": [
        "class Foo:\n",
        "  def __init__(self, param1, param2, param3):\n",
        "    self.param3 = param3\n",
        "\n",
        "# is the same as\n",
        "\n",
        "class Foo:\n",
        "  @Param2attr(exclude=['param1', 'param2'])\n",
        "  def __init__(self, param1 = None, param2 = None, param3 = None):\n",
        "    pass"
      ],
      "execution_count": 123,
      "outputs": []
    },
    {
      "cell_type": "code",
      "metadata": {
        "colab": {
          "base_uri": "https://localhost:8080/"
        },
        "id": "WGeh5XQT52R7",
        "outputId": "16e21161-215f-4907-a59a-835fe6e77365"
      },
      "source": [
        "foo = Foo(param1 = \"john\", param2 = \"hog\", param3 = \"sam\")\n",
        "dir(foo)[-3:]"
      ],
      "execution_count": 124,
      "outputs": [
        {
          "output_type": "execute_result",
          "data": {
            "text/plain": [
              "['__subclasshook__', '__weakref__', 'param3']"
            ]
          },
          "metadata": {
            "tags": []
          },
          "execution_count": 124
        }
      ]
    },
    {
      "cell_type": "markdown",
      "metadata": {
        "id": "cH7-sMM_-yor"
      },
      "source": [
        "- You can also specify the exclude param as a string"
      ]
    },
    {
      "cell_type": "code",
      "metadata": {
        "id": "C3Pn9J6x7iiq"
      },
      "source": [
        "class Foo:\n",
        "  def __init__(self, param1, param2, param3):\n",
        "    self.param3 = param3\n",
        "\n",
        "# is the same as\n",
        "\n",
        "class Foo:\n",
        "  @Param2attr(exclude='param1')\n",
        "  def __init__(self, param1 = None, param2 = None, param3 = None):\n",
        "    pass"
      ],
      "execution_count": 127,
      "outputs": []
    },
    {
      "cell_type": "code",
      "metadata": {
        "colab": {
          "base_uri": "https://localhost:8080/"
        },
        "id": "1v1CiSuU8veG",
        "outputId": "e7c4e759-eec9-4ced-c51e-24bb4bd14598"
      },
      "source": [
        "foo = Foo(param1 = \"john\", param2 = \"hog\", param3 = \"sam\")\n",
        "dir(foo)[-3:]"
      ],
      "execution_count": 128,
      "outputs": [
        {
          "output_type": "execute_result",
          "data": {
            "text/plain": [
              "['__weakref__', 'param2', 'param3']"
            ]
          },
          "metadata": {
            "tags": []
          },
          "execution_count": 128
        }
      ]
    },
    {
      "cell_type": "code",
      "metadata": {
        "id": "WhY1y2ho98s6"
      },
      "source": [
        ""
      ],
      "execution_count": null,
      "outputs": []
    },
    {
      "cell_type": "code",
      "metadata": {
        "id": "JERuRueY9vlZ"
      },
      "source": [
        ""
      ],
      "execution_count": null,
      "outputs": []
    }
  ]
}