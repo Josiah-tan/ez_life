{
  "nbformat": 4,
  "nbformat_minor": 0,
  "metadata": {
    "colab": {
      "name": "param2attr.ipynb",
      "provenance": [],
      "authorship_tag": "ABX9TyPy28jbq4BpodJ2nyIDsp4N",
      "include_colab_link": true
    },
    "kernelspec": {
      "name": "python3",
      "display_name": "Python 3"
    }
  },
  "cells": [
    {
      "cell_type": "markdown",
      "metadata": {
        "id": "view-in-github",
        "colab_type": "text"
      },
      "source": [
        "<a href=\"https://colab.research.google.com/github/Josiah-tan/py_misc/blob/main/param2attr.ipynb\" target=\"_parent\"><img src=\"https://colab.research.google.com/assets/colab-badge.svg\" alt=\"Open In Colab\"/></a>"
      ]
    },
    {
      "cell_type": "markdown",
      "metadata": {
        "id": "VOBFIc9VuWXN"
      },
      "source": [
        "# Param2attr\n",
        "- The objective of this function is to automate creation of class attributes from parameters passed into an \\_\\_init\\_\\_ method\n",
        "- Say we have a class that looks like this:"
      ]
    },
    {
      "cell_type": "code",
      "metadata": {
        "id": "zgrh4vHitxp9"
      },
      "source": [
        "class Foo:\n",
        "  def __init__(self, param1, param2, param3):\n",
        "    # This sux\n",
        "    self.attr1 = param1\n",
        "    self.attr2 = param2\n",
        "    self.attr3 = param3"
      ],
      "execution_count": null,
      "outputs": []
    },
    {
      "cell_type": "markdown",
      "metadata": {
        "id": "W8hgfqKyvwyx"
      },
      "source": [
        "- We can instead create a class that looks like this, using a property decorator to perform the assignments"
      ]
    },
    {
      "cell_type": "code",
      "metadata": {
        "id": "XY4kxsdSvc2_"
      },
      "source": [
        "class Foo:\n",
        "  @param2attr(include=\"all\", exclude=None)\n",
        "  def __init__(self, param1, param2, param3):\n",
        "    pass"
      ],
      "execution_count": null,
      "outputs": []
    }
  ]
}